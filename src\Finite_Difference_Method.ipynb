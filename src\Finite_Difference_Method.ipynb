{
  "nbformat": 4,
  "nbformat_minor": 0,
  "metadata": {
    "colab": {
      "name": "Finite Difference Method",
      "provenance": [],
      "collapsed_sections": [],
      "include_colab_link": true
    },
    "kernelspec": {
      "display_name": "Python 3",
      "language": "python",
      "name": "python3"
    }
  },
  "cells": [
    {
      "cell_type": "markdown",
      "metadata": {
        "id": "view-in-github",
        "colab_type": "text"
      },
      "source": [
        "<a href=\"https://colab.research.google.com/github/JiaminJIAN/20MA573/blob/master/src%5CFinite_Difference_Method.ipynb\" target=\"_parent\"><img src=\"https://colab.research.google.com/assets/colab-badge.svg\" alt=\"Open In Colab\"/></a>"
      ]
    },
    {
      "cell_type": "markdown",
      "metadata": {
        "id": "qvEDbmldW_Zq",
        "colab_type": "text"
      },
      "source": [
        "# Finite Defference Method"
      ]
    },
    {
      "cell_type": "markdown",
      "metadata": {
        "id": "DBcZXc9idXnx",
        "colab_type": "text"
      },
      "source": [
        "## (1) Abstract\n",
        "### 1. Goal:\n",
        "\n",
        "The goal of this course is:\n",
        "* Learn various types of the first order derivative approximation: FFD, BFD, CFD operators\n",
        "* Understand convergence rate of operators\n",
        "* learn python functions\n",
        "\n"
      ]
    },
    {
      "cell_type": "markdown",
      "metadata": {
        "id": "v2G6Z11ldXn0",
        "colab_type": "text"
      },
      "source": [
        "### 2. Problem\n",
        "\n",
        "Let $f(x) = \\sin x$. Plot, with $h = .5$\n",
        "\n",
        "- its explicit first order derivative $f'$, \n",
        "- FFD $\\delta_h f$, \n",
        "- BFD $\\delta_{-h}f$, \n",
        "- and CFD $\\delta_{\\pm h}f$\n",
        "\n"
      ]
    },
    {
      "cell_type": "markdown",
      "metadata": {
        "id": "Fpg950gTdXn0",
        "colab_type": "text"
      },
      "source": [
        "### 3. Anal \n",
        "\n",
        "Given a smooth function $f: \\mathbb R \\mapsto \\mathbb R$, its derivative is\n",
        "\n",
        "$$f'(x) = \\lim_{h\\to 0} \\frac{f(x+h) - f(x)}{h}.$$\n",
        "\n",
        "This means, if $h$ is small enough, then\n",
        "\n",
        "$$f'(x) \\simeq  \\frac{f(x+h) - f(x)}{h} := \\delta_h f.$$\n",
        "\n",
        "We call $\\delta_h$ by Finite Difference (FD) operator. In particular, \n",
        "- If $h>0$, then $\\delta_h$ is Forward Finite Difference (FFD);\n",
        "- If $h<0$, then $\\delta_h$ is Backward Finite Difference (BFD);\n",
        "- The average of FFD and BFD is Central Finite Difference (CFD), denoted by\n",
        "\n",
        "$$\\delta_{\\pm h} f (x) := \\frac 1 2 (\\delta_h f (x) + \\delta_{-h} f(x)) \\simeq f'(x).$$\n",
        "\n"
      ]
    },
    {
      "cell_type": "markdown",
      "metadata": {
        "id": "ZnyUPj08YKc3",
        "colab_type": "text"
      },
      "source": [
        "### 4. Definition(FFD, BFD and CFD)\n",
        "\n",
        "The definition of **FFD** is as follow:\n",
        "\n",
        "$$\\delta_{h} f(x) = \\frac{f(x+h) - f(x)}{h}, \\quad h > 0;$$\n",
        "\n",
        "and for **BFD**\n",
        "\n",
        "$$\\delta_{-h} f(x) = \\frac{f(x-h) - f(x)}{-h} = \\frac{f(x) - f(x-h)}{h}, \\quad h > 0;$$\n",
        "\n",
        " and then for **CFD**\n",
        " \n",
        " $$\\delta_{\\pm h} f (x) = \\frac{f(x+h) - f(x-h)}{2h}, \\quad h>0.$$"
      ]
    },
    {
      "cell_type": "markdown",
      "metadata": {
        "id": "BseH2Lqz0Ypc",
        "colab_type": "text"
      },
      "source": [
        "### 5. Definition(Convergence):\n",
        "\n",
        "Suppose there exists a sequence of number $X_{h}$ s.t. \n",
        "\n",
        "$$\\lim_{h \\to 0} X_{h} = a, $$\n",
        "\n",
        "then we say $X_h$ is convergence to a.\n",
        "\n",
        "If\n",
        "\n",
        "$$|X_{h} - a| < K h^{\\alpha}$$ \n",
        "\n",
        "for some $K >0$, then we say $X_{h} \\to a$ with order $\\alpha$.\n",
        "\n"
      ]
    },
    {
      "cell_type": "markdown",
      "metadata": {
        "id": "mr6zNdONdXn1",
        "colab_type": "text"
      },
      "source": [
        "### 6. Proposition\n",
        "\n",
        "\n",
        "- Both FFD and BFD has convergence order $1$; i.e.\n",
        "\n",
        "$$|\\delta_h f(x) - f'(x)| = O(h).$$\n",
        "\n",
        "- CFD has convergence order $2$.\n",
        "\n",
        "$$|\\delta_{\\pm h} f(x) - f'(x)| = O(h^2).$$\n",
        "\n",
        "### 7. Exercise\n",
        "\n",
        "Prove the above proposition.\n",
        "\n",
        "**Proof:**\n",
        "\n",
        "By the Taylor expansion, we have\n",
        "\n",
        "$$f(x+h) = f(x) + f'(x)h + \\frac{1}{2} f''(x) h^{2} + O(h^{3}),$$\n",
        "\n",
        "and then \n",
        "\n",
        "$$\\delta_{h} (x) = f'(x) + \\frac{1}{2} f''(x) h + O(h^{2}).$$\n",
        "\n",
        "Since $f \\in C^{2}$, the term $f''(x)$ is bounded. We have\n",
        "\n",
        "$$|\\delta_h f(x) - f'(x)| = |\\frac{1}{2} f''(x) + O(h)|h \\leq K h,$$\n",
        "\n",
        "so FFD has convergence order 1. Similarly we know that BFD has convergence order 1. Using the $-h$ to subsititute the $h$, we have\n",
        "\n",
        "$$\\delta_{-h} (x) = f'(x) - \\frac{1}{2} f''(x) h + O(h^{2}),$$\n",
        "\n",
        "and \n",
        "\n",
        "$$\\delta_{\\pm h} f (x) = f'(x) + O(h^{2}).$$\n",
        "\n",
        "Then we have\n",
        "\n",
        "$$|\\delta_{\\pm h} f(x) - f'(x)|= O(h^{2}).$$\n"
      ]
    },
    {
      "cell_type": "markdown",
      "metadata": {
        "id": "EwEKLYSBdXn2",
        "colab_type": "text"
      },
      "source": [
        "## (2) Code for finite differentiation method"
      ]
    },
    {
      "cell_type": "markdown",
      "metadata": {
        "id": "UbPNoY5nh2LU",
        "colab_type": "text"
      },
      "source": [
        "We shall import all needed packages first."
      ]
    },
    {
      "cell_type": "code",
      "metadata": {
        "id": "KHkxAo0vdXn3",
        "colab_type": "code",
        "colab": {}
      },
      "source": [
        "import numpy as np\n",
        "import matplotlib.pyplot as plt\n"
      ],
      "execution_count": 0,
      "outputs": []
    },
    {
      "cell_type": "markdown",
      "metadata": {
        "id": "w2lnCF64hdID",
        "colab_type": "text"
      },
      "source": [
        "Math operators ffd, bfd, cfd will be defined here as python functions."
      ]
    },
    {
      "cell_type": "code",
      "metadata": {
        "id": "gVcqHdwIdXn6",
        "colab_type": "code",
        "colab": {}
      },
      "source": [
        "def ffd(f, x, h):\n",
        "    return (f(x+h) - f(x))/h\n",
        "\n",
        "def bfd(f, x, h):\n",
        "    return (f(x) - f(x-h))/h\n",
        "\n",
        "def cfd(f, x, h):\n",
        "    return (f(x+h) - f(x-h))/h/2\n",
        "\n"
      ],
      "execution_count": 0,
      "outputs": []
    },
    {
      "cell_type": "markdown",
      "metadata": {
        "id": "_Auu4lMQiWrS",
        "colab_type": "text"
      },
      "source": [
        "Next, for the original function $f(x) = \\sin x$, \n",
        "we shall plot its exact derivative\n",
        "$$f'(x) = \\cos x, $$\n",
        "then, with $h = .5$, plot\n",
        "-  ffd $\\delta_h f$, \n",
        "-  bfd $\\delta_{-h}f$, \n",
        "- and cfd $\\delta_{\\pm}f$"
      ]
    },
    {
      "cell_type": "markdown",
      "metadata": {
        "id": "SpOMPpLCjiVU",
        "colab_type": "text"
      },
      "source": [
        "From the graph, it is obvious that cfd is the closest one to original $f'$."
      ]
    },
    {
      "cell_type": "code",
      "metadata": {
        "id": "OY7f0N5BdXn8",
        "colab_type": "code",
        "outputId": "3477f3ba-754f-4691-b664-a883da7b3be6",
        "colab": {
          "base_uri": "https://localhost:8080/",
          "height": 282
        }
      },
      "source": [
        "h = .5 #step size\n",
        "x_co = np.linspace(0, 2*np.pi, 100)\n",
        "\n",
        "plt.plot(x_co, np.cos(x_co), label = 'cosine')\n",
        "plt.plot(x_co, ffd(np.sin, x_co, h), label = 'FFD')\n",
        "plt.plot(x_co, bfd(np.sin, x_co, h), label = 'BFD')\n",
        "plt.plot(x_co, cfd(np.sin, x_co, h), label = 'CFD')\n",
        "plt.legend()"
      ],
      "execution_count": 0,
      "outputs": [
        {
          "output_type": "execute_result",
          "data": {
            "text/plain": [
              "<matplotlib.legend.Legend at 0x7f1126edc668>"
            ]
          },
          "metadata": {
            "tags": []
          },
          "execution_count": 3
        },
        {
          "output_type": "display_data",
          "data": {
            "image/png": "[encoded data removed]",
            "text/plain": [
              "<Figure size 432x288 with 1 Axes>"
            ]
          },
          "metadata": {
            "tags": []
          }
        }
      ]
    },
    {
      "cell_type": "markdown",
      "metadata": {
        "id": "qKn4KhG_gl5C",
        "colab_type": "text"
      },
      "source": [
        "## (3) Demonstrate the convergence rate\n",
        "\n",
        "### 1. Problem\n",
        "\n",
        "Let $f(x) = \\sin x$. We shall demonstrate its FFD convergence rate being $1$. \n",
        "\n",
        "### 2. Anal \n",
        "\n",
        "Given a smooth function $f: \\mathbb R \\mapsto \\mathbb R$, recall that FFD is defined by\n",
        "\n",
        "$$f'(x) \\simeq  \\frac{f(x+h) - f(x)}{h} := \\delta_h f.$$\n",
        "\n",
        "Moreover, FFD has convergence order $1$; i.e.\n",
        "\n",
        "$$|\\delta_h f(x) - f'(x)| = O(h) \\simeq K h.$$\n",
        "\n",
        "\n",
        "A usual approach to demonstrate the convergence rate $1$ is as follows. Let's denote the aboslute error term (the left hand side of the above equation) as\n",
        "$\\epsilon(h)$ and its convergence rate is $\\alpha$, then the error term behaves as\n",
        "\n",
        "$$\\epsilon(h) \\simeq K h^\\alpha.$$\n",
        "\n",
        "To demonstrate its convergence rate being $1$, we want to visualize $\\alpha =1$. To proceed, we could compute $\\epsilon(h)$ for the values\n",
        "\n",
        "$$h \\in \\{2^{-n}: n = 5, 6, \\ldots, 10\\}.$$\n",
        "\n",
        "Write \n",
        "\n",
        "$$\\epsilon_n = \\epsilon(2^{-n}) \\simeq K 2^{-n\\alpha}.$$\n",
        "\n",
        "Take $log_2$ both sides, we have\n",
        "\n",
        "$$\\log_2 \\epsilon_n \\simeq \\log_2 K -  \\alpha \\cdot n.$$\n",
        "\n",
        "We can plot a $n$ vs $\\ln \\epsilon_n$ as $n$ varies from small number to a big number.\n",
        "If the convergence analysis is correct, the plot shall show a line with slope $\\alpha$."
      ]
    },
    {
      "cell_type": "markdown",
      "metadata": {
        "id": "Y_wqBUqyjEUg",
        "colab_type": "text"
      },
      "source": [
        "### 3. Example:\n",
        "\n",
        "Verify FFD convergence rate with at $\\pi/3$ with $h = 2^{-n}$, where $n$ ranges from 5 to 10."
      ]
    },
    {
      "cell_type": "code",
      "metadata": {
        "id": "jzqedHV6iahA",
        "colab_type": "code",
        "colab": {}
      },
      "source": [
        "import numpy as np\n",
        "import matplotlib.pyplot as plt"
      ],
      "execution_count": 0,
      "outputs": []
    },
    {
      "cell_type": "markdown",
      "metadata": {
        "id": "hJpmUqR8jUP2",
        "colab_type": "text"
      },
      "source": [
        "finite difference operators"
      ]
    },
    {
      "cell_type": "code",
      "metadata": {
        "id": "h6ZTcqzQjYC2",
        "colab_type": "code",
        "colab": {}
      },
      "source": [
        "def ffd(f, x, h):\n",
        "    return (f(x+h) - f(x))/h\n",
        "\n",
        "def bfd(f, x, h):\n",
        "    return (f(x) - f(x-h))/h\n",
        "\n",
        "def cfd(f, x, h):\n",
        "    return (f(x+h) - f(x-h))/h/2\n"
      ],
      "execution_count": 0,
      "outputs": []
    },
    {
      "cell_type": "code",
      "metadata": {
        "id": "wMp105iWjexO",
        "colab_type": "code",
        "colab": {}
      },
      "source": [
        "x_target = np.pi/3 #target point to be examined\n",
        "y_target = np.cos(x_target) #exact derivative value at the target point"
      ],
      "execution_count": 0,
      "outputs": []
    },
    {
      "cell_type": "code",
      "metadata": {
        "id": "JRoL0c0mji3Y",
        "colab_type": "code",
        "colab": {
          "base_uri": "https://localhost:8080/",
          "height": 284
        },
        "outputId": "28dbd893-7372-49e5-8436-f144708fe279"
      },
      "source": [
        "nn = np.arange(5, 11)\n",
        "hh = 1/np.power(2, nn) #step sizes to be taken\n",
        "err = ffd(np.sin, x_target, hh) - y_target #errors corresponding to each step size\n",
        "yy = np.log2(np.abs(err))\n",
        "plt.plot(nn, yy)"
      ],
      "execution_count": 4,
      "outputs": [
        {
          "output_type": "execute_result",
          "data": {
            "text/plain": [
              "[<matplotlib.lines.Line2D at 0x7fe96fa08518>]"
            ]
          },
          "metadata": {
            "tags": []
          },
          "execution_count": 4
        },
        {
          "output_type": "display_data",
          "data": {
            "image/png": "[encoded data removed]",
            "text/plain": [
              "<Figure size 432x288 with 1 Axes>"
            ]
          },
          "metadata": {
            "tags": []
          }
        }
      ]
    },
    {
      "cell_type": "code",
      "metadata": {
        "id": "999Gn58gjwK_",
        "colab_type": "code",
        "colab": {
          "base_uri": "https://localhost:8080/",
          "height": 34
        },
        "outputId": "c8de4bfd-0c94-4dc8-f9a1-4e06cd9b04ea"
      },
      "source": [
        "import scipy.stats as ss\n",
        "out = ss.linregress(nn,yy)\n",
        "print('the convergence order is ' + str(-out[0]))"
      ],
      "execution_count": 5,
      "outputs": [
        {
          "output_type": "stream",
          "text": [
            "the convergence order is 1.0015334755314456\n"
          ],
          "name": "stdout"
        }
      ]
    },
    {
      "cell_type": "markdown",
      "metadata": {
        "id": "muI_QecnjXKr",
        "colab_type": "text"
      },
      "source": [
        "So, from the above code, we can see the FFD converdence rate is 1. For the CFD, we can do same thing as before."
      ]
    },
    {
      "cell_type": "code",
      "metadata": {
        "id": "_glvttk9kBUC",
        "colab_type": "code",
        "colab": {
          "base_uri": "https://localhost:8080/",
          "height": 282
        },
        "outputId": "15cf8013-3c7b-416d-a525-709764ba05cc"
      },
      "source": [
        "err2 = cfd(np.sin, x_target, hh) - y_target #errors corresponding to each step size\n",
        "yy2 = np.log2(np.abs(err2))\n",
        "plt.plot(nn, yy2)"
      ],
      "execution_count": 6,
      "outputs": [
        {
          "output_type": "execute_result",
          "data": {
            "text/plain": [
              "[<matplotlib.lines.Line2D at 0x7fe965d3b630>]"
            ]
          },
          "metadata": {
            "tags": []
          },
          "execution_count": 6
        },
        {
          "output_type": "display_data",
          "data": {
            "image/png": "[encoded data removed]",
            "text/plain": [
              "<Figure size 432x288 with 1 Axes>"
            ]
          },
          "metadata": {
            "tags": []
          }
        }
      ]
    },
    {
      "cell_type": "code",
      "metadata": {
        "id": "9fp01ptGkdHJ",
        "colab_type": "code",
        "colab": {
          "base_uri": "https://localhost:8080/",
          "height": 34
        },
        "outputId": "61a28285-04bc-46a5-9614-46bed5d5e635"
      },
      "source": [
        "out2 = ss.linregress(nn,yy2)\n",
        "print('the convergence order is ' + str(-out2[0]))"
      ],
      "execution_count": 7,
      "outputs": [
        {
          "output_type": "stream",
          "text": [
            "the convergence order is 1.99998839994406\n"
          ],
          "name": "stdout"
        }
      ]
    },
    {
      "cell_type": "markdown",
      "metadata": {
        "id": "HE18AZFOkl2S",
        "colab_type": "text"
      },
      "source": [
        "So we can see the CFD converdence rate is 2."
      ]
    },
    {
      "cell_type": "code",
      "metadata": {
        "id": "Ex7CCtlYkqwa",
        "colab_type": "code",
        "colab": {}
      },
      "source": [
        ""
      ],
      "execution_count": 0,
      "outputs": []
    }
  ]
}