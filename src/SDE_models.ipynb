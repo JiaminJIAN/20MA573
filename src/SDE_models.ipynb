{
  "nbformat": 4,
  "nbformat_minor": 0,
  "metadata": {
    "colab": {
      "name": "SDE models",
      "provenance": [],
      "collapsed_sections": [],
      "authorship_tag": "ABX9TyM/USiMrrnMnaAUkK61tolO",
      "include_colab_link": true
    },
    "kernelspec": {
      "name": "python3",
      "display_name": "Python 3"
    }
  },
  "cells": [
    {
      "cell_type": "markdown",
      "metadata": {
        "id": "view-in-github",
        "colab_type": "text"
      },
      "source": [
        "<a href=\"https://colab.research.google.com/github/JiaminJIAN/20MA573/blob/master/src/SDE_models.ipynb\" target=\"_parent\"><img src=\"https://colab.research.google.com/assets/colab-badge.svg\" alt=\"Open In Colab\"/></a>"
      ]
    },
    {
      "cell_type": "markdown",
      "metadata": {
        "id": "5PWbGVfm0ALA",
        "colab_type": "text"
      },
      "source": [
        "## **SDE models**\n",
        "\n",
        "### **Geometric Brownian motion**\n",
        "\n",
        "We denote by $GBM(s, \\mu, \\sigma^{2})$ the dynamics\n",
        "\n",
        "$$dS_{t} = \\mu S_{t} \\, d t + \\sigma S_{t} \\, d W_{t}, \\, S_{0} = s$$\n",
        "\n",
        "Non-negativity of the GBM process is good for modeling stock price, namely BSM.\n",
        "\n",
        "#### **Exercise 1:**\n",
        "\n",
        "Find $\\log S_{t}$ for $S \\sim GBM(s, \\mu, \\sigma^{2})$.\n",
        "\n",
        "#### **Solution:**\n",
        "\n",
        "Since $dS_{t} = \\mu S_{t} \\, d t + \\sigma S_{t} \\, d W_{t}$, by Itô's lemma, we have\n",
        "\n",
        "$$d \\ln S_{t} = \\Big[ 0 + \\mu S_{t} \\frac{1}{S_{t}} + \\frac{1}{2} \\sigma^{2} S_{t}^{2}(- \\frac{1}{S_{t}^{2}}) \\Big ]  \\, d t + \\sigma S_{t} \\frac{1}{S_{t}} \\, d W_{t},$$ \n",
        "\n",
        "then we know that\n",
        "\n",
        "$$d \\ln S_{t} =(\\mu - \\frac{1}{2} \\sigma^{2}) \\, d t + \\sigma d W_{t}.$$\n",
        "\n",
        "As $S_{0} = s$, we take integral from 0 to $t$ on the both side, then we have\n",
        "\n",
        "$$\\ln S_{t} - \\ln s = \\int_{0}^{t} (\\mu - \\frac{1}{2} \\sigma^{2}) \\, d r + \\int_{0}^{t} \\sigma d W_{r},$$\n",
        "\n",
        "so we know that\n",
        "\n",
        "$$\\ln S_{t} - \\ln s = (\\mu - \\frac{1}{2} \\sigma^{2}) t + \\sigma W_{t}.$$\n",
        "\n",
        "we get that $\\ln S_{t} = \\ln s + (\\mu - \\frac{1}{2} \\sigma^{2}) t + \\sigma W_{t}$, so $\\ln S_{t}$ is a Arithmetric Brownian motion."
      ]
    }
  ]
}