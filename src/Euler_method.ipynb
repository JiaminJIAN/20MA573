{
  "nbformat": 4,
  "nbformat_minor": 0,
  "metadata": {
    "colab": {
      "name": "Euler method.ipynb",
      "provenance": [],
      "toc_visible": true,
      "authorship_tag": "ABX9TyPdO1rhPWCyxKCC2EABX/aX",
      "include_colab_link": true
    },
    "kernelspec": {
      "name": "python3",
      "display_name": "Python 3"
    }
  },
  "cells": [
    {
      "cell_type": "markdown",
      "metadata": {
        "id": "view-in-github",
        "colab_type": "text"
      },
      "source": [
        "<a href=\"https://colab.research.google.com/github/JiaminJIAN/20MA573/blob/master/src/Euler_method.ipynb\" target=\"_parent\"><img src=\"https://colab.research.google.com/assets/colab-badge.svg\" alt=\"Open In Colab\"/></a>"
      ]
    },
    {
      "cell_type": "code",
      "metadata": {
        "id": "a3a1sUVJZ3MK",
        "colab_type": "code",
        "colab": {}
      },
      "source": [
        "import numpy as np\n",
        "import scipy.optimize as so\n",
        "import scipy.stats as ss\n",
        "import matplotlib.pyplot as plt\n",
        "from pylab import plt\n",
        "plt.style.use('seaborn')\n",
        "%matplotlib inline"
      ],
      "execution_count": 0,
      "outputs": []
    },
    {
      "cell_type": "code",
      "metadata": {
        "id": "wgT_XiJXaI6I",
        "colab_type": "code",
        "outputId": "c2a8d38a-ce3b-4c2d-beca-b4dbfcb9cdcf",
        "colab": {
          "base_uri": "https://localhost:8080/",
          "height": 170
        }
      },
      "source": [
        "#Read four-column data\n",
        "#columns are otype, maturity, strike, option_price\n",
        "np_option_data = np.loadtxt('20optiondata2.dat', comments='#', delimiter=',')\n",
        "\n",
        "print('>>>>>>otype, maturity, strike, option_price')\n",
        "print(np_option_data)"
      ],
      "execution_count": 44,
      "outputs": [
        {
          "output_type": "stream",
          "text": [
            ">>>>>>otype, maturity, strike, option_price\n",
            "[[  1.           0.16666667  97.           5.32705461]\n",
            " [  1.           0.16666667  99.           3.86224255]\n",
            " [  1.           0.16666667 101.           2.7204371 ]\n",
            " [  1.           0.16666667 103.           2.1202793 ]\n",
            " [  1.           0.41666667  97.           7.23756307]\n",
            " [  1.           0.41666667  99.           5.95053461]\n",
            " [  1.           0.41666667 101.           5.2640122 ]\n",
            " [  1.           0.41666667 103.           4.97493422]]\n"
          ],
          "name": "stdout"
        }
      ]
    },
    {
      "cell_type": "code",
      "metadata": {
        "id": "-jSAt2L7aM8g",
        "colab_type": "code",
        "colab": {}
      },
      "source": [
        "'''=========\n",
        "option class init\n",
        "=========='''\n",
        "class VanillaOption:\n",
        "    def __init__(\n",
        "        self,\n",
        "        otype = 1, # 1: 'call'\n",
        "                  # -1: 'put'\n",
        "        strike = 110.,\n",
        "        maturity = 1.,\n",
        "        market_price = 10.):\n",
        "      self.otype = otype\n",
        "      self.strike = strike\n",
        "      self.maturity = maturity\n",
        "      self.market_price = market_price #this will be used for calibration\n",
        "      \n",
        "        \n",
        "    def payoff(self, s): #s: excercise price\n",
        "      otype = self.otype\n",
        "      k = self.strike\n",
        "      maturity = self.maturity\n",
        "      return max([0, (s - k)*otype])"
      ],
      "execution_count": 0,
      "outputs": []
    },
    {
      "cell_type": "code",
      "metadata": {
        "id": "ora0vQfoadnv",
        "colab_type": "code",
        "colab": {}
      },
      "source": [
        "num_row = np_option_data.shape[0]\n",
        "option_list = []\n",
        "\n",
        "for i in range(num_row):\n",
        "  option1 = VanillaOption(\n",
        "      otype = np_option_data[i,0],\n",
        "      strike = np_option_data[i,2],\n",
        "      maturity = np_option_data[i,1],\n",
        "      market_price = np_option_data[i,3]\n",
        "  )   \n",
        "  option_list.append(option1)"
      ],
      "execution_count": 0,
      "outputs": []
    },
    {
      "cell_type": "code",
      "metadata": {
        "id": "gNbJ-VC9ars7",
        "colab_type": "code",
        "outputId": "f38b9d07-cca1-4e93-a2f1-766283aac453",
        "colab": {
          "base_uri": "https://localhost:8080/",
          "height": 54
        }
      },
      "source": [
        "print(option_list)"
      ],
      "execution_count": 47,
      "outputs": [
        {
          "output_type": "stream",
          "text": [
            "[<__main__.VanillaOption object at 0x7fe7269d3438>, <__main__.VanillaOption object at 0x7fe7269d36a0>, <__main__.VanillaOption object at 0x7fe7269d3390>, <__main__.VanillaOption object at 0x7fe7269d3898>, <__main__.VanillaOption object at 0x7fe7269d3978>, <__main__.VanillaOption object at 0x7fe7269d3e80>, <__main__.VanillaOption object at 0x7fe726a37080>, <__main__.VanillaOption object at 0x7fe726a37a58>]\n"
          ],
          "name": "stdout"
        }
      ]
    },
    {
      "cell_type": "code",
      "metadata": {
        "id": "9EX-0TbJavHY",
        "colab_type": "code",
        "colab": {}
      },
      "source": [
        "class euler:\n",
        "    def __init__(self, mu, sigma, gamma, InitState):\n",
        "        self.mu = mu\n",
        "        self.sigma = sigma\n",
        "        self.gamma = gamma\n",
        "        self.InitState = InitState\n",
        "\n",
        "    def Mu(self, mu):\n",
        "        mu = self.mu\n",
        "        Mu = lambda x,t: mu*x\n",
        "\n",
        "        return Mu\n",
        "\n",
        "    def Sigma(self, sigma, gamma):\n",
        "        sigma = self.sigma\n",
        "        gamma = self.gamma\n",
        "        Sigma = lambda x,t: sigma*x**gamma\n",
        "\n",
        "        return Sigma\n",
        "\n",
        "        \n",
        "    def Euler_method(self, T, N):\n",
        "        x0 = self.InitState     \n",
        "        t = np.linspace(0, T, N+1)\n",
        "        \n",
        "        Wh = np.zeros(N+1)   ##initial BM\n",
        "        Sh =s0 + np.zeros(N+1)   ##initial Xh\n",
        "        \n",
        "        for i in range(N):  ##the Euler method\n",
        "            DeltaT = t[i+1] - t[i]\n",
        "            DeltaW = np.sqrt(t[i+1] - t[i]) * np.random.normal()\n",
        "            Wh[i+1] = Wh[i] + DeltaW\n",
        "            Sh[i+1] =Sh[i] + Mu(Sh[i], t[i]) * DeltaT + \\\n",
        "            Sigma(Sh[i], t[i])* DeltaW\n",
        "            \n",
        "        return t, Sh, Wh\n",
        "\n",
        "    def call_payoff(self, mu, S_T):\n",
        "        mu = self.mu\n",
        "        k = vanilla_option.strike\n",
        "        maturity = vanilla_option.maturity\n",
        "        return np.exp(-r*T)*max(0,S_T - k)\n",
        "\n",
        "\n",
        "def option_price(self, vanilla_option):\n",
        "        x0 = self.InitState \n",
        "    \n",
        "        otype = vanilla_option.otype\n",
        "        k = vanilla_option.strike\n",
        "        maturity = vanilla_option.maturity\n",
        "    \n",
        "        for i in range(IterN):\n",
        "          [t, Sh, Wh] = Euler_method(maturity, 1000);\n",
        "          call_price_list[i] = call_payoff(mu, Sh[-1])\n",
        "    \n",
        "        return call_price_list.mean()\n",
        "\n",
        "euler.option_price = option_price"
      ],
      "execution_count": 0,
      "outputs": []
    },
    {
      "cell_type": "code",
      "metadata": {
        "id": "qGQ1scnlh2fA",
        "colab_type": "code",
        "colab": {}
      },
      "source": [
        "euler1 = euler(\n",
        "    mu = 0.03,\n",
        "    sigma = 0.2,\n",
        "    gamma = 1,\n",
        "    InitState = 100\n",
        ")"
      ],
      "execution_count": 0,
      "outputs": []
    },
    {
      "cell_type": "code",
      "metadata": {
        "id": "mHu8aTeeilEq",
        "colab_type": "code",
        "colab": {}
      },
      "source": [
        "'''==========\n",
        "define a method for error function\n",
        "============'''\n",
        "\n",
        "def error_function(sigma, gamma, euler, option_list):\n",
        "  euler.sigma = sigma\n",
        "  euler.gamma = gamma\n",
        "  error = 0\n",
        "  for i in np.arange(len(option_list)):\n",
        "    error = error + ((option_list[i]).market_price - euler.option_price(option_list[i]))**2    \n",
        "  return error\n",
        "\n",
        "\n",
        "'''==========\n",
        "define a method to seek for a calibrated volatility\n",
        "============'''\n",
        "\n",
        "def cev_calibration(euler, option_list):\n",
        "  sigma = 0.2    #initial guess\n",
        "  gamma = 1      #initial guess\n",
        "\n",
        "  return so.fmin(error_function, sigma , args = (euler, option_list), disp = 0)[0]"
      ],
      "execution_count": 0,
      "outputs": []
    },
    {
      "cell_type": "code",
      "metadata": {
        "id": "6JuJh_PkoJex",
        "colab_type": "code",
        "colab": {
          "base_uri": "https://localhost:8080/",
          "height": 378
        },
        "outputId": "6edcccfc-25d5-4f7a-a24a-4345cbcfd643"
      },
      "source": [
        "# Take options of 5-months maturity\n",
        "\n",
        "filter1 = list(filter(lambda x: x.maturity == 5/12, option_list))\n",
        "calibrated_parameters = cev_calibration(euler1, filter1)\n",
        "print('calibrated_parameters is' ,calibrated_parameters)"
      ],
      "execution_count": 51,
      "outputs": [
        {
          "output_type": "error",
          "ename": "TypeError",
          "evalue": "ignored",
          "traceback": [
            "\u001b[0;31m---------------------------------------------------------------------------\u001b[0m",
            "\u001b[0;31mTypeError\u001b[0m                                 Traceback (most recent call last)",
            "\u001b[0;32m<ipython-input-51-0474f2be6026>\u001b[0m in \u001b[0;36m<module>\u001b[0;34m()\u001b[0m\n\u001b[1;32m      1\u001b[0m \u001b[0;34m\u001b[0m\u001b[0m\n\u001b[1;32m      2\u001b[0m \u001b[0mfilter1\u001b[0m \u001b[0;34m=\u001b[0m \u001b[0mlist\u001b[0m\u001b[0;34m(\u001b[0m\u001b[0mfilter\u001b[0m\u001b[0;34m(\u001b[0m\u001b[0;32mlambda\u001b[0m \u001b[0mx\u001b[0m\u001b[0;34m:\u001b[0m \u001b[0mx\u001b[0m\u001b[0;34m.\u001b[0m\u001b[0mmaturity\u001b[0m \u001b[0;34m==\u001b[0m \u001b[0;36m5\u001b[0m\u001b[0;34m/\u001b[0m\u001b[0;36m12\u001b[0m\u001b[0;34m,\u001b[0m \u001b[0moption_list\u001b[0m\u001b[0;34m)\u001b[0m\u001b[0;34m)\u001b[0m\u001b[0;34m\u001b[0m\u001b[0;34m\u001b[0m\u001b[0m\n\u001b[0;32m----> 3\u001b[0;31m \u001b[0mcalibrated_parameters\u001b[0m \u001b[0;34m=\u001b[0m \u001b[0mcev_calibration\u001b[0m\u001b[0;34m(\u001b[0m\u001b[0meuler1\u001b[0m\u001b[0;34m,\u001b[0m \u001b[0mfilter1\u001b[0m\u001b[0;34m)\u001b[0m\u001b[0;34m\u001b[0m\u001b[0;34m\u001b[0m\u001b[0m\n\u001b[0m\u001b[1;32m      4\u001b[0m \u001b[0mprint\u001b[0m\u001b[0;34m(\u001b[0m\u001b[0;34m'calibrated_parameters is'\u001b[0m \u001b[0;34m,\u001b[0m\u001b[0mcalibrated_parameters\u001b[0m\u001b[0;34m)\u001b[0m\u001b[0;34m\u001b[0m\u001b[0;34m\u001b[0m\u001b[0m\n",
            "\u001b[0;32m<ipython-input-50-8373d6a10204>\u001b[0m in \u001b[0;36mcev_calibration\u001b[0;34m(euler, option_list)\u001b[0m\n\u001b[1;32m     20\u001b[0m   \u001b[0mgamma\u001b[0m \u001b[0;34m=\u001b[0m \u001b[0;36m1\u001b[0m      \u001b[0;31m#initial guess\u001b[0m\u001b[0;34m\u001b[0m\u001b[0;34m\u001b[0m\u001b[0m\n\u001b[1;32m     21\u001b[0m \u001b[0;34m\u001b[0m\u001b[0m\n\u001b[0;32m---> 22\u001b[0;31m   \u001b[0;32mreturn\u001b[0m \u001b[0mso\u001b[0m\u001b[0;34m.\u001b[0m\u001b[0mfmin\u001b[0m\u001b[0;34m(\u001b[0m\u001b[0merror_function\u001b[0m\u001b[0;34m,\u001b[0m \u001b[0msigma\u001b[0m \u001b[0;34m,\u001b[0m \u001b[0margs\u001b[0m \u001b[0;34m=\u001b[0m \u001b[0;34m(\u001b[0m\u001b[0meuler\u001b[0m\u001b[0;34m,\u001b[0m \u001b[0moption_list\u001b[0m\u001b[0;34m)\u001b[0m\u001b[0;34m,\u001b[0m \u001b[0mdisp\u001b[0m \u001b[0;34m=\u001b[0m \u001b[0;36m0\u001b[0m\u001b[0;34m)\u001b[0m\u001b[0;34m[\u001b[0m\u001b[0;36m0\u001b[0m\u001b[0;34m]\u001b[0m\u001b[0;34m\u001b[0m\u001b[0;34m\u001b[0m\u001b[0m\n\u001b[0m",
            "\u001b[0;32m/usr/local/lib/python3.6/dist-packages/scipy/optimize/optimize.py\u001b[0m in \u001b[0;36mfmin\u001b[0;34m(func, x0, args, xtol, ftol, maxiter, maxfun, full_output, disp, retall, callback, initial_simplex)\u001b[0m\n\u001b[1;32m    441\u001b[0m             'initial_simplex': initial_simplex}\n\u001b[1;32m    442\u001b[0m \u001b[0;34m\u001b[0m\u001b[0m\n\u001b[0;32m--> 443\u001b[0;31m     \u001b[0mres\u001b[0m \u001b[0;34m=\u001b[0m \u001b[0m_minimize_neldermead\u001b[0m\u001b[0;34m(\u001b[0m\u001b[0mfunc\u001b[0m\u001b[0;34m,\u001b[0m \u001b[0mx0\u001b[0m\u001b[0;34m,\u001b[0m \u001b[0margs\u001b[0m\u001b[0;34m,\u001b[0m \u001b[0mcallback\u001b[0m\u001b[0;34m=\u001b[0m\u001b[0mcallback\u001b[0m\u001b[0;34m,\u001b[0m \u001b[0;34m**\u001b[0m\u001b[0mopts\u001b[0m\u001b[0;34m)\u001b[0m\u001b[0;34m\u001b[0m\u001b[0;34m\u001b[0m\u001b[0m\n\u001b[0m\u001b[1;32m    444\u001b[0m     \u001b[0;32mif\u001b[0m \u001b[0mfull_output\u001b[0m\u001b[0;34m:\u001b[0m\u001b[0;34m\u001b[0m\u001b[0;34m\u001b[0m\u001b[0m\n\u001b[1;32m    445\u001b[0m         \u001b[0mretlist\u001b[0m \u001b[0;34m=\u001b[0m \u001b[0mres\u001b[0m\u001b[0;34m[\u001b[0m\u001b[0;34m'x'\u001b[0m\u001b[0;34m]\u001b[0m\u001b[0;34m,\u001b[0m \u001b[0mres\u001b[0m\u001b[0;34m[\u001b[0m\u001b[0;34m'fun'\u001b[0m\u001b[0;34m]\u001b[0m\u001b[0;34m,\u001b[0m \u001b[0mres\u001b[0m\u001b[0;34m[\u001b[0m\u001b[0;34m'nit'\u001b[0m\u001b[0;34m]\u001b[0m\u001b[0;34m,\u001b[0m \u001b[0mres\u001b[0m\u001b[0;34m[\u001b[0m\u001b[0;34m'nfev'\u001b[0m\u001b[0;34m]\u001b[0m\u001b[0;34m,\u001b[0m \u001b[0mres\u001b[0m\u001b[0;34m[\u001b[0m\u001b[0;34m'status'\u001b[0m\u001b[0;34m]\u001b[0m\u001b[0;34m\u001b[0m\u001b[0;34m\u001b[0m\u001b[0m\n",
            "\u001b[0;32m/usr/local/lib/python3.6/dist-packages/scipy/optimize/optimize.py\u001b[0m in \u001b[0;36m_minimize_neldermead\u001b[0;34m(func, x0, args, callback, maxiter, maxfev, disp, return_all, initial_simplex, xatol, fatol, adaptive, **unknown_options)\u001b[0m\n\u001b[1;32m    584\u001b[0m \u001b[0;34m\u001b[0m\u001b[0m\n\u001b[1;32m    585\u001b[0m     \u001b[0;32mfor\u001b[0m \u001b[0mk\u001b[0m \u001b[0;32min\u001b[0m \u001b[0mrange\u001b[0m\u001b[0;34m(\u001b[0m\u001b[0mN\u001b[0m \u001b[0;34m+\u001b[0m \u001b[0;36m1\u001b[0m\u001b[0;34m)\u001b[0m\u001b[0;34m:\u001b[0m\u001b[0;34m\u001b[0m\u001b[0;34m\u001b[0m\u001b[0m\n\u001b[0;32m--> 586\u001b[0;31m         \u001b[0mfsim\u001b[0m\u001b[0;34m[\u001b[0m\u001b[0mk\u001b[0m\u001b[0;34m]\u001b[0m \u001b[0;34m=\u001b[0m \u001b[0mfunc\u001b[0m\u001b[0;34m(\u001b[0m\u001b[0msim\u001b[0m\u001b[0;34m[\u001b[0m\u001b[0mk\u001b[0m\u001b[0;34m]\u001b[0m\u001b[0;34m)\u001b[0m\u001b[0;34m\u001b[0m\u001b[0;34m\u001b[0m\u001b[0m\n\u001b[0m\u001b[1;32m    587\u001b[0m \u001b[0;34m\u001b[0m\u001b[0m\n\u001b[1;32m    588\u001b[0m     \u001b[0mind\u001b[0m \u001b[0;34m=\u001b[0m \u001b[0mnumpy\u001b[0m\u001b[0;34m.\u001b[0m\u001b[0margsort\u001b[0m\u001b[0;34m(\u001b[0m\u001b[0mfsim\u001b[0m\u001b[0;34m)\u001b[0m\u001b[0;34m\u001b[0m\u001b[0;34m\u001b[0m\u001b[0m\n",
            "\u001b[0;32m/usr/local/lib/python3.6/dist-packages/scipy/optimize/optimize.py\u001b[0m in \u001b[0;36mfunction_wrapper\u001b[0;34m(*wrapper_args)\u001b[0m\n\u001b[1;32m    325\u001b[0m     \u001b[0;32mdef\u001b[0m \u001b[0mfunction_wrapper\u001b[0m\u001b[0;34m(\u001b[0m\u001b[0;34m*\u001b[0m\u001b[0mwrapper_args\u001b[0m\u001b[0;34m)\u001b[0m\u001b[0;34m:\u001b[0m\u001b[0;34m\u001b[0m\u001b[0;34m\u001b[0m\u001b[0m\n\u001b[1;32m    326\u001b[0m         \u001b[0mncalls\u001b[0m\u001b[0;34m[\u001b[0m\u001b[0;36m0\u001b[0m\u001b[0;34m]\u001b[0m \u001b[0;34m+=\u001b[0m \u001b[0;36m1\u001b[0m\u001b[0;34m\u001b[0m\u001b[0;34m\u001b[0m\u001b[0m\n\u001b[0;32m--> 327\u001b[0;31m         \u001b[0;32mreturn\u001b[0m \u001b[0mfunction\u001b[0m\u001b[0;34m(\u001b[0m\u001b[0;34m*\u001b[0m\u001b[0;34m(\u001b[0m\u001b[0mwrapper_args\u001b[0m \u001b[0;34m+\u001b[0m \u001b[0margs\u001b[0m\u001b[0;34m)\u001b[0m\u001b[0;34m)\u001b[0m\u001b[0;34m\u001b[0m\u001b[0;34m\u001b[0m\u001b[0m\n\u001b[0m\u001b[1;32m    328\u001b[0m \u001b[0;34m\u001b[0m\u001b[0m\n\u001b[1;32m    329\u001b[0m     \u001b[0;32mreturn\u001b[0m \u001b[0mncalls\u001b[0m\u001b[0;34m,\u001b[0m \u001b[0mfunction_wrapper\u001b[0m\u001b[0;34m\u001b[0m\u001b[0;34m\u001b[0m\u001b[0m\n",
            "\u001b[0;31mTypeError\u001b[0m: error_function() missing 1 required positional argument: 'option_list'"
          ]
        }
      ]
    },
    {
      "cell_type": "code",
      "metadata": {
        "id": "EMRxP6fb3EfG",
        "colab_type": "code",
        "colab": {}
      },
      "source": [
        ""
      ],
      "execution_count": 0,
      "outputs": []
    }
  ]
}