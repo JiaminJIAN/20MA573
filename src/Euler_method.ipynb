{
  "nbformat": 4,
  "nbformat_minor": 0,
  "metadata": {
    "colab": {
      "name": " Euler method",
      "provenance": [],
      "collapsed_sections": [],
      "authorship_tag": "ABX9TyNd3GNdL67kH7Ch9ST1XYGg",
      "include_colab_link": true
    },
    "kernelspec": {
      "name": "python3",
      "display_name": "Python 3"
    }
  },
  "cells": [
    {
      "cell_type": "markdown",
      "metadata": {
        "id": "view-in-github",
        "colab_type": "text"
      },
      "source": [
        "<a href=\"https://colab.research.google.com/github/JiaminJIAN/20MA573/blob/master/src/Euler_method.ipynb\" target=\"_parent\"><img src=\"https://colab.research.google.com/assets/colab-badge.svg\" alt=\"Open In Colab\"/></a>"
      ]
    },
    {
      "cell_type": "markdown",
      "metadata": {
        "id": "mZjvme0Ut2uC",
        "colab_type": "text"
      },
      "source": [
        "# **Euler method**"
      ]
    },
    {
      "cell_type": "markdown",
      "metadata": {
        "id": "HLDrvfMPuMRG",
        "colab_type": "text"
      },
      "source": [
        "## **Exercise:**\n",
        "\n",
        "Consider CEV(constant elasticity of variance model)\n",
        "\n",
        "$$d S_{t} = 0.03 S_{t} \\, d t + \\sigma S_{t}^{\\gamma} \\, d W_{t}, \\, S_{0} = 100.$$\n",
        "\n",
        "- Write a pseudo code and python code for vanilla option price.\n",
        "\n",
        "- For $\\sigma = 0.2$ and $\\gamma = 1$, compute call price with $T = 1$ and $K = 97$. Dose it recover option price given by BSM formula?\n",
        "\n",
        "- Can you demostrate the weak or strong convergence rate?\n",
        "\n",
        "- Download option data and calibrate volatility and elasticity constant from 5 month call options."
      ]
    },
    {
      "cell_type": "markdown",
      "metadata": {
        "id": "jSrtsfn_v-ZI",
        "colab_type": "text"
      },
      "source": [
        "## **Solution:**\n",
        "\n",
        "(1) Write a pseudo code and python code for vanilla option price.\n",
        "\n",
        "The pseudo code for vanilla option by the Euler method is as follows:\n",
        "\n",
        "[pseudocode](https://github.com/JiaminJIAN/20MA573/blob/master/src/pseudocode_HW7.png)\n",
        "\n",
        "\n"
      ]
    },
    {
      "cell_type": "markdown",
      "metadata": {
        "id": "NV2t8b3CjD5i",
        "colab_type": "text"
      },
      "source": [
        "And the python code of vanilla option by the Euler method is as following:"
      ]
    },
    {
      "cell_type": "markdown",
      "metadata": {
        "id": "Jhn9huX1liie",
        "colab_type": "text"
      },
      "source": [
        "**Method 1:**"
      ]
    },
    {
      "cell_type": "code",
      "metadata": {
        "id": "GHjfsxVWw3Re",
        "colab_type": "code",
        "colab": {}
      },
      "source": [
        "import numpy as np\n",
        "import scipy.optimize as so\n",
        "import scipy.stats as ss\n",
        "import matplotlib.pyplot as plt\n",
        "from pylab import plt\n",
        "plt.style.use('seaborn')\n",
        "%matplotlib inline"
      ],
      "execution_count": 0,
      "outputs": []
    },
    {
      "cell_type": "code",
      "metadata": {
        "id": "yODlYh_b7TEm",
        "colab_type": "code",
        "colab": {}
      },
      "source": [
        "# Define function drift and volatility\n",
        "\n",
        "r = 0.03; sig = 0.2; gamma = 1;\n",
        "Mu = lambda x,t: r*x\n",
        "Sigma = lambda x,t: sig*x**gamma\n",
        "s0 = 100. "
      ],
      "execution_count": 0,
      "outputs": []
    },
    {
      "cell_type": "code",
      "metadata": {
        "id": "AX78_FET7TSQ",
        "colab_type": "code",
        "colab": {}
      },
      "source": [
        "# Create the function to generate the path of stock price\n",
        "\n",
        "def SDE_path(Mu, Sigma, s0, T1, T2, n):   #para: drift, volatility, initial state, start time, end time, and the mesh number \n",
        "    t = np.linspace(T1, T2, num = n+1)    #initial the mesh \n",
        "    Sh = s0 + np.zeros(n+1)               #initial Sh\n",
        "    for i in range(n):                    #run the Euler Method\n",
        "        Sh[i+1] = Sh[i] + Mu(Sh[i], t[i]) * (t[i+1] - t[i]) + Sigma(Sh[i], t[i])* np.sqrt(t[i+1] - t[i])*np.random.normal()\n",
        "    return t, Sh"
      ],
      "execution_count": 0,
      "outputs": []
    },
    {
      "cell_type": "code",
      "metadata": {
        "id": "wuSGQ2eI7TVU",
        "colab_type": "code",
        "outputId": "bad38f60-d26c-4fbc-e99f-b7a025cc15f7",
        "colab": {
          "base_uri": "https://localhost:8080/",
          "height": 265
        }
      },
      "source": [
        "# Test the function SDE_path and generate 10 paths\n",
        "\n",
        "for i in range(10): \n",
        "    [t, Y] = SDE_path(Mu, Sigma, 100., 0., 1., 1000); \n",
        "    plt.plot(t,Y);"
      ],
      "execution_count": 0,
      "outputs": [
        {
          "output_type": "display_data",
          "data": {
            "image/png": "[encoded data removed]",
            "text/plain": [
              "<Figure size 432x288 with 1 Axes>"
            ]
          },
          "metadata": {
            "tags": []
          }
        }
      ]
    },
    {
      "cell_type": "code",
      "metadata": {
        "id": "z-mutJAu7TYu",
        "colab_type": "code",
        "colab": {}
      },
      "source": [
        "# Define a function of call payoff by Euler method\n",
        "\n",
        "def call_payoff(r, T, K, S_T):\n",
        "    return np.exp(-r*T)*max(0,S_T - K)"
      ],
      "execution_count": 0,
      "outputs": []
    },
    {
      "cell_type": "code",
      "metadata": {
        "id": "ya2izZPw7TcT",
        "colab_type": "code",
        "outputId": "f198fcf8-9337-475e-edf0-8a5c4e5695a1",
        "colab": {
          "base_uri": "https://localhost:8080/",
          "height": 34
        }
      },
      "source": [
        "# Calculate the price of call option by Euler method\n",
        "\n",
        "T1 = 0; T2 = 1;\n",
        "T = T2 - T1\n",
        "K = 97\n",
        "MeshL = 0.001\n",
        "MeshN = int(T/MeshL)\n",
        "IterN = 1000\n",
        "call_price_list = np.zeros(IterN) #Simulation of payoff: to store the data of the payoff of each path or trajectory\n",
        "\n",
        "for i in range(IterN):\n",
        "    [t, Sh] = SDE_path(Mu, Sigma, s0, T1, T2, MeshN);\n",
        "    call_price_list[i] = call_payoff(r, T, K, Sh[-1])\n",
        "    \n",
        "call_price = call_price_list.mean()\n",
        "print(f\"The price of the call option by the Euler method is {call_price}.\")"
      ],
      "execution_count": 0,
      "outputs": [
        {
          "output_type": "stream",
          "text": [
            "The price of the call option by the Euler method is 11.115091520111473.\n"
          ],
          "name": "stdout"
        }
      ]
    },
    {
      "cell_type": "markdown",
      "metadata": {
        "id": "r1tQPSRs_vrY",
        "colab_type": "text"
      },
      "source": [
        "We can also create a class to generate the path of SDE using the Euler method"
      ]
    },
    {
      "cell_type": "markdown",
      "metadata": {
        "id": "kRk_Empslpvp",
        "colab_type": "text"
      },
      "source": [
        "**Method 2:**"
      ]
    },
    {
      "cell_type": "code",
      "metadata": {
        "id": "Otd3Mp9otyaS",
        "colab_type": "code",
        "colab": {}
      },
      "source": [
        "class SDE:\n",
        "    def __init__(self, Mu, Sigma, InitState):\n",
        "        self.Mu = Mu\n",
        "        self.Sigma = Sigma\n",
        "        self.InitState = InitState\n",
        "        \n",
        "    def Euler_method(self, T, N):\n",
        "        s0 = self.InitState\n",
        "        Mu = self.Mu\n",
        "        Sigma = self.Sigma       \n",
        "        t = np.linspace(0, T, N+1)\n",
        "        \n",
        "        Wh = np.zeros(N+1)   ##initial BM\n",
        "        Sh =s0 + np.zeros(N+1)   ##initial Xh\n",
        "        \n",
        "        for i in range(N):  ##the Euler method\n",
        "            DeltaT = t[i+1] - t[i]\n",
        "            DeltaW = np.sqrt(t[i+1] - t[i]) * np.random.normal()\n",
        "            Wh[i+1] = Wh[i] + DeltaW\n",
        "            Sh[i+1] =Sh[i] + Mu(Sh[i], t[i]) * DeltaT + \\\n",
        "            Sigma(Sh[i], t[i])* DeltaW\n",
        "            \n",
        "        return t, Sh, Wh\n",
        "        \n"
      ],
      "execution_count": 0,
      "outputs": []
    },
    {
      "cell_type": "code",
      "metadata": {
        "id": "e3arG2l52HY0",
        "colab_type": "code",
        "colab": {}
      },
      "source": [
        "# Define function drift and volatility\n",
        "\n",
        "r = 0.03; sig = 0.2; gamma = 1;\n",
        "Mu = lambda x,t: r*x\n",
        "Sigma = lambda x,t: sig*x**gamma\n",
        "s0 = 100. "
      ],
      "execution_count": 0,
      "outputs": []
    },
    {
      "cell_type": "code",
      "metadata": {
        "id": "O2_51h1J1m0Q",
        "colab_type": "code",
        "outputId": "0c402418-2e17-4513-ca52-7780b0863158",
        "colab": {
          "base_uri": "https://localhost:8080/",
          "height": 265
        }
      },
      "source": [
        "CEV1 = SDE(Mu, Sigma, s0)\n",
        "for i in range(10): \n",
        "    [t, Y, W] = CEV1.Euler_method(1., 1000); \n",
        "    plt.plot(t,Y);"
      ],
      "execution_count": 0,
      "outputs": [
        {
          "output_type": "display_data",
          "data": {
            "image/png": "[encoded data removed]",
            "text/plain": [
              "<Figure size 432x288 with 1 Axes>"
            ]
          },
          "metadata": {
            "tags": []
          }
        }
      ]
    },
    {
      "cell_type": "code",
      "metadata": {
        "id": "OlBWAAlcA4Pv",
        "colab_type": "code",
        "outputId": "25eae446-9f67-4341-994f-4c46043392e2",
        "colab": {
          "base_uri": "https://localhost:8080/",
          "height": 34
        }
      },
      "source": [
        "# Calculate the price of call option by Euler method\n",
        "T1 = 0; T2 = 1;\n",
        "T = T2 - T1\n",
        "K = 97\n",
        "MeshL = 0.001\n",
        "MeshN = int(T/MeshL)\n",
        "IterN = 1000\n",
        "call_price_list = np.zeros(IterN) #Simulation of payoff: to store the data of the payoff of each path or trajectory\n",
        "\n",
        "for i in range(IterN):\n",
        "    [t, Sh, Wh] = CEV1.Euler_method(T2, 1000);\n",
        "    call_price_list[i] = call_payoff(r, T, K, Sh[-1])\n",
        "    \n",
        "call_price = call_price_list.mean()\n",
        "print(f\"The price of the call option by the Euler method is {call_price}.\")"
      ],
      "execution_count": 0,
      "outputs": [
        {
          "output_type": "stream",
          "text": [
            "The price of the call option by the Euler method is 10.834385294171257.\n"
          ],
          "name": "stdout"
        }
      ]
    },
    {
      "cell_type": "markdown",
      "metadata": {
        "id": "GXKEGGALkyMv",
        "colab_type": "text"
      },
      "source": [
        "We can just use one function to get the option price, and the code is as follows:"
      ]
    },
    {
      "cell_type": "markdown",
      "metadata": {
        "id": "hWXgLU21lvpg",
        "colab_type": "text"
      },
      "source": [
        "**Method 3:**"
      ]
    },
    {
      "cell_type": "code",
      "metadata": {
        "id": "rr8kPgK0kuQG",
        "colab_type": "code",
        "colab": {}
      },
      "source": [
        "def option_price(mu, sigma, gamma, s0, K, T, n, IterN):\n",
        "    Mu = lambda x,t: mu*x\n",
        "    Sigma = lambda x,t: sigma*x**gamma\n",
        "    t = np.linspace(0, T, num = n+1)    #initial the mesh \n",
        "    Sh = s0 + np.zeros(n+1)               #initial Sh\n",
        "    call_price_list = np.zeros(IterN)\n",
        "    \n",
        "    for i in range(IterN):\n",
        "      for j in range(n):                    #run the Euler Method\n",
        "        Sh[j+1] = Sh[j] + Mu(Sh[j], t[j]) * (t[j+1] - t[j]) + Sigma(Sh[j], t[j])* np.sqrt(t[j+1] - t[j])*np.random.normal()\n",
        "      call_price_list[i] = np.exp(- mu*T)*max(0,Sh[-1] - K)\n",
        "    return call_price_list.mean()"
      ],
      "execution_count": 0,
      "outputs": []
    },
    {
      "cell_type": "code",
      "metadata": {
        "id": "Vu37-rK6lCs1",
        "colab_type": "code",
        "outputId": "ab49b996-30c0-4528-f9e1-99e6761da560",
        "colab": {
          "base_uri": "https://localhost:8080/",
          "height": 34
        }
      },
      "source": [
        "mu = 0.03; sigma = 0.2; gamma = 1; s0 = 100; K= 97; T = 1; n = 1000; IterN = 1000\n",
        "print(f\"The price of the call option by the Euler method is {option_price(mu, sigma, gamma, s0, K, T, n, IterN)}\")"
      ],
      "execution_count": 0,
      "outputs": [
        {
          "output_type": "stream",
          "text": [
            "The price of the call option by the Euler method is 11.161064953860569\n"
          ],
          "name": "stdout"
        }
      ]
    },
    {
      "cell_type": "markdown",
      "metadata": {
        "id": "C03nz5pgMBIm",
        "colab_type": "text"
      },
      "source": [
        ""
      ]
    },
    {
      "cell_type": "markdown",
      "metadata": {
        "id": "cNTvfX-bMBve",
        "colab_type": "text"
      },
      "source": [
        "(2) For $\\sigma = 0.2$ and $\\gamma = 1$, compute call price with $T = 1$ and $K = 97$. Dose it recover option price given by BSM formula?"
      ]
    },
    {
      "cell_type": "markdown",
      "metadata": {
        "id": "WfXhrqAiMopD",
        "colab_type": "text"
      },
      "source": [
        "From the question (1), we can get the estimator of call option price by Euler method. When $\\gamma = 1$, the CEV model is:\n",
        "\n",
        "$$d S_{t} = 0.03 S_{t} \\, d t + 0.2 S_{t} \\, d W_{t}, \\, S_{0} = 100,$$\n",
        "\n",
        "which becomes a BS model. So, we can recover option price given by BSM formula by Euler method when $\\gamma = 1$. The call option price by the BSM as following:"
      ]
    },
    {
      "cell_type": "code",
      "metadata": {
        "id": "CtAYFk_8M-oI",
        "colab_type": "code",
        "colab": {}
      },
      "source": [
        "def d1f(St, K, t, T, r, sigma):\n",
        "    d1 = (np.log(St / K) + (r + 0.5 * sigma ** 2)\n",
        "          * (T - t)) / (sigma * np.sqrt(T - t))\n",
        "    return d1"
      ],
      "execution_count": 0,
      "outputs": []
    },
    {
      "cell_type": "code",
      "metadata": {
        "id": "Tp7w3yrsNlMo",
        "colab_type": "code",
        "colab": {}
      },
      "source": [
        "def BSM_call_value(St, K, t, T, r, sigma):\n",
        "    d1 = d1f(St, K, t, T, r, sigma)\n",
        "    d2 = d1 - sigma * np.sqrt(T - t)\n",
        "    call_value = St * ss.norm.cdf(d1) - np.exp(-r * (T - t)) * K * ss.norm.cdf(d2)\n",
        "    return call_value"
      ],
      "execution_count": 0,
      "outputs": []
    },
    {
      "cell_type": "code",
      "metadata": {
        "id": "LK_MwuUiOCwo",
        "colab_type": "code",
        "outputId": "977cc3cc-b557-4bea-ab94-eab3768ec01d",
        "colab": {
          "base_uri": "https://localhost:8080/",
          "height": 34
        }
      },
      "source": [
        "# The parameters of this example\n",
        "\n",
        "S0 = 100.0\n",
        "K = 97\n",
        "r = 0.03\n",
        "sigma = 0.20\n",
        "T = 1\n",
        "\n",
        "print(\"The price of the call option under the BSM pricing model is \",  BSM_call_value(S0, K, 0, T, r, sigma))"
      ],
      "execution_count": 0,
      "outputs": [
        {
          "output_type": "stream",
          "text": [
            "The price of the call option under the BSM pricing model is  11.014613780922488\n"
          ],
          "name": "stdout"
        }
      ]
    },
    {
      "cell_type": "markdown",
      "metadata": {
        "id": "w1xGrkkgPsNE",
        "colab_type": "text"
      },
      "source": [
        ""
      ]
    },
    {
      "cell_type": "markdown",
      "metadata": {
        "id": "lc5wB80XPsWj",
        "colab_type": "text"
      },
      "source": [
        "(3) Can you demostrate the weak or strong convergence rate?"
      ]
    },
    {
      "cell_type": "markdown",
      "metadata": {
        "id": "IxX6PwbKRCKN",
        "colab_type": "text"
      },
      "source": [
        "When $\\gamma = 1$, we can get the strong convergence rate as follows. Since the model is:\n",
        "\n",
        "$$d S_{t} = 0.03 S_{t} \\, d t + 0.2 S_{t} \\, d W_{t}, \\, S_{0} = 100,$$\n",
        "\n",
        "we know that the explicit expression of $S_{t}$ is:\n",
        "\n",
        "$$S_{t} = S_{0} \\exp \\{(r - \\frac{1}{2} \\sigma^{2}) t + \\sigma W_{t} \\},$$\n",
        "\n",
        "where $r  = 0.03, \\sigma = 0.2$ and $t = 1$."
      ]
    },
    {
      "cell_type": "markdown",
      "metadata": {
        "id": "w3LhjIzhPzRl",
        "colab_type": "text"
      },
      "source": [
        "Firstly, we need to build a function to get the explicit value of stock."
      ]
    },
    {
      "cell_type": "code",
      "metadata": {
        "id": "svBzcVr5URAi",
        "colab_type": "code",
        "colab": {}
      },
      "source": [
        "def explicit_value(s0, r, t, sigma, W_t):\n",
        "        S_t= s0 * np.exp((r - sigma**2/2) * t + sigma * W_t)\n",
        "        return S_t"
      ],
      "execution_count": 0,
      "outputs": []
    },
    {
      "cell_type": "code",
      "metadata": {
        "id": "9McTAIjZVHRc",
        "colab_type": "code",
        "colab": {}
      },
      "source": [
        "CEV2 = SDE(Mu, Sigma, s0)\n",
        "T = 1\n",
        "NumSimu = 200\n",
        "r = 0.03\n",
        "size = 8\n",
        "error_list = np.zeros(size)\n",
        "T = 1.\n",
        "\n",
        "for n in range(size):\n",
        "    NumMesh = np.power(2, n + 4)\n",
        "    error_sum = 0\n",
        "    for i in range(NumSimu):\n",
        "        [t, Sh, Wh] = CEV2.Euler_method(T, NumMesh)\n",
        "        ShT = Sh[-1]\n",
        "        ST = explicit_value(s0, r, T, sigma, Wh[-1])\n",
        "        error_sum = error_sum + np.abs(ShT - ST)\n",
        "    error_list[n] = error_sum/NumSimu"
      ],
      "execution_count": 0,
      "outputs": []
    },
    {
      "cell_type": "code",
      "metadata": {
        "id": "0aNdl9uSWvM5",
        "colab_type": "code",
        "outputId": "edaeae68-d5c1-4a78-b2ff-c638d42a58a0",
        "colab": {
          "base_uri": "https://localhost:8080/",
          "height": 286
        }
      },
      "source": [
        "x_coordinate = np.arange(8) + 4\n",
        "y_coordinate = np.log2(error_list)\n",
        "\n",
        "plt.plot(x_coordinate, y_coordinate)"
      ],
      "execution_count": 0,
      "outputs": [
        {
          "output_type": "execute_result",
          "data": {
            "text/plain": [
              "[<matplotlib.lines.Line2D at 0x7f24a3ec00b8>]"
            ]
          },
          "metadata": {
            "tags": []
          },
          "execution_count": 18
        },
        {
          "output_type": "display_data",
          "data": {
            "image/png": "[encoded data removed]",
            "text/plain": [
              "<Figure size 432x288 with 1 Axes>"
            ]
          },
          "metadata": {
            "tags": []
          }
        }
      ]
    },
    {
      "cell_type": "code",
      "metadata": {
        "id": "kLEOorviW7Ip",
        "colab_type": "code",
        "outputId": "fd7c233c-cee3-4eb1-f256-ed39cb4d2e96",
        "colab": {
          "base_uri": "https://localhost:8080/",
          "height": 34
        }
      },
      "source": [
        "lg = ss.linregress(x_coordinate,y_coordinate)\n",
        "rate = -lg[0]\n",
        "print('The convergence rate is '+ str(rate))"
      ],
      "execution_count": 0,
      "outputs": [
        {
          "output_type": "stream",
          "text": [
            "The convergence rate is 0.5049448853351093\n"
          ],
          "name": "stdout"
        }
      ]
    },
    {
      "cell_type": "markdown",
      "metadata": {
        "id": "bD9k_Wb3VGa4",
        "colab_type": "text"
      },
      "source": [
        "But for the weak convergence rate, we can not get it by the same method."
      ]
    },
    {
      "cell_type": "markdown",
      "metadata": {
        "id": "bxRL7t86ZVYm",
        "colab_type": "text"
      },
      "source": [
        ""
      ]
    },
    {
      "cell_type": "markdown",
      "metadata": {
        "id": "PNoToEd_ZVtM",
        "colab_type": "text"
      },
      "source": [
        "(4) Download option data and calibrate volatility and elasticity constant from 5 month call options."
      ]
    },
    {
      "cell_type": "code",
      "metadata": {
        "id": "vwT_tSVcaAWH",
        "colab_type": "code",
        "outputId": "af40de00-8617-410f-e5c5-ac122489cc83",
        "colab": {
          "base_uri": "https://localhost:8080/",
          "height": 170
        }
      },
      "source": [
        "#Read four-column data\n",
        "#columns are otype, maturity, strike, option_price\n",
        "np_option_data = np.loadtxt('20optiondata2.dat', comments='#', delimiter=',')\n",
        "\n",
        "print('>>>>>>otype, maturity, strike, option_price')\n",
        "print(np_option_data)"
      ],
      "execution_count": 0,
      "outputs": [
        {
          "output_type": "stream",
          "text": [
            ">>>>>>otype, maturity, strike, option_price\n",
            "[[  1.           0.16666667  97.           5.32705461]\n",
            " [  1.           0.16666667  99.           3.86224255]\n",
            " [  1.           0.16666667 101.           2.7204371 ]\n",
            " [  1.           0.16666667 103.           2.1202793 ]\n",
            " [  1.           0.41666667  97.           7.23756307]\n",
            " [  1.           0.41666667  99.           5.95053461]\n",
            " [  1.           0.41666667 101.           5.2640122 ]\n",
            " [  1.           0.41666667 103.           4.97493422]]\n"
          ],
          "name": "stdout"
        }
      ]
    },
    {
      "cell_type": "code",
      "metadata": {
        "id": "P9m0xqxomM7j",
        "colab_type": "code",
        "outputId": "69148d81-3c94-4640-957b-b5ba26b1d9e1",
        "colab": {
          "base_uri": "https://localhost:8080/",
          "height": 51
        }
      },
      "source": [
        "np_option_data[:, 1]"
      ],
      "execution_count": 0,
      "outputs": [
        {
          "output_type": "execute_result",
          "data": {
            "text/plain": [
              "array([0.16666667, 0.16666667, 0.16666667, 0.16666667, 0.41666667,\n",
              "       0.41666667, 0.41666667, 0.41666667])"
            ]
          },
          "metadata": {
            "tags": []
          },
          "execution_count": 21
        }
      ]
    },
    {
      "cell_type": "markdown",
      "metadata": {
        "id": "2vzFFQBDmx6V",
        "colab_type": "text"
      },
      "source": [
        "Next we sort out the data set we need."
      ]
    },
    {
      "cell_type": "code",
      "metadata": {
        "id": "hCM_RZ1EmNwb",
        "colab_type": "code",
        "outputId": "88c6c478-587c-4a0c-d8ac-c80c283de01a",
        "colab": {
          "base_uri": "https://localhost:8080/",
          "height": 85
        }
      },
      "source": [
        "#Sort out the option with 5 months maturity.\n",
        "\n",
        "option_data = np_option_data[4:8, 1:4]\n",
        "print(option_data)"
      ],
      "execution_count": 0,
      "outputs": [
        {
          "output_type": "stream",
          "text": [
            "[[  0.41666667  97.           7.23756307]\n",
            " [  0.41666667  99.           5.95053461]\n",
            " [  0.41666667 101.           5.2640122 ]\n",
            " [  0.41666667 103.           4.97493422]]\n"
          ],
          "name": "stdout"
        }
      ]
    },
    {
      "cell_type": "code",
      "metadata": {
        "id": "YT-WtuRQmRA5",
        "colab_type": "code",
        "colab": {}
      },
      "source": [
        "# Define the error function\n",
        "\n",
        "def error_function(guess):\n",
        "  sigma = guess[0]\n",
        "  gamma = guess[1]\n",
        "  error = 0\n",
        "  for i in np.arange(len(option_data)):\n",
        "    error = error + (option_data[i, 2] - option_price(0.03, sigma, gamma, 100, option_data[i, 1], option_data[i, 0], 100, 100))**2    \n",
        "  return error\n"
      ],
      "execution_count": 0,
      "outputs": []
    },
    {
      "cell_type": "code",
      "metadata": {
        "id": "SJcTqeESmUxT",
        "colab_type": "code",
        "outputId": "033c54c1-1c87-48e7-c330-43d559a1f16c",
        "colab": {
          "base_uri": "https://localhost:8080/",
          "height": 51
        }
      },
      "source": [
        "# Reback the calibrated parameters we need\n",
        "\n",
        "parameters = so.fmin(error_function, [0.2, 1], xtol=0.0001, ftol=0.0001, maxiter=None, maxfun=None)\n",
        "print(f\"The calibrated parameters is: {parameters} \")"
      ],
      "execution_count": 0,
      "outputs": [
        {
          "output_type": "stream",
          "text": [
            "Warning: Maximum number of function evaluations has been exceeded.\n",
            "The calibrated parameters is: [0.20986816 0.97268066] \n"
          ],
          "name": "stdout"
        }
      ]
    },
    {
      "cell_type": "markdown",
      "metadata": {
        "id": "aQJ6i2d8poTq",
        "colab_type": "text"
      },
      "source": [
        "We can also change the intial guess value."
      ]
    },
    {
      "cell_type": "code",
      "metadata": {
        "id": "86UJu3HYpxWv",
        "colab_type": "code",
        "outputId": "eb63b341-eccc-4560-8a2c-7e72e2edd94d",
        "colab": {
          "base_uri": "https://localhost:8080/",
          "height": 51
        }
      },
      "source": [
        "# Reback the calibrated parameters we need\n",
        "\n",
        "parameters2 = so.fmin(error_function, [0.1, 0.8], xtol=0.0001, ftol=0.0001, maxiter=None, maxfun=None)\n",
        "print(f\"The calibrated parameters is: {parameters2} \")"
      ],
      "execution_count": 0,
      "outputs": [
        {
          "output_type": "stream",
          "text": [
            "Warning: Maximum number of function evaluations has been exceeded.\n",
            "The calibrated parameters is: [0.06287043 1.26654395] \n"
          ],
          "name": "stdout"
        }
      ]
    },
    {
      "cell_type": "markdown",
      "metadata": {
        "id": "JVaJ-O0onhSA",
        "colab_type": "text"
      },
      "source": [
        "Then we can get the model value of the options based on the calibrated parameters."
      ]
    },
    {
      "cell_type": "code",
      "metadata": {
        "id": "Klu4F628nlbc",
        "colab_type": "code",
        "outputId": "8b3f9cdb-e19f-43a3-e4e4-5e50485011a8",
        "colab": {
          "base_uri": "https://localhost:8080/",
          "height": 51
        }
      },
      "source": [
        "sigma = parameters2[0]\n",
        "gamma = parameters2[1]\n",
        "\n",
        "calibrated_price_list = [option_price(0.03, sigma, gamma, 100, option_data[i, 1], option_data[i, 0], 100, 100) for i in np.arange(len(option_data))]\n",
        "print('The option price calculated from calibrated volatility is')\n",
        "print(calibrated_price_list)"
      ],
      "execution_count": 0,
      "outputs": [
        {
          "output_type": "stream",
          "text": [
            "The option price calculated from calibrated volatility is\n",
            "[8.35899682380564, 7.363613200895597, 5.849252412479034, 3.906144468149512]\n"
          ],
          "name": "stdout"
        }
      ]
    },
    {
      "cell_type": "markdown",
      "metadata": {
        "id": "C9_809lLoVze",
        "colab_type": "text"
      },
      "source": [
        "Then we can figure out the curve of market price and the calibrated price."
      ]
    },
    {
      "cell_type": "code",
      "metadata": {
        "id": "YOgqLoNloWMv",
        "colab_type": "code",
        "outputId": "92a60337-b050-49ff-a072-bcaf63eb434d",
        "colab": {
          "base_uri": "https://localhost:8080/",
          "height": 279
        }
      },
      "source": [
        "x = [option_data[i, 1] for i in range(4)]\n",
        "y1 = [option_data[i,2] for i in range(4)]\n",
        "plt.plot(x, y1, 'o', label='Market price')\n",
        "\n",
        "y2 = calibrated_price_list\n",
        "plt.plot(x, y2, label = 'Calibrated price')\n",
        "\n",
        "plt.ylabel('Option price')\n",
        "plt.xlabel('Strike price of the options with 5-months maturity')\n",
        "plt.legend();"
      ],
      "execution_count": 0,
      "outputs": [
        {
          "output_type": "display_data",
          "data": {
            "image/png": "[encoded data removed]",
            "text/plain": [
              "<Figure size 432x288 with 1 Axes>"
            ]
          },
          "metadata": {
            "tags": []
          }
        }
      ]
    }
  ]
}