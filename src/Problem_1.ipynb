{
  "nbformat": 4,
  "nbformat_minor": 0,
  "metadata": {
    "colab": {
      "name": "Problem 1",
      "provenance": []
    },
    "kernelspec": {
      "name": "python3",
      "display_name": "Python 3"
    }
  },
  "cells": [
    {
      "cell_type": "markdown",
      "metadata": {
        "id": "-E-Gx8e0jQ-9",
        "colab_type": "text"
      },
      "source": [
        "### **Problem 1**\n",
        "\n",
        "Yiyang wants to understand the following question: If he randomly chooses three points on the perimeter of a circle, what is the probability that the triangle made of three points contains the center?\n",
        "\n",
        "(1) Write a pseudocode to estimate the probability.\n",
        "\n",
        "(2) Write a python code and implement it.\n",
        "\n",
        "(3) Give me your guess on this probability. Can you justify? "
      ]
    },
    {
      "cell_type": "markdown",
      "metadata": {
        "id": "W0m0xiwVjd70",
        "colab_type": "text"
      },
      "source": [
        "Solution:\n",
        "\n",
        "(1) If the inner triangle of a circle is a obtuse triangle, the triangle will contain the center of the circle.  And If the inner triangle of a circle is an acute triangle, the triangle does not contain the center of the circle.\n",
        "\n",
        "Pseudocode:\n",
        "\n",
        "[pseudocode](https://github.com/JiaminJIAN/20MA573/blob/master/src/problem1.pdf)"
      ]
    },
    {
      "cell_type": "code",
      "metadata": {
        "id": "dXjrimzejN3l",
        "colab_type": "code",
        "colab": {}
      },
      "source": [
        ""
      ],
      "execution_count": 0,
      "outputs": []
    },
    {
      "cell_type": "markdown",
      "metadata": {
        "id": "Lv-4Xj2Kk_gN",
        "colab_type": "text"
      },
      "source": [
        ""
      ]
    },
    {
      "cell_type": "markdown",
      "metadata": {
        "id": "sf8mFQ8Kk_s_",
        "colab_type": "text"
      },
      "source": [
        "(3) Firstly we choose a point on the perimeter of a circle and denote it as A. And suppose the angle between point A and point B is $\\theta$. Then the probobility of the triangle contains the center is:\n",
        "\n",
        "$$\\int_{0}^{\\pi} \\frac{\\theta}{2 \\pi} \\frac{1}{\\pi} \\, d \\theta  = \\frac{\\pi^{2}}{4 \\pi^{2}} = \\frac{1}{4}.$$\n",
        "\n",
        "\n"
      ]
    }
  ]
}