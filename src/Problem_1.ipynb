{
  "nbformat": 4,
  "nbformat_minor": 0,
  "metadata": {
    "colab": {
      "name": "Problem 1",
      "provenance": [],
      "authorship_tag": "ABX9TyMwiHfRBsgDi853ajsBJHr6",
      "include_colab_link": true
    },
    "kernelspec": {
      "name": "python3",
      "display_name": "Python 3"
    }
  },
  "cells": [
    {
      "cell_type": "markdown",
      "metadata": {
        "id": "view-in-github",
        "colab_type": "text"
      },
      "source": [
        "<a href=\"https://colab.research.google.com/github/JiaminJIAN/20MA573/blob/master/src/Problem_1.ipynb\" target=\"_parent\"><img src=\"https://colab.research.google.com/assets/colab-badge.svg\" alt=\"Open In Colab\"/></a>"
      ]
    },
    {
      "cell_type": "markdown",
      "metadata": {
        "id": "-E-Gx8e0jQ-9",
        "colab_type": "text"
      },
      "source": [
        "### **Problem 1**\n",
        "\n",
        "Yiyang wants to understand the following question: If he randomly chooses three points on the perimeter of a circle, what is the probability that the triangle made of three points contains the center?\n",
        "\n",
        "(1) Write a pseudocode to estimate the probability.\n",
        "\n",
        "(2) Write a python code and implement it.\n",
        "\n",
        "(3) Give me your guess on this probability. Can you justify? "
      ]
    },
    {
      "cell_type": "markdown",
      "metadata": {
        "id": "W0m0xiwVjd70",
        "colab_type": "text"
      },
      "source": [
        "Solution:\n",
        "\n",
        "(1) If the inner triangle of a circle is a obtuse triangle, the triangle will contain the center of the circle.  And If the inner triangle of a circle is an acute triangle, the triangle does not contain the center of the circle.\n",
        "\n",
        "Pseudocode:\n",
        "\n",
        "[pseudocode](https://github.com/JiaminJIAN/20MA573/blob/master/src/problem1.pdf)"
      ]
    },
    {
      "cell_type": "code",
      "metadata": {
        "id": "dXjrimzejN3l",
        "colab_type": "code",
        "colab": {}
      },
      "source": [
        ""
      ],
      "execution_count": 0,
      "outputs": []
    },
    {
      "cell_type": "markdown",
      "metadata": {
        "id": "Lv-4Xj2Kk_gN",
        "colab_type": "text"
      },
      "source": [
        "(2) Write a python code and implement it.\n",
        "\n"
      ]
    },
    {
      "cell_type": "code",
      "metadata": {
        "id": "xOs0JTx26zJt",
        "colab_type": "code",
        "colab": {}
      },
      "source": [
        "import numpy as np\n",
        "from scipy import stats\n",
        "from scipy.stats import bernoulli"
      ],
      "execution_count": 0,
      "outputs": []
    },
    {
      "cell_type": "code",
      "metadata": {
        "id": "7-P-ScQY69Aj",
        "colab_type": "code",
        "colab": {}
      },
      "source": [
        "def circle(N):\n",
        "  p = 0\n",
        "  for i in range(N):\n",
        "    x = np.zeros(3)\n",
        "    y = np.zeros(3)\n",
        "    for j in range(3):\n",
        "      x[j] = np.random.uniform(low=-1, high=1) \n",
        "      y[j] = np.sqrt(1 - x[j]**2) * (2 * bernoulli.rvs(0.5) - 1)\n",
        "    a = (x[0]-x[1])**2 + (y[0]-y[1])**2\n",
        "    b = (x[1]-x[2])**2 + (y[1]-y[2])**2\n",
        "    c = (x[0]-x[2])**2 + (y[0]-y[2])**2\n",
        "    if a+b-c>0 and a+c-b>0 and b+c-a>0:\n",
        "      p = p + 1\n",
        "  return p/N"
      ],
      "execution_count": 0,
      "outputs": []
    },
    {
      "cell_type": "code",
      "metadata": {
        "id": "oQ4qO7Qs9pSf",
        "colab_type": "code",
        "colab": {
          "base_uri": "https://localhost:8080/",
          "height": 54
        },
        "outputId": "5475b526-b3e5-47b0-bc7c-3e73ea448076"
      },
      "source": [
        "circle(10000)"
      ],
      "execution_count": 3,
      "outputs": [
        {
          "output_type": "execute_result",
          "data": {
            "text/plain": [
              "0.2495"
            ]
          },
          "metadata": {
            "tags": []
          },
          "execution_count": 3
        }
      ]
    },
    {
      "cell_type": "markdown",
      "metadata": {
        "id": "sf8mFQ8Kk_s_",
        "colab_type": "text"
      },
      "source": [
        "(3) Firstly we choose a point on the perimeter of a circle and denote it as A. And suppose the angle between point A and point B is $\\theta$. Then the probobility of the triangle contains the center is:\n",
        "\n",
        "$$\\int_{0}^{\\pi} \\frac{\\theta}{2 \\pi} \\frac{1}{\\pi} \\, d \\theta  = \\frac{\\pi^{2}}{4 \\pi^{2}} = \\frac{1}{4}.$$\n",
        "\n",
        "\n"
      ]
    }
  ]
}