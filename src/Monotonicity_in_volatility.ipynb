{
  "nbformat": 4,
  "nbformat_minor": 0,
  "metadata": {
    "colab": {
      "name": "Monotonicity in volatility",
      "provenance": [],
      "collapsed_sections": [],
      "authorship_tag": "ABX9TyO0D0lLtOEKmyrvEvf+ot/q",
      "include_colab_link": true
    },
    "kernelspec": {
      "name": "python3",
      "display_name": "Python 3"
    }
  },
  "cells": [
    {
      "cell_type": "markdown",
      "metadata": {
        "id": "view-in-github",
        "colab_type": "text"
      },
      "source": [
        "<a href=\"https://colab.research.google.com/github/JiaminJIAN/20MA573/blob/master/src/Monotonicity_in_volatility.ipynb\" target=\"_parent\"><img src=\"https://colab.research.google.com/assets/colab-badge.svg\" alt=\"Open In Colab\"/></a>"
      ]
    },
    {
      "cell_type": "markdown",
      "metadata": {
        "id": "A-V2WsaQfUyD",
        "colab_type": "text"
      },
      "source": [
        "## **monotonicity in volatility**\n",
        "\n",
        "### **Exercise 1:**\n",
        "\n",
        "Prove or disprove: Suppose $f$ is convex and $X$ is submartingale, prove that  $g(t) = \\mathbb E[f(X_t)]$ is increasing.\n"
      ]
    },
    {
      "cell_type": "markdown",
      "metadata": {
        "id": "ke3vOZ6lfwRY",
        "colab_type": "text"
      },
      "source": [
        "### **Solution:**\n",
        "\n",
        "This proposition is not right. We can give a counter example. Assume $f(x) = -x$, then $f(x)$ is a convex function since $\\forall x_{1}, x_{2} \\in \\mathbb{R}$, and $\\forall t \\in [0, 1]$, we have $f(t x_{1} + (1-t)x_{2}) \\leq t f(x_{1}) + (1-t)f(x_{2})$ holds. Then we can verify the proposotion that $g(t)$ is increasing. Since $\\forall s \\leq t$,\n",
        "\n",
        "$$\\mathbb{E} [f(X_{t}) - f(X_{s}) | \\mathcal{F_{s}}] = \\mathbb{E}[-X_{t} + X_{s} | \\mathcal{F_{s}}] = X_{s} - \\mathbb{E}[X_{t} | \\mathcal{F_{s}}]$$\n",
        "\n",
        "Since $X_{t}$ is a submartigale with respect to the filtration $\\{F_{t}\\}_{t \\in \\mathbb{T}}$, then. we have\n",
        "\n",
        "$$\\mathbb{E}[X_{t} | \\mathcal{F_{s}}] \\geq X_{s}$$\n",
        "\n",
        "thus we know that $\\forall s \\leq t$, $\\mathbb{E} [f(X_{t}) - f(X_{s}) | \\mathcal{F_{s}}] \\leq 0$. Then we take expectation on the both side and by the definition of conditional expectation, we have\n",
        "\n",
        "$$\\mathbb{E} [f(X_{t}) - f(X_{s})] \\leq 0.$$\n",
        "\n",
        "Then we know that $\\forall s \\leq t$, $g(t) \\leq g(s)$, such that $g(t)$ is decreasing almost everywhere."
      ]
    },
    {
      "cell_type": "markdown",
      "metadata": {
        "id": "-SZZL3MzkGiD",
        "colab_type": "text"
      },
      "source": [
        "****"
      ]
    },
    {
      "cell_type": "markdown",
      "metadata": {
        "id": "_mFBvy_skG0M",
        "colab_type": "text"
      },
      "source": [
        "### **Exercise 2:**\n",
        "\n",
        "Let $t \\mapsto e^{-rt}S_t$ be a martingale, then prove that $$C(t) = \\mathbb E[e^{-rt}(S_t - K)^+]$$ is increasing."
      ]
    },
    {
      "cell_type": "markdown",
      "metadata": {
        "id": "wFZxdtmbkdNS",
        "colab_type": "text"
      },
      "source": [
        "### **Solution:**\n",
        "\n",
        "Since $e^{-rt} S_{t}$ is a martingale with respect to the filtration $\\{F_{t}\\}_{t \\in \\mathbb{T}}$, and the function $f(x) = x^{+}$ is a convex function, then by the Jensen's inequality in the conditional expectation, we have $\\forall s \\leq t$,\n",
        "\n",
        "$$\\mathbb{E} [e^{-rt}(S_{t} - K)^{+} | \\mathcal{F_{s}}] \\geq (\\mathbb{E} [e^{-rt}(S_{t} - K) | \\mathcal{F_{s}}])^{+} = (e^{-rs}S_{s} - e^{-rt} K)^{+}$$\n",
        "\n",
        "And we have \n",
        "\n",
        "$$(e^{-rs}S_{s} - e^{-rt} K)^{+} = \\big((e^{-rs}(S_{s} - K) + K (e^{-rs} - e^{-rt})\\big)^{+} \\geq (e^{-rs}(S_{s} - K))^{+} $$\n",
        "\n",
        "since $K (e^{-rs} -  e^{-rt}) \\geq 0$, $\\forall s \\leq t$ and $K > 0$. Thus we know that $\\mathbb{E} [e^{-rt}(S_{t} - K)^{+} | \\mathcal{F_{s}}] \\geq (e^{-rs}(S_{s} - K))^{+}$, then we take expectation on the both side, we have that\n",
        "\n",
        "$$\\mathbb{E} [e^{-rt}(S_{t} - K)^{+}] \\geq \\mathbb{E} [(e^{-rs}(S_{s} - K))^{+}].$$\n",
        "\n",
        "Such that $\\forall s \\leq t$, we have $C(s) \\leq C(t)$, then $C(t)$ is increasing."
      ]
    },
    {
      "cell_type": "markdown",
      "metadata": {
        "id": "ipgUmUWbsYQx",
        "colab_type": "text"
      },
      "source": [
        "****\n"
      ]
    },
    {
      "cell_type": "markdown",
      "metadata": {
        "id": "HMkxuCKksZjm",
        "colab_type": "text"
      },
      "source": [
        "### **Exercise 3:**\n",
        "\n",
        "Suppose $r = 0$ and $S$ is martingale, prove that $P(t) = \\mathbb E [(S_t - K)^-]$ is increasing."
      ]
    },
    {
      "cell_type": "markdown",
      "metadata": {
        "id": "bp4vIh9rswoG",
        "colab_type": "text"
      },
      "source": [
        "Since $ S_{t}$ is a martingale with respect to the filtration $\\{F_{t}\\}_{t \\in \\mathbb{T}}$, we have $\\forall s \\leq t$,\n",
        "\n",
        "$$\\mathbb{E} [(S_{t} - K)^{-} - (S_{s} - K)^{-}| \\mathcal{F_{s}}] = \\mathbb{E} [(S_{t} - K)^{-}| \\mathcal{F_{s}}] - (S_{s} - K)^{-} = (K - S_{s}) \\mathbb{1}_{\\{S_{t} < K\\}} - (K - S_{s})^{+},$$\n",
        "\n",
        "then we have\n",
        "\n",
        "$$\n",
        "\\begin{equation}\n",
        "\\mathbb{E} [(S_{t} - K)^{-} - (S_{s} - K)^{-}| \\mathcal{F_{s}}] = \n",
        "\\begin{cases}\n",
        "K - S_{s} - (K - S_{s})^{+}, \\quad  S_{t} < K \\\\\n",
        "- (K - S_{s})^{+}, \\quad S_{t} \\geq K\n",
        "\\end{cases}\n",
        "\\end{equation}\n",
        "$$\n",
        "\n",
        "Then take expectation on the both side, we have\n",
        "\n",
        "$$\n",
        "\\begin{equation}\n",
        "\\mathbb{E} [(S_{t} - K)^{-} - (S_{s} - K)^{-}] = \n",
        "\\begin{cases}\n",
        "\\mathbb{E} [K - S_{s} - (K - S_{s})^{+}], \\quad  S_{t} < K \\\\\n",
        "\\mathbb{E}[- (K - S_{s})^{+}], \\quad S_{t} \\geq K\n",
        "\\end{cases}\n",
        "\\end{equation}\n",
        "$$\n",
        "\n",
        "since $K - S_{s} - (K - S_{s})^{+} \\leq 0$ and $- (K - S_{s})^{+} \\leq 0$, then we have $\\forall s \\leq t$,$\\mathbb{E} [(S_{t} - K)^{-} - (S_{s} - K)^{-}] \\leq 0$, thus $P(t) \\leq P(s)$. So, we proved that $P(t)$ is decreasing.\n",
        "\n",
        "**solution 2:**\n",
        "\n",
        "Or we can just verify the relationship between $\\mathbb{E} [(S_{t} - K)^{-} | \\mathcal{F_{s}}]$ and $(S_{s} - K)^{-}$.\n",
        "\n",
        "If $S_{t} > K$,\n",
        "\n",
        "$$\\mathbb{E} [(S_{t} - K)^{-} | \\mathcal{F_{s}}] = 0 \\leq (S_{s} - K)^{-}.$$\n",
        "\n",
        "If $S_{t} \\leq K$,\n",
        "\n",
        "$$\\mathbb{E} [(S_{t} - K)^{-} | \\mathcal{F_{s}}] = K - S_{s}\\leq (S_{s} - K)^{-}.$$\n",
        "\n",
        "Thus we have $\\mathbb{E} [(S_{t} - K)^{-} | \\mathcal{F_{s}}] \\leq (S_{s} - K)^{-}$. Taking expectation on the both side, we have\n",
        "\n",
        "$$\\mathbb{E} [(S_{t} - K)^{-}] \\leq \\mathbb{E} [(S_{s} - K)^{-}].$$\n",
        "\n",
        "So we know that $\\forall s \\leq t$, $P(t) \\leq P(x)$, then $P(t)$ is decreasing.\n"
      ]
    }
  ]
}