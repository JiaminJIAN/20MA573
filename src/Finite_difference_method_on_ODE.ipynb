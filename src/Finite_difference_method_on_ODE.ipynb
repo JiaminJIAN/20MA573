{
  "nbformat": 4,
  "nbformat_minor": 0,
  "metadata": {
    "colab": {
      "name": "Finite difference method on ODE",
      "provenance": [],
      "collapsed_sections": [],
      "authorship_tag": "ABX9TyPX/EzOqxXb8WIhGFeFiNjp",
      "include_colab_link": true
    },
    "kernelspec": {
      "name": "python3",
      "display_name": "Python 3"
    }
  },
  "cells": [
    {
      "cell_type": "markdown",
      "metadata": {
        "id": "view-in-github",
        "colab_type": "text"
      },
      "source": [
        "<a href=\"https://colab.research.google.com/github/JiaminJIAN/20MA573/blob/master/src/Finite_difference_method_on_ODE.ipynb\" target=\"_parent\"><img src=\"https://colab.research.google.com/assets/colab-badge.svg\" alt=\"Open In Colab\"/></a>"
      ]
    },
    {
      "cell_type": "markdown",
      "metadata": {
        "id": "CdY9IeOMeEVg",
        "colab_type": "text"
      },
      "source": [
        "# **Finite difference method on ODE**\n",
        "\n",
        "## **Exercise:**\n",
        "\n",
        "Consider ODE\n",
        "\n",
        "\\begin{equation}\n",
        "    - \\epsilon u^{''} + u = x, \\, \\forall x \\in (0, 1) \\, u(0) = u(1) = 0,\n",
        "\\end{equation}\n",
        "\n",
        "with $\\epsilon = 10^{-10}$. This example is taken from Example $5.2$ of\n",
        "\n",
        "- Qingshuo Song, George Yin, Zhimin Zhang, An epsilon-uniform finite element method for singularly perturbed boundary value problems.\n",
        "\n",
        "Instead of FEM, we are going to discuss CFD solution of the above ODE. Answer the following questions:\n",
        "\n",
        "(i) Prove that\n",
        "\\begin{equation*}\n",
        "    u(x) = x - \\frac{\\exp (\\frac{x-1}{\\sqrt{\\epsilon}}) - \\exp (- \\frac{x+1}{\\sqrt{\\epsilon}})}{1 - \\exp(- \\frac{2}{\\sqrt{\\epsilon}})}\n",
        "\\end{equation*}\n",
        "is the unique solution.\n",
        "\n",
        "(ii) Using CFD on above ODE, find out the matrix $L^{h}$ and vector $R^{h}f$, such that the numerical solution satisfies $L^{h}u^{h} = R^{h}f$.\n",
        "\n",
        "(iii) Prove the consistency and stability of $L^{h}$.\n",
        "\n",
        "(iv) Compute CFD solution $u^{h}$ with $h = \\frac{1}{5}$. Compare with the FEM solution of the paper, which one is better?\n"
      ]
    },
    {
      "cell_type": "markdown",
      "metadata": {
        "id": "Xd3YJawZfFfK",
        "colab_type": "text"
      },
      "source": [
        "## **Solution:**\n",
        "\n",
        "\n",
        "For the question (iv):\n",
        "\n",
        "When $ h = \\frac{1}{5}$ and $\\epsilon = 10^{-10}$, we can get the exact value of $s = 1 + 50 \\times 10^{-10}$ and $r = 25 \\times 10^{-10}$. And we have $R^{h} f = (0, \\frac{1}{5}, \\frac{2}{5}, \\frac{3}{5}, \\frac{4}{5}, 0)$ and \n",
        "\n",
        "$$ A = \n",
        " \\begin{bmatrix}\n",
        " 1  &  0  &  0  &  0  &  0  & 0  \\\\\n",
        " -r &  s  & -r  &  0  &  0  & 0  \\\\\n",
        " 0  & -r  & s   &  -r &  0  & 0  \\\\\n",
        " 0  &  0  & -r  &  s  & -r  & 0   \\\\\n",
        " 0  &  0  & 0   & -r  &  s  & -r  \\\\\n",
        " 0  &  0  & 0   &  0  &  0  &  1 \n",
        "\\end{bmatrix}\n",
        "$$\n",
        "\n",
        "Then by the $L^{h} u^{h} = R^{h}f$, we can get the numerical solution of the above ODE."
      ]
    },
    {
      "cell_type": "code",
      "metadata": {
        "id": "KVamAXTuoIKG",
        "colab_type": "code",
        "outputId": "6f520aa9-effe-49c2-9299-55af7b8f8b1a",
        "colab": {
          "base_uri": "https://localhost:8080/",
          "height": 68
        }
      },
      "source": [
        "# Get the exact value of s and r\n",
        "\n",
        "e = 10**(-10)\n",
        "s = 1 + 50 * e\n",
        "r = 25 * e\n",
        "\n",
        "print(\"the value of e is\", e)\n",
        "print(\"the value of s is\", s)\n",
        "print(\"the value of r is\", r)"
      ],
      "execution_count": 1,
      "outputs": [
        {
          "output_type": "stream",
          "text": [
            "the value of e is 1e-10\n",
            "the value of s is 1.000000005\n",
            "the value of r is 2.5e-09\n"
          ],
          "name": "stdout"
        }
      ]
    },
    {
      "cell_type": "code",
      "metadata": {
        "id": "dcEPiHVLoLf1",
        "colab_type": "code",
        "outputId": "c1ef894a-cae4-4c18-e3be-93f74e115e7b",
        "colab": {
          "base_uri": "https://localhost:8080/",
          "height": 34
        }
      },
      "source": [
        "import numpy as np\n",
        "from scipy.linalg import solve\n",
        "\n",
        "a = np.array([[1, 0, 0 ,0, 0, 0], [-r, s, -r ,0, 0, 0],\\\n",
        "              [0, -r, s, -r, 0, 0], [0, 0, -r, s, -r, 0],\\\n",
        "              [0, 0, 0, -r, s, -r], [0, 0, 0 ,0, 0, 1]])\n",
        "b = np.array([0, 1/5, 2/5, 3/5, 4/5, 0])\n",
        "numerical_solution = solve(a, b)\n",
        "print(numerical_solution)"
      ],
      "execution_count": 2,
      "outputs": [
        {
          "output_type": "stream",
          "text": [
            "[0.  0.2 0.4 0.6 0.8 0. ]\n"
          ],
          "name": "stdout"
        }
      ]
    },
    {
      "cell_type": "code",
      "metadata": {
        "id": "mWFjhm5OoTIE",
        "colab_type": "code",
        "outputId": "beab5475-dd2d-41a7-8d1c-f33db8290a0c",
        "colab": {
          "base_uri": "https://localhost:8080/",
          "height": 34
        }
      },
      "source": [
        "# Get the exact value of the ODE\n",
        "\n",
        "def exact_value(x, e):\n",
        "  u = x - (np.exp((x - 1)/np.sqrt(e)) - np.exp(- (x+1)/np.sqrt(e))) / (1 - np.exp(- 2 / np.sqrt(e)))\n",
        "  return u\n",
        "\n",
        "exact_value_list = []\n",
        "e = 10**(-10)\n",
        "exact_value_list = [exact_value(i/5, e) for i in range(6)]\n",
        "print(exact_value_list)\n",
        "\n",
        "\n"
      ],
      "execution_count": 3,
      "outputs": [
        {
          "output_type": "stream",
          "text": [
            "[0.0, 0.2, 0.4, 0.6, 0.8, 0.0]\n"
          ],
          "name": "stdout"
        }
      ]
    },
    {
      "cell_type": "code",
      "metadata": {
        "id": "wJ384fzhoZxl",
        "colab_type": "code",
        "outputId": "9cc6dc5d-7c22-4f03-f770-3479e8c3f747",
        "colab": {
          "base_uri": "https://localhost:8080/",
          "height": 279
        }
      },
      "source": [
        "# Plot the exact value with the numerical solution of the ODE\n",
        "\n",
        "import matplotlib.pyplot as plt\n",
        "from pylab import plt\n",
        "plt.style.use('seaborn')\n",
        "%matplotlib inline\n",
        "\n",
        "x = np.array([0, 1/5, 2/5, 3/5, 4/5, 1])\n",
        "plt.plot(x, numerical_solution, 'o', label='Numerical solution of the ODE')\n",
        "plt.plot(x, exact_value_list, label = 'Exact value of the ODE')\n",
        "\n",
        "plt.ylabel('u(x)')\n",
        "plt.xlabel('x')\n",
        "plt.legend();"
      ],
      "execution_count": 9,
      "outputs": [
        {
          "output_type": "display_data",
          "data": {
            "image/png": "[encoded data removed]",
            "text/plain": [
              "<Figure size 432x288 with 1 Axes>"
            ]
          },
          "metadata": {
            "tags": []
          }
        }
      ]
    }
  ]
}