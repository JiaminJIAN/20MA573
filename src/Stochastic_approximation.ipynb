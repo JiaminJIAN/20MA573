{
  "nbformat": 4,
  "nbformat_minor": 0,
  "metadata": {
    "colab": {
      "name": "Stochastic approximation",
      "provenance": [],
      "collapsed_sections": [],
      "authorship_tag": "ABX9TyNemZ8dYwGsy8PepFSB4b2R",
      "include_colab_link": true
    },
    "kernelspec": {
      "name": "python3",
      "display_name": "Python 3"
    }
  },
  "cells": [
    {
      "cell_type": "markdown",
      "metadata": {
        "id": "view-in-github",
        "colab_type": "text"
      },
      "source": [
        "<a href=\"https://colab.research.google.com/github/JiaminJIAN/20MA573/blob/master/src/Stochastic_approximation.ipynb\" target=\"_parent\"><img src=\"https://colab.research.google.com/assets/colab-badge.svg\" alt=\"Open In Colab\"/></a>"
      ]
    },
    {
      "cell_type": "markdown",
      "metadata": {
        "id": "P2Vhuhctiu9o",
        "colab_type": "text"
      },
      "source": [
        "## **Stochastic Approximation**\n",
        "\n",
        "Let $D = \\{X_{i}: i \\in \\mathbb{N}\\}$ be a data set of iid sequence from a random generator of distribution $\\mathcal{N}(b, \\sigma^{2})$ for some unknown parameters $b$ and $\\sigma$. Our goal is to estimate $b$ using so called stochastic approximation (SA) with a given learning rate $\\alpha \\in (0, 1)$:\n",
        "\n",
        "- initialize $b_{0}$\n",
        "- iterate $b_{n+1} = b_{n} + \\alpha (x_{n} - b_{n})$.\n",
        "\n",
        "we want to examine the convergence $b_{n} \\to b$. For simplicity, let's fix $\\alpha = 0.01$.\n",
        "\n",
        "- Write pseudocode for SA.\n",
        "- Generate a data set $D = \\{x_{i} : 1\\leq i \\leq 10000\\}$ with $\\mathcal{N}(1, 4)$.\n",
        "- Write a code to implement SA on D, and demonstrate $b_{n} \\to b$ as $n \\to \\infty$.\n",
        "- Prove that $\\lim_{n \\to \\infty} \\mathbb{E}(b_{n}) = b$.\n",
        "- Can you prove or disprove that $b_{n} \\to b$ in $L^{2}$?"
      ]
    },
    {
      "cell_type": "markdown",
      "metadata": {
        "id": "UMxUzHU-lYsK",
        "colab_type": "text"
      },
      "source": [
        "## **Solution:**\n",
        "\n",
        "(1) The pseudocode is as follows:\n",
        "\n",
        "[Pseudocode](https://github.com/JiaminJIAN/20MA573/blob/master/src/HW10_pesudocode.png)"
      ]
    },
    {
      "cell_type": "code",
      "metadata": {
        "id": "niwYCENsxY5d",
        "colab_type": "code",
        "colab": {}
      },
      "source": [
        ""
      ],
      "execution_count": 0,
      "outputs": []
    },
    {
      "cell_type": "markdown",
      "metadata": {
        "id": "2V3F6q4PoBhr",
        "colab_type": "text"
      },
      "source": [
        "(2) Generate a data set $D = \\{x_{i} : 1\\leq i \\leq 10000\\}$ with $\\mathcal{N}(1, 4)$."
      ]
    },
    {
      "cell_type": "code",
      "metadata": {
        "id": "BmOGxqDsn2NI",
        "colab_type": "code",
        "colab": {}
      },
      "source": [
        "import numpy as np\n",
        "import matplotlib.pyplot as plt\n",
        "from pylab import plt\n",
        "plt.style.use('seaborn')\n",
        "%matplotlib inline\n"
      ],
      "execution_count": 0,
      "outputs": []
    },
    {
      "cell_type": "code",
      "metadata": {
        "id": "aHNHQfOzo3Vj",
        "colab_type": "code",
        "outputId": "aff09b53-4075-4a25-aebe-69d0bee20901",
        "colab": {
          "base_uri": "https://localhost:8080/",
          "height": 265
        }
      },
      "source": [
        "## Generate the data set D\n",
        "\n",
        "mu = 1; sigma = 2\n",
        "D = np.random.normal(mu, sigma, 10000)\n",
        "\n",
        "count, bins, ignored = plt.hist(D, 50, density=True)\n",
        "plt.plot(bins, 1/(sigma * np.sqrt(2 * np.pi)) * np.exp( - (bins - mu)**2 / (2 * sigma**2) ), linewidth=2, color='r')\n",
        "plt.show()"
      ],
      "execution_count": 2,
      "outputs": [
        {
          "output_type": "display_data",
          "data": {
            "image/png": "[encoded data removed]",
            "text/plain": [
              "<Figure size 432x288 with 1 Axes>"
            ]
          },
          "metadata": {
            "tags": [],
            "needs_background": "light"
          }
        }
      ]
    },
    {
      "cell_type": "code",
      "metadata": {
        "id": "9pjbF0cRxXph",
        "colab_type": "code",
        "colab": {}
      },
      "source": [
        ""
      ],
      "execution_count": 0,
      "outputs": []
    },
    {
      "cell_type": "markdown",
      "metadata": {
        "id": "Mi2_ZsU7qZL4",
        "colab_type": "text"
      },
      "source": [
        "(3) Write a code to implement SA on D, and demonstrate $b_{n} \\to b$ as $n \\to \\infty$."
      ]
    },
    {
      "cell_type": "code",
      "metadata": {
        "id": "-z-oRuZ_qXZ-",
        "colab_type": "code",
        "outputId": "2f606101-31c3-4ea8-d154-fc312de1d472",
        "colab": {
          "base_uri": "https://localhost:8080/",
          "height": 51
        }
      },
      "source": [
        "## AS(mu,n)\n",
        "\n",
        "def AS(mu_ture, n):\n",
        "  alpha = 0.01\n",
        "  mu = 0\n",
        "\n",
        "  for i in range(n):\n",
        "    x = np.random.normal(mu_ture, 2)\n",
        "    b = mu\n",
        "    mu = b + alpha * (x - b)\n",
        "\n",
        "  return (mu)\n",
        "\n",
        "mu_estimate = AS(1, 10000)\n",
        "print(\"The estimator of mu by the stochastic approximation method is:\")\n",
        "print(mu_estimate)"
      ],
      "execution_count": 7,
      "outputs": [
        {
          "output_type": "stream",
          "text": [
            "The estimator of mu by the stochastic approximation method is:\n",
            "1.0204444873826277\n"
          ],
          "name": "stdout"
        }
      ]
    },
    {
      "cell_type": "code",
      "metadata": {
        "id": "o9CBiCCNsYpl",
        "colab_type": "code",
        "outputId": "d3a97b0f-4784-4224-b3b5-ecd0eb8f2779",
        "colab": {
          "base_uri": "https://localhost:8080/",
          "height": 51
        }
      },
      "source": [
        "mu_record = []\n",
        "mean_of_mu = []\n",
        "\n",
        "for i in range(1000):\n",
        "  mu_record.append(AS(1, 10000))\n",
        "  mean_of_mu.append(np.mean(mu_record))\n",
        "\n",
        "print(\"The estimator of mu by the stochastic approximation method is:\")\n",
        "print(mean_of_mu[-1])"
      ],
      "execution_count": 8,
      "outputs": [
        {
          "output_type": "stream",
          "text": [
            "The estimator of mu by the stochastic approximation method is:\n",
            "0.996538431661924\n"
          ],
          "name": "stdout"
        }
      ]
    },
    {
      "cell_type": "code",
      "metadata": {
        "id": "YmJEVUWDts_R",
        "colab_type": "code",
        "outputId": "e5f5aec6-b551-4ed7-f38f-be6070c3eabd",
        "colab": {
          "base_uri": "https://localhost:8080/",
          "height": 286
        }
      },
      "source": [
        "plt.plot(range(1000), mean_of_mu, label='plot of the mean of mu_estimate ')\n",
        "plt.axhline(1, color='r', ls='dashed', lw=1.5, label='benchmark')\n",
        "plt.ylim(0.8, 1.2)\n",
        "plt.legend()"
      ],
      "execution_count": 9,
      "outputs": [
        {
          "output_type": "execute_result",
          "data": {
            "text/plain": [
              "<matplotlib.legend.Legend at 0x7ff28c3278d0>"
            ]
          },
          "metadata": {
            "tags": []
          },
          "execution_count": 9
        },
        {
          "output_type": "display_data",
          "data": {
            "image/png": "[encoded data removed]",
            "text/plain": [
              "<Figure size 432x288 with 1 Axes>"
            ]
          },
          "metadata": {
            "tags": [],
            "needs_background": "light"
          }
        }
      ]
    },
    {
      "cell_type": "code",
      "metadata": {
        "id": "9B87V8RAxSPx",
        "colab_type": "code",
        "colab": {}
      },
      "source": [
        ""
      ],
      "execution_count": 0,
      "outputs": []
    },
    {
      "cell_type": "markdown",
      "metadata": {
        "id": "DZuVyhuLucaY",
        "colab_type": "text"
      },
      "source": [
        "(4) Prove that $\\lim_{n \\to \\infty} \\mathbb{E}(b_{n}) = b$."
      ]
    },
    {
      "cell_type": "markdown",
      "metadata": {
        "id": "D98KIoJwulZx",
        "colab_type": "text"
      },
      "source": [
        "**Proof:**\n",
        "\n",
        "Since $b_{n+1} = b_{n} + \\alpha (x_{n} - b_{n})$ and $x_{n} \\sim \\mathcal{N}(b, \\sigma^{2})$, we have\n",
        "\n",
        "$$b_{n+1} = (1 - \\alpha) b_{n} + \\alpha x_{n}.$$\n",
        "\n",
        "Take expectation on the both side, we have\n",
        "\n",
        "$$\\mathbb{E}(b_{n+1}) = (1 - \\alpha) \\mathbb{E} (b_{n}) + \\alpha \\mathbb{E}(x_{n}),$$\n",
        "\n",
        "then we have\n",
        "\n",
        "$$\\mathbb{E}(b_{n+1}) = (1 - \\alpha) \\mathbb{E} (b_{n}) + \\alpha b.$$\n",
        "\n",
        "We denote $x = \\lim_{n \\to \\infty} \\mathbb{E} (b_{n})$, then we can get\n",
        "\n",
        "$$x = (1 - \\alpha) x + \\alpha b,$$\n",
        "\n",
        "thus we know that $x = \\lim_{n \\to \\infty} \\mathbb{E} (b_{n}) = b$.\n"
      ]
    },
    {
      "cell_type": "code",
      "metadata": {
        "id": "D1Frm8tyxUCh",
        "colab_type": "code",
        "colab": {}
      },
      "source": [
        ""
      ],
      "execution_count": 0,
      "outputs": []
    },
    {
      "cell_type": "markdown",
      "metadata": {
        "id": "G9N0te_rxMLn",
        "colab_type": "text"
      },
      "source": [
        "(5) Can you prove or disprove that $b_{n} \\to b$ in $L^{2}$?"
      ]
    },
    {
      "cell_type": "markdown",
      "metadata": {
        "id": "afjifT29xc78",
        "colab_type": "text"
      },
      "source": [
        "**Proof:**\n",
        "\n",
        "The sequence $b_{n}$ doesn't converges to $b$ in $L^{2}$.\n",
        "\n",
        "Since $b_{0} = 0$ and $b_{n+1} = (1 - \\alpha) b_{n} + \\alpha x_{n}$, by mathematic induction, we know that\n",
        "\n",
        "$$b_{n} = \\sum_{k = 0}^{n - 1} (1 - \\alpha)^{n - k - 1} \\alpha x_{k} ,$$\n",
        "\n",
        "as the sequence $\\{x_{n}\\}$  is iid of $\\mathcal{N}(b, \\sigma^{2})$, the variance of $b_{n}$ is\n",
        "\n",
        "$$var(b_{n}) = \\sigma^{2} \\alpha^{2} \\sum_{k = 0}^{n - 1} (1 - \\alpha)^{2(n - k - 1)}  = \\sigma^{2} \\alpha^{2} \\sum_{k = 0}^{n - 1} (1 - \\alpha)^{2 k} = \\sigma^{2} \\alpha^{2} \\frac{1 - (1 - \\alpha)^{2n}}{1 - (1 - \\alpha)^{2}}.$$\n",
        "\n",
        "As $\\alpha \\in (0, 1)$, when $n \\to \\infty$, we have\n",
        "\n",
        "$$\\lim_{n \\to \\infty} var(b_{n}) = \\frac{\\sigma^{2} \\alpha}{2 - \\alpha}.$$\n",
        "\n",
        "We prove the statement that the sequence $b_{n}$ does not converge to $b$ in $L^{2}$ by contradiction. If $b_{n}$ converges to $b$ in $L^{2}$, we have\n",
        "\n",
        "$$\\lim_{n \\to \\infty} \\mathbb{E}[(b_{n} - b)^{2}] = 0.$$\n",
        "\n",
        "Then we have\n",
        "\n",
        "$$\\lim_{n \\to \\infty} \\mathbb{E} [(b_{n} - \\mathbb{E}(b_{n}))^{2}] + \\lim_{n \\to \\infty} (\\mathbb{E}(b_{n}) - b)^{2}  = 0.$$\n",
        "\n",
        "Since we have $\\lim_{n \\to \\infty} \\mathbb{E} (b_{n}) = b$, then if $b_{n}$ converges to $b$ in $L^{2}$, we have\n",
        "\n",
        "$$\\lim_{n \\to \\infty} \\mathbb{E} [(b_{n} - \\mathbb{E}(b_{n}))^{2}] = \\lim_{n \\to \\infty} var(b_{n}) = 0, $$\n",
        "\n",
        "which is contradictory with the fact\n",
        "\n",
        "$$\\lim_{n \\to \\infty} var(b_{n}) = \\frac{\\sigma^{2} \\alpha}{2 - \\alpha}.$$\n",
        "\n",
        "Thus we know that the sequence $b_{n}$ doesn't converges to $b$ in $L^{2}$."
      ]
    }
  ]
}