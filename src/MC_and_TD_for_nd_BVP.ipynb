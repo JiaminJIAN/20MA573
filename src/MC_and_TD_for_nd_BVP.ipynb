{
  "nbformat": 4,
  "nbformat_minor": 0,
  "metadata": {
    "colab": {
      "name": "MC and TD for nd BVP",
      "provenance": [],
      "collapsed_sections": [],
      "authorship_tag": "ABX9TyPEIHHL9rKmuQQ4upZpfN2F",
      "include_colab_link": true
    },
    "kernelspec": {
      "name": "python3",
      "display_name": "Python 3"
    }
  },
  "cells": [
    {
      "cell_type": "markdown",
      "metadata": {
        "id": "view-in-github",
        "colab_type": "text"
      },
      "source": [
        "<a href=\"https://colab.research.google.com/github/JiaminJIAN/20MA573/blob/master/src/MC_and_TD_for_nd_BVP.ipynb\" target=\"_parent\"><img src=\"https://colab.research.google.com/assets/colab-badge.svg\" alt=\"Open In Colab\"/></a>"
      ]
    },
    {
      "cell_type": "markdown",
      "metadata": {
        "id": "yOSLLEBXP8E4",
        "colab_type": "text"
      },
      "source": [
        "# **Monte Carlo and Temporal difference for n-D BVP**\n",
        "\n",
        "For the multidimensional BVP,\n",
        "\n",
        "- Domain:\n",
        "\n",
        "$$O = \\{x \\in \\mathbb{R}^{d}: 0 < x_{i} < 1, i = 1, 2, \\dots, d\\}.$$\n",
        "\n",
        "- Equation on O:\n",
        "\n",
        "$$(\\frac{1}{2} \\Delta - \\lambda) v(x) + \\sum_{i=1}^{d} b_{i}(x) \\frac{\\partial v(x)}{\\partial x_{i}} + l(x) = 0.$$\n",
        "\n",
        "- Dirichlet data on O:\n",
        "\n",
        "$$v(x) = g(x).$$\n",
        "\n",
        "We use the value iteration to get the numerical solution of the above PDE.\n",
        "\n",
        "The finite differencee operator is as following:\n",
        "\n",
        "- CFD\n",
        "\n",
        "$$\\frac{\\partial v(x)}{\\partial x_{i}} \\approx \\bar{\\delta}_{h e_{i}} v(x) = \\frac{v(x + h e_{i})- v(x - h e_{i})}{2h}.$$\n",
        "\n",
        "- SCFD\n",
        "\n",
        "$$\\frac{\\partial^{2} v(x)}{\\partial x_{i}^{2}} \\approx \\delta_{he_{i}}\\delta_{-he_{i}} v(x) = \\frac{v(x+he_{i}) - 2v(x) + v(x - he_{i})}{h^{2}}.$$\n",
        "\n",
        "We denote $v_{i}^{+} = v(x + he_{i})$, $v = v(x)$ and $v_{i}^{-} = v(x - he_{i})$, then we have\n",
        "\n",
        "$$\\frac{1}{2} \\sum_{i = 1}^{d} \\frac{v_{i}^{+} - 2v + v_{i}^{-}}{h^{2}} - \\lambda v + \\sum_{i = 1}^{d} b_{i} \\frac{v_{i}^{+} - v_{i}^{-}}{2h} + l = 0.$$\n",
        "\n",
        "By sorting out the same items, we have\n",
        "\n",
        "$$v (x) = \\frac{d}{d + \\lambda h^{2}} \\{\\frac{h^{2}}{d} l(x) + \\sum_{i = 1}^{d} \\frac{1}{2d} (1 + h b_{i}(x)) v_{i}^{+} + \\sum_{i = 1}^{d} \\frac{1}{2d} (1 - h b_{i}(x)) v_{i}^{-} \\}.$$\n",
        "\n",
        "We denote $\\gamma = \\frac{d}{d + \\lambda h^{2}}$, $l^{h} (x) = \\frac{h^{2}}{d} l(x)$ and $p^{h}(x \\pm he_{i} |x) = \\frac{1}{2d} (1 \\pm h b_{i}(x))$, then we can get that\n",
        "\n",
        "$$v (x) = \\gamma \\{l^{h}(x) + \\sum_{i=1}^{d} (p^{h}(x+he_{i}|x)v(x+he_{i}) + p^{h}(x - he_{i}|x) v(x-he_{i}))\\}.$$\n"
      ]
    },
    {
      "cell_type": "code",
      "metadata": {
        "id": "zNOZ025BQmza",
        "colab_type": "code",
        "colab": {}
      },
      "source": [
        ""
      ],
      "execution_count": 0,
      "outputs": []
    },
    {
      "cell_type": "markdown",
      "metadata": {
        "id": "c1Az_B5QQnP5",
        "colab_type": "text"
      },
      "source": [
        "## **Exercise:**\n",
        "\n",
        "Consider 2-d PDE\n",
        "\n",
        "$$\\frac{1}{2} \\Delta v(x) - v(x) + x_{1}^{2} + x_{2}^{2} -x_{1} - x_{2} - \\frac{3}{2} = 0, \\, x \\in O = (0, 1)^{2}$$\n",
        "\n",
        "with the boundary data\n",
        "\n",
        "$$v(x) = (x_{1} - \\frac{1}{2})^{2} + (x_{2} - \\frac{1}{2})^{2}, \\, x \\notin O.$$\n",
        "\n",
        "- Identify MRP with CFD in the form of\n",
        "\n",
        "$$v (x) = \\gamma \\{l^{h}(x) + \\sum_{i=1}^{d} (p^{h}(x+he_{i}|x)v(x+he_{i}) + p^{h}(x - he_{i}|x) v(x-he_{i}))\\}.$$\n",
        "\n",
        "- For $h = \\frac{1}{8}$, compute CFD solution by value iteration.\n",
        "- For $h = \\frac{1}{8}$, compute CFD solution by Monte-Carlo method.\n",
        "- For $h = \\frac{1}{8}$, compute CFD solution by TD method.\n",
        "- Compare above three methods and conclude your observations."
      ]
    },
    {
      "cell_type": "code",
      "metadata": {
        "id": "bqr77CqhRsow",
        "colab_type": "code",
        "colab": {}
      },
      "source": [
        ""
      ],
      "execution_count": 0,
      "outputs": []
    },
    {
      "cell_type": "markdown",
      "metadata": {
        "id": "ws55RSuLRxIX",
        "colab_type": "text"
      },
      "source": [
        "## **Solution:**\n",
        "\n",
        "(1) Identify MRP with CFD in the form of\n",
        "\n",
        "$$v (x) = \\gamma \\{l^{h}(x) + \\sum_{i=1}^{d} (p^{h}(x+he_{i}|x)v(x+he_{i}) + p^{h}(x - he_{i}|x) v(x-he_{i}))\\}.$$\n"
      ]
    },
    {
      "cell_type": "markdown",
      "metadata": {
        "id": "pjvoai2PQv9b",
        "colab_type": "text"
      },
      "source": [
        "**Solution:**\n",
        "\n",
        "Using the CFD method, we have\n",
        "\n",
        "$$\\frac{1}{2} \\sum_{i = 1}^{2} \\frac{v_{i}^{+} - 2v + v_{i}^{-}}{h^{2}} - v + (x_{1} - \\frac{1}{2})^{2} + (x_{2} - \\frac{1}{2})^{2} -2 = 0.$$\n",
        "\n",
        "By sorting out the same terms, we have\n",
        "\n",
        "$$v(x) = \\frac{2}{2+ h^{2}} \\{ \\frac{h^{2}}{2} [(x_{1} - \\frac{1}{2})^{2} + (x_{2} - \\frac{1}{2})^{2} -2] + \\sum_{i=1}^{2} \\frac{1}{4} v(x + he_{i}) + \\sum_{i=1}^{2} \\frac{1}{4} v(x - he_{i})\\}.$$\n",
        "\n",
        "Thus we can get that\n",
        "\n",
        "$$\\gamma = \\frac{2}{2+h^{2}}, \\quad l^{h}(x) = \\frac{h^{2}}{2} [(x_{1} - \\frac{1}{2})^{2} + (x_{2} - \\frac{1}{2})^{2} -2], \\quad p^{h}(x\\pm he_{i}|x) = \\frac{1}{4}.$$\n",
        "\n",
        "Then we know that the transition probability is \n",
        "\n",
        "$$p(s, s^{'})=\n",
        "\\begin{cases}\n",
        "\\frac{1}{4}, & \\|s - s^{'}\\| = 1 \\\\\n",
        "0,& otherwise.\n",
        "\\end{cases}$$\n",
        "\n",
        "And the reward function is\n",
        "\n",
        "$$R(s) = \\gamma l^{h}(x) = \\frac{h^{2}}{2+h^{2}} [(x_{1} - \\frac{1}{2})^{2} + (x_{2} - \\frac{1}{2})^{2} -2].$$\n",
        "\n",
        "what's more, the discount factor is\n",
        "\n",
        "$$\\gamma = \\frac{2}{2+h^{2}}$$"
      ]
    },
    {
      "cell_type": "code",
      "metadata": {
        "id": "lHbXlsm1SBYc",
        "colab_type": "code",
        "colab": {}
      },
      "source": [
        ""
      ],
      "execution_count": 0,
      "outputs": []
    },
    {
      "cell_type": "markdown",
      "metadata": {
        "id": "g2h_XJvETpoA",
        "colab_type": "text"
      },
      "source": [
        "(2) For $h = \\frac{1}{8}$, compute CFD solution by value iteration, Monte-Carlo method and TD method. Then compare above three methods and conclude your observations.\n",
        "\n",
        "**Solution:**"
      ]
    },
    {
      "cell_type": "code",
      "metadata": {
        "id": "k19NBrmEp3Ng",
        "colab_type": "code",
        "colab": {}
      },
      "source": [
        "import time\n",
        "import math\n",
        "import random\n",
        "import numpy as np\n",
        "import matplotlib.pyplot as plt   \n",
        "import itertools\n",
        "from matplotlib import cm\n",
        "from mpl_toolkits.mplot3d import Axes3D"
      ],
      "execution_count": 0,
      "outputs": []
    },
    {
      "cell_type": "code",
      "metadata": {
        "id": "699UWW2Nxv-3",
        "colab_type": "code",
        "colab": {}
      },
      "source": [
        "## PDE class, define the drift, run cost l^{h}(x), terminal cost and the exact solution of PDE\n",
        "\n",
        "class Pde:\n",
        "    def __init__(self, n_dim = 2, verbatim = False):\n",
        "        self.n_dim = n_dim    \n",
        "        self.lam = 1\n",
        "        self.domain = [0,1]\n",
        "        \n",
        "        if verbatim == True:\n",
        "            print('>>> n_dim: '+str(n_dim))\n",
        "            print('>>> domain: ' + str(self.domain))\n",
        "            \n",
        "    drift = lambda self,s,a: [a1*0 for a1 in a]\n",
        "    \n",
        "    run_cost = lambda self,s,a: sum([(s1-0.5)**2 - self.n_dim for s1 in s])\n",
        "\n",
        "    term_cost = lambda self,s: sum([(s1-0.5)**2 for s1 in s]) \n",
        "    exact_soln = lambda self,s: sum([(s1-0.5)**2 for s1 in s]) \n"
      ],
      "execution_count": 0,
      "outputs": []
    },
    {
      "cell_type": "code",
      "metadata": {
        "id": "GOkP2GOix8Pm",
        "colab_type": "code",
        "colab": {}
      },
      "source": [
        "## Transform the PDE into MDP by the CFD scheme or UFD scheme\n",
        "\n",
        "class Mdp(Pde):\n",
        "    def __init__(self, n_dim = 2, n_mesh = 8, verbatim = False):\n",
        "        super().__init__(n_dim, verbatim)\n",
        "        self.n_mesh= n_mesh  \n",
        "        self.totn_mesh = self.n_mesh*(self.domain[1]-self.domain[0])\n",
        "        self.h_mesh = 1./self.n_mesh #mesh size\n",
        "        self.v_shape = tuple([self.totn_mesh+ 1,]*self.n_dim)\n",
        "        if verbatim == True:\n",
        "            print('>>> n_mesh: '+str(n_mesh)\n",
        "                  +' totn_mesh: '+ str(self.totn_mesh))\n",
        "\n",
        "    #input: list of index\n",
        "    #return: physicial coordinate\n",
        "    def i2s(self,ix): \n",
        "        return [x * self.h_mesh+self.domain[0] for x in ix]\n",
        "    \n",
        "    def is_interior(self,ix):\n",
        "        return all(map(lambda a: 0<a<self.totn_mesh, ix))\n",
        "        \n",
        "    #input: lists of index and action\n",
        "    #return: discount rate, running cost, list of next index, list of probability\n",
        "    def step(self, ix, a, fd='cfd'):\n",
        "        ix = list(ix)\n",
        "        s = self.i2s(ix)\n",
        "        b = Pde.drift(Pde, s, a)\n",
        "        if fd=='cfd':\n",
        "            lam = self.n_dim/(self.n_dim+self.lam*(self.h_mesh**2))\n",
        "            run_cost_h = self.h_mesh**2*self.run_cost(s,a)/self.n_dim\n",
        "            \n",
        "            ix_next = []; pr_next= []\n",
        "            #cfd\n",
        "            if self.is_interior(ix):\n",
        "                for i in range(self.n_dim):\n",
        "                    ix1 = ix.copy(); ix1[i]+=1; ix_next += [ix1,]\n",
        "                    pr1 = (1+self.h_mesh*b[i])/(self.n_dim*2.0)  #change from (1+2.*self.h_mesh*b[i])/(self.n_dim*2.0) \n",
        "                    pr_next += [pr1,]\n",
        "                for i in range(self.n_dim):\n",
        "                    ix1 = ix.copy(); ix1[i]-=1; ix_next += [ix1,]\n",
        "                    pr1 = (1-self.h_mesh*b[i])/(self.n_dim*2.0) #change from (1+2.*self.h_mesh*b[i])/(self.n_dim*2.0) \n",
        "                    pr_next += [pr1,]\n",
        "        elif fd=='ufd':\n",
        "            c = self.n_dim+sum([abs(b1) for b1 in b])*self.h_mesh\n",
        "            b_plus = [(abs(b1)+b1)/2. for b1 in b]\n",
        "            b_minus = [(abs(b1)-b1)/2. for b1 in b]\n",
        "            lam = c/(c+self.h_mesh**2*self.lam)\n",
        "            run_cost_h = self.h_mesh**2*self.run_cost(s,a)/c\n",
        "            ix_next = []; pr_next= []\n",
        "            #ufd\n",
        "            if self.is_interior(ix):\n",
        "                for i in range(self.n_dim):\n",
        "                    ix1 = ix.copy(); ix1[i]+=1; ix_next += [ix1,]\n",
        "                    pr1 = (1+2.*self.h_mesh*b_plus[i])/(c*2.0) \n",
        "                    pr_next += [pr1,]\n",
        "                for i in range(self.n_dim):\n",
        "                    ix1 = ix.copy(); ix1[i]-=1; ix_next += [ix1,]\n",
        "                    pr1 = (1-2.*self.h_mesh*b_minus[i])/(c*2.0) \n",
        "                    pr_next += [pr1,]        \n",
        "        return lam, run_cost_h, ix_next, pr_next\n",
        "    \n",
        "    def step_random(self, ix, a, fd='cfd'):\n",
        "        lam, run_cost, ix_next, pr_next = self.step(ix, a, fd)\n",
        "        ix_next_rand = random.choices(ix_next, pr_next, k = 1)\n",
        "        return lam, run_cost, ix_next_rand[0]    \n",
        "    "
      ],
      "execution_count": 0,
      "outputs": []
    },
    {
      "cell_type": "code",
      "metadata": {
        "id": "Ns5MHtPByI2j",
        "colab_type": "code",
        "colab": {}
      },
      "source": [
        "## supplemental tools\n",
        "\n",
        "def deep_iter(*shape):\n",
        "    iters = (range(i) for i in shape)\n",
        "    return itertools.product(*iters)\n",
        "\n",
        "\n",
        "## product of a list\n",
        "def product(l):\n",
        "    out = 1\n",
        "    for x in l:\n",
        "        out *= x\n",
        "    return out\n",
        "\n"
      ],
      "execution_count": 0,
      "outputs": []
    },
    {
      "cell_type": "code",
      "metadata": {
        "id": "GNG6RdIOyNNZ",
        "colab_type": "code",
        "colab": {}
      },
      "source": [
        "## The methods to solve the MDP\n",
        "\n",
        "class Solver(Mdp):\n",
        "    def __init__(self, n_dim = 1, n_mesh = 8, fd = 'ufd', verbatim = False):\n",
        "        super().__init__(n_dim, n_mesh, verbatim)\n",
        "        self.fd = fd\n",
        "        #value iteration init\n",
        "        self.v = np.zeros(self.v_shape) #init\n",
        "        self.as_ratio= 3\n",
        "        self.a_space = tuple([self.as_ratio*self.totn_mesh+1,]*n_dim)\n",
        "        self.p_shape = tuple(list(self.v_shape)+[self.n_dim,])\n",
        "        self.policy = np.zeros(self.p_shape) #init\n",
        "        self.tol = 1e-5; self.max_iter = 1000\n",
        "        self.sim = 100\n",
        "        \n",
        "        #boundary value\n",
        "        for ix in deep_iter(*self.v_shape):\n",
        "            if not self.is_interior(ix):\n",
        "                self.v[ix] = self.term_cost(self.i2s(ix))\n",
        "    \n",
        "    \n",
        "    def i2a(self, ix):\n",
        "        ix = list(ix)\n",
        "        return [ix1*self.h_mesh+self.as_ratio*self.domain[0] for ix1 in ix]\n",
        "    \n",
        "    #input:\n",
        "        #list of index and action\n",
        "    #return:\n",
        "        #q_val assuming v is value\n",
        "    def q_val(self, ix, a):\n",
        "        lam, run_cost_h, ix_next, pr_next = self.step(ix,a,self.fd)\n",
        "        out = run_cost_h\n",
        "        for ix1, pr1 in zip(ix_next, pr_next):\n",
        "            out+=pr1*self.v[tuple(ix1)]\n",
        "        out *= lam\n",
        "        return out\n",
        "\n",
        "    #input:\n",
        "        #list of index\n",
        "    #return:\n",
        "        #list of optimal action\n",
        "        #corresponding q-value assuming v is value\n",
        "    def greedy(self, ix):\n",
        "        a_ix = [0,]*self.n_dim; out_v = self.q_val(ix, self.i2a(a_ix))\n",
        "        for a_ix1 in deep_iter(*self.a_space):\n",
        "            out_v1 = self.q_val(ix, self.i2a(a_ix1))\n",
        "            if out_v1 < out_v:\n",
        "                a_ix = a_ix1; out_v = out_v1\n",
        "        return self.i2a(a_ix), out_v\n",
        "                \n",
        "    ## value iteration method  \n",
        "    def value_iter(self):    \n",
        "        for n_iter in range(self.max_iter):\n",
        "            v_cp = np.copy(self.v)\n",
        "            err = 0.\n",
        "            for ix in deep_iter(*self.v_shape):\n",
        "                if self.is_interior(ix):\n",
        "                    out_a, out_v = self.greedy(ix)\n",
        "                    self.policy[ix] = out_a; self.v[ix] = out_v\n",
        "                    err += (v_cp[ix]-out_v)**2\n",
        "\n",
        "            if err<self.tol:\n",
        "                break\n",
        "        return err, n_iter\n",
        "\n",
        "    ## Monte-Carlo method\n",
        "    def monte_carlo(self):\n",
        "        for ix in deep_iter(*self.v_shape):\n",
        "            if self.is_interior(ix):\n",
        "                output = []\n",
        "                for i in range(1000):\n",
        "                    output.append(self.greedy(ix)[1])\n",
        "                self.v[ix] = np.mean(output)\n",
        "\n",
        "    ## Plot the 1-d figure\n",
        "    def plot1d(self):\n",
        "        if self.n_dim==1:\n",
        "            x_cod = np.zeros(self.v_shape)\n",
        "            exact_val = np.zeros(self.v_shape)\n",
        "            for ix in deep_iter(*self.v_shape):\n",
        "                x_cod[ix] = self.i2s(list(ix))[0]\n",
        "                exact_val[ix] = self.exact_soln(self.i2s(list(ix)))\n",
        "                                \n",
        "            plt.plot(x_cod, self.v, '--', label='aproximation')\n",
        "            plt.plot(x_cod, exact_val, label='exact solution')\n",
        "            plt.legend()\n",
        "            plt.show()\n",
        "    \n",
        "    ## Plot the 2-d figure\n",
        "    def plot2d(self):\n",
        "        if self.n_dim==2:\n",
        "            fig = plt.figure()\n",
        "            ax = fig.gca(projection=Axes3D.name)\n",
        "            x_cod = np.zeros(self.v_shape)\n",
        "            y_cod = np.zeros(self.v_shape)\n",
        "            z = self.v\n",
        "            for ix in deep_iter(*self.v_shape):\n",
        "                x_cod[ix] = agt1.i2s(list(ix))[0]\n",
        "                y_cod[ix] = agt1.i2s(list(ix))[1]\n",
        "            # Plot the surface.\n",
        "            ax.plot_surface(x_cod, y_cod, z, \n",
        "                                      cmap='rainbow',\n",
        "                                      linewidth=0, antialiased=False)\n",
        "            plt.show()\n",
        "                            \n"
      ],
      "execution_count": 0,
      "outputs": []
    },
    {
      "cell_type": "code",
      "metadata": {
        "id": "mN7-XP2TyRi4",
        "colab_type": "code",
        "outputId": "dc1918a7-409c-4296-a307-1aa7335390b5",
        "colab": {
          "base_uri": "https://localhost:8080/",
          "height": 401
        }
      },
      "source": [
        "## check the value iteration method in 1-d\n",
        "\n",
        "print('>>>>>>>check value iteration<<<<<<<<<')\n",
        "\n",
        "startime = time.time()\n",
        "agt1 = Solver(n_dim=1, n_mesh= 8, fd='cfd', verbatim = True)\n",
        "err, n_iter = agt1.value_iter()\n",
        "endtime = time.time()\n",
        "\n",
        "\n",
        "print('>>>elapsed time: ' + str(endtime-startime))\n",
        "print('>>>running err:' +str(err))\n",
        "print('>>>number of iterations: ' + str(n_iter))\n",
        "\n",
        "agt1.plot1d()    \n",
        "print('>>>>end check<<<<')"
      ],
      "execution_count": 6,
      "outputs": [
        {
          "output_type": "stream",
          "text": [
            ">>>>>>>check value iteration<<<<<<<<<\n",
            ">>> n_dim: 1\n",
            ">>> domain: [0, 1]\n",
            ">>> n_mesh: 8 totn_mesh: 8\n",
            ">>>elapsed time: 0.019292831420898438\n",
            ">>>running err:8.436658739836725e-06\n",
            ">>>number of iterations: 11\n"
          ],
          "name": "stdout"
        },
        {
          "output_type": "display_data",
          "data": {
            "image/png": "[encoded data removed]",
            "text/plain": [
              "<Figure size 432x288 with 1 Axes>"
            ]
          },
          "metadata": {
            "tags": [],
            "needs_background": "light"
          }
        },
        {
          "output_type": "stream",
          "text": [
            ">>>>end check<<<<\n"
          ],
          "name": "stdout"
        }
      ]
    },
    {
      "cell_type": "code",
      "metadata": {
        "id": "3mnrEBEj3b6Q",
        "colab_type": "code",
        "outputId": "9adfb50e-f37f-4daa-dd6f-3542155cea14",
        "colab": {
          "base_uri": "https://localhost:8080/",
          "height": 34
        }
      },
      "source": [
        " ## Get the L2 exact error of 1-d\n",
        "\n",
        "err = 0.\n",
        "exact_val = np.zeros(agt1.v_shape)\n",
        "        \n",
        "for ix in deep_iter(*agt1.v_shape):\n",
        "    exact_val[ix] = agt1.exact_soln(agt1.i2s(list(ix)))\n",
        "    err += (exact_val[ix]- agt1.v[ix])**2\n",
        "    err = err/product(agt1.v_shape)\n",
        "\n",
        "error = np.sqrt(err)\n",
        "print('>>>>L2 exact err:'+str(error))"
      ],
      "execution_count": 7,
      "outputs": [
        {
          "output_type": "stream",
          "text": [
            ">>>>L2 exact err:0.0002804082989237168\n"
          ],
          "name": "stdout"
        }
      ]
    },
    {
      "cell_type": "code",
      "metadata": {
        "id": "KtN1qtKY92uf",
        "colab_type": "code",
        "outputId": "7565ae33-f803-444a-b768-d1680a05b71d",
        "colab": {
          "base_uri": "https://localhost:8080/",
          "height": 384
        }
      },
      "source": [
        "## check the value iteration method in 2-d\n",
        "\n",
        "print('>>>>>>>check value iteration<<<<<<<<<')\n",
        "\n",
        "startime = time.time()\n",
        "agt2 = Solver(n_dim=2, n_mesh= 8, fd='cfd', verbatim = True)\n",
        "err2, n_iter2 = agt2.value_iter()\n",
        "endtime = time.time()\n",
        "\n",
        "\n",
        "print('>>>elapsed time: ' + str(endtime-startime))\n",
        "print('>>>running err:' +str(err2))\n",
        "print('>>>number of iterations: ' + str(n_iter2))\n",
        "\n",
        "agt2.plot2d()\n",
        "print('>>>>end check<<<<')"
      ],
      "execution_count": 8,
      "outputs": [
        {
          "output_type": "stream",
          "text": [
            ">>>>>>>check value iteration<<<<<<<<<\n",
            ">>> n_dim: 2\n",
            ">>> domain: [0, 1]\n",
            ">>> n_mesh: 8 totn_mesh: 8\n",
            ">>>elapsed time: 6.679088115692139\n",
            ">>>running err:9.617557535452535e-06\n",
            ">>>number of iterations: 20\n"
          ],
          "name": "stdout"
        },
        {
          "output_type": "display_data",
          "data": {
            "image/png": "[encoded data removed]",
            "text/plain": [
              "<Figure size 432x288 with 1 Axes>"
            ]
          },
          "metadata": {
            "tags": [],
            "needs_background": "light"
          }
        },
        {
          "output_type": "stream",
          "text": [
            ">>>>end check<<<<\n"
          ],
          "name": "stdout"
        }
      ]
    },
    {
      "cell_type": "code",
      "metadata": {
        "id": "aPfR-q16DnqO",
        "colab_type": "code",
        "outputId": "7a435b9f-8070-4daf-b9d4-98dcd09f9753",
        "colab": {
          "base_uri": "https://localhost:8080/",
          "height": 34
        }
      },
      "source": [
        "## Get the L2 exact error \n",
        "\n",
        "err2 = 0.\n",
        "exact_val2 = np.zeros(agt2.v_shape)\n",
        "        \n",
        "for ix in deep_iter(*agt2.v_shape):\n",
        "    exact_val2[ix] = agt2.exact_soln(agt2.i2s(list(ix)))\n",
        "    err2 += (exact_val2[ix]- agt2.v[ix])**2\n",
        "    err2 = err/product(agt2.v_shape)\n",
        "\n",
        "error2 = np.sqrt(err2)\n",
        "\n",
        "print('>>>>L2 exact err:'+str(error2))"
      ],
      "execution_count": 9,
      "outputs": [
        {
          "output_type": "stream",
          "text": [
            ">>>>L2 exact err:3.1156477658190756e-05\n"
          ],
          "name": "stdout"
        }
      ]
    },
    {
      "cell_type": "code",
      "metadata": {
        "id": "1oCGwJkFOCNU",
        "colab_type": "code",
        "outputId": "ce3e131e-4035-4bc8-9ed1-dad40baf8390",
        "colab": {
          "base_uri": "https://localhost:8080/",
          "height": 367
        }
      },
      "source": [
        "## check the Monte-carlo method in 1-d\n",
        "\n",
        "print('>>>>>>>check monte-carlo<<<<<<<<<')\n",
        "\n",
        "startime = time.time()\n",
        "agt3 = Solver(n_dim=1, n_mesh= 8, fd='cfd', verbatim = True)\n",
        "agt3.monte_carlo()\n",
        "endtime = time.time()\n",
        "\n",
        "print('>>>elapsed time: ' + str(endtime-startime))\n",
        "\n",
        "agt3.plot1d()    \n",
        "print('>>>>end check<<<<')"
      ],
      "execution_count": 10,
      "outputs": [
        {
          "output_type": "stream",
          "text": [
            ">>>>>>>check monte-carlo<<<<<<<<<\n",
            ">>> n_dim: 1\n",
            ">>> domain: [0, 1]\n",
            ">>> n_mesh: 8 totn_mesh: 8\n",
            ">>>elapsed time: 1.4375331401824951\n"
          ],
          "name": "stdout"
        },
        {
          "output_type": "display_data",
          "data": {
            "image/png": "[encoded data removed]",
            "text/plain": [
              "<Figure size 432x288 with 1 Axes>"
            ]
          },
          "metadata": {
            "tags": [],
            "needs_background": "light"
          }
        },
        {
          "output_type": "stream",
          "text": [
            ">>>>end check<<<<\n"
          ],
          "name": "stdout"
        }
      ]
    },
    {
      "cell_type": "code",
      "metadata": {
        "id": "Xid4DiWaOfuT",
        "colab_type": "code",
        "outputId": "3b32a0e7-f50d-4a9d-eaff-9769873bb78d",
        "colab": {
          "base_uri": "https://localhost:8080/",
          "height": 34
        }
      },
      "source": [
        "err3 = 0.\n",
        "exact_val3 = np.zeros(agt3.v_shape)\n",
        "        \n",
        "for ix in deep_iter(*agt3.v_shape):\n",
        "    exact_val3[ix] = agt3.exact_soln(agt3.i2s(list(ix)))\n",
        "    err3 += (exact_val3[ix]- agt3.v[ix])**2\n",
        "    err3 = err/product(agt3.v_shape)\n",
        "\n",
        "error3 = np.sqrt(err3)\n",
        "print('>>>>L2 exact err:'+str(error3))"
      ],
      "execution_count": 11,
      "outputs": [
        {
          "output_type": "stream",
          "text": [
            ">>>>L2 exact err:9.346943297457226e-05\n"
          ],
          "name": "stdout"
        }
      ]
    },
    {
      "cell_type": "code",
      "metadata": {
        "id": "zl9KUCumXvlH",
        "colab_type": "code",
        "colab": {}
      },
      "source": [
        ""
      ],
      "execution_count": 0,
      "outputs": []
    }
  ]
}