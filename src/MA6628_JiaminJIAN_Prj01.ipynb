{
 "cells": [
  {
   "cell_type": "code",
   "execution_count": 4,
   "metadata": {},
   "outputs": [
    {
     "name": "stdout",
     "output_type": "stream",
     "text": [
      "The number of twin prime between 1000 to 1000000 is 8134 \n",
      "\n",
      "The biggest twin prime between 1000 to 1000000 is 999959 and 999961 \n",
      "\n",
      "The time used to run the program is 3.7942168712615967\n"
     ]
    }
   ],
   "source": [
    "import math     # Using the module of math to deal with the root of a integer\n",
    "import time     # Be used to calculate the time\n",
    "count = 0        # Design a counter p to calculate the number of twin prime\n",
    "start = time.time()    # The time begin to run the program\n",
    "\n",
    "#Building a function to test an interger is a prime or not\n",
    "\n",
    "def is_prime(n):\n",
    "    if n <= 1:\n",
    "        return False\n",
    "    elif n % 2 == 0 and n != 2:\n",
    "        return False\n",
    "    elif n % 3 == 0 and n != 3:\n",
    "        return False\n",
    "    elif n % 5 == 0 and n != 5:\n",
    "        return False\n",
    "    elif n % 7 == 0 and n != 7:\n",
    "        return False\n",
    "    else:\n",
    "        for i in range(3, int(math.sqrt(n)) + 1, 2):\n",
    "                if n % i == 0:\n",
    "                    return False\n",
    "        return True\n",
    "\n",
    "#Judging and counting the twin prime number between 100 to 1000000.\n",
    "\n",
    "for i in range(1001,1000001):\n",
    "    if is_prime(i) is True and is_prime(i + 2) is True:\n",
    "        a = i\n",
    "        count += 1\n",
    "end = time.time()   # The time when the program is end\n",
    "\n",
    "print(f'The number of twin prime between 1000 to 1000000 is {count} \\n')\n",
    "print(f'The biggest twin prime between 1000 to 1000000 is {a} and {a+2} \\n')\n",
    "print(f'The time used to run the program is {end-start}')"
   ]
  },
  {
   "cell_type": "code",
   "execution_count": null,
   "metadata": {},
   "outputs": [],
   "source": []
  },
  {
   "cell_type": "code",
   "execution_count": null,
   "metadata": {},
   "outputs": [],
   "source": []
  }
 ],
 "metadata": {
  "kernelspec": {
   "display_name": "Python 3",
   "language": "python",
   "name": "python3"
  },
  "language_info": {
   "codemirror_mode": {
    "name": "ipython",
    "version": 3
   },
   "file_extension": ".py",
   "mimetype": "text/x-python",
   "name": "python",
   "nbconvert_exporter": "python",
   "pygments_lexer": "ipython3",
   "version": "3.6.5"
  }
 },
 "nbformat": 4,
 "nbformat_minor": 2
}
