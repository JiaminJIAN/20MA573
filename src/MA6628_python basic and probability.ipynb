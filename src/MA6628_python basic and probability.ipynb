{
 "cells": [
  {
   "cell_type": "markdown",
   "metadata": {},
   "source": [
    "# (一)Numpy\n",
    "## 1.Introduce\n",
    "NumPy是Python语言的一个扩展程序库。支持高端大量的**维度数组与矩阵运算**，此外也针对数组运算提供大量的数学函数库。NumPy的核心功能是\"ndarray\"(即n-dimensional array，多维数组)数据结构。这是一个表示**多维度、同质并且固定大小的数组对象**。而由一个与此数组相关系的数据类型对象来描述其数组元素的数据格式(例如其字符组顺序、在存储器中占用的字符组数量、整数或者浮点数等等)。\n",
    "\n",
    "[Numpy wikipedia](https://zh.wikipedia.org/wiki/NumPy)\n",
    "\n",
    "[Numpy package](https://docs.scipy.org/doc/numpy-1.15.1/reference/index.html)\n",
    "\n",
    "## 2.Example"
   ]
  },
  {
   "cell_type": "markdown",
   "metadata": {},
   "source": [
    "### 2.1 创建数组"
   ]
  },
  {
   "cell_type": "code",
   "execution_count": 2,
   "metadata": {},
   "outputs": [
    {
     "name": "stdout",
     "output_type": "stream",
     "text": [
      "[1 2 3]\n",
      "[0 1 2 3 4 5 6 7 8 9]\n",
      "range(1, 10)\n"
     ]
    }
   ],
   "source": [
    "import numpy as np\n",
    "x = np.array([1,2,3])\n",
    "y = np.arange(10)  ##类似于python的range，但是函数值返回给array\n",
    "z = range(1,10,1)\n",
    "print(x)\n",
    "print(y)\n",
    "print(z)"
   ]
  },
  {
   "cell_type": "markdown",
   "metadata": {},
   "source": [
    "### 2.2 基本元算"
   ]
  },
  {
   "cell_type": "code",
   "execution_count": 3,
   "metadata": {},
   "outputs": [
    {
     "name": "stdout",
     "output_type": "stream",
     "text": [
      "[1 2 3 6]\n",
      "[0.         0.66666667 1.33333333 2.        ]\n",
      "[1.         1.33333333 1.66666667 4.        ]\n"
     ]
    }
   ],
   "source": [
    "a = np.array([1, 2, 3, 6])\n",
    "b = np.linspace(0, 2, 4)  # 建立一個array, 在0與2的範圍之間讓4個點等分\n",
    "c = a - b\n",
    "print(a)\n",
    "print(b)\n",
    "print(c)"
   ]
  },
  {
   "cell_type": "markdown",
   "metadata": {},
   "source": [
    "### 2.3 全域方法"
   ]
  },
  {
   "cell_type": "code",
   "execution_count": 4,
   "metadata": {},
   "outputs": [
    {
     "name": "stdout",
     "output_type": "stream",
     "text": [
      "[-1.22464680e-16 -6.34239197e-02 -1.26592454e-01 -1.89251244e-01\n",
      " -2.51147987e-01 -3.12033446e-01 -3.71662456e-01 -4.29794912e-01\n",
      " -4.86196736e-01 -5.40640817e-01 -5.92907929e-01 -6.42787610e-01\n",
      " -6.90079011e-01 -7.34591709e-01 -7.76146464e-01 -8.14575952e-01\n",
      " -8.49725430e-01 -8.81453363e-01 -9.09631995e-01 -9.34147860e-01\n",
      " -9.54902241e-01 -9.71811568e-01 -9.84807753e-01 -9.93838464e-01\n",
      " -9.98867339e-01 -9.99874128e-01 -9.96854776e-01 -9.89821442e-01\n",
      " -9.78802446e-01 -9.63842159e-01 -9.45000819e-01 -9.22354294e-01\n",
      " -8.95993774e-01 -8.66025404e-01 -8.32569855e-01 -7.95761841e-01\n",
      " -7.55749574e-01 -7.12694171e-01 -6.66769001e-01 -6.18158986e-01\n",
      " -5.67059864e-01 -5.13677392e-01 -4.58226522e-01 -4.00930535e-01\n",
      " -3.42020143e-01 -2.81732557e-01 -2.20310533e-01 -1.58001396e-01\n",
      " -9.50560433e-02 -3.17279335e-02  3.17279335e-02  9.50560433e-02\n",
      "  1.58001396e-01  2.20310533e-01  2.81732557e-01  3.42020143e-01\n",
      "  4.00930535e-01  4.58226522e-01  5.13677392e-01  5.67059864e-01\n",
      "  6.18158986e-01  6.66769001e-01  7.12694171e-01  7.55749574e-01\n",
      "  7.95761841e-01  8.32569855e-01  8.66025404e-01  8.95993774e-01\n",
      "  9.22354294e-01  9.45000819e-01  9.63842159e-01  9.78802446e-01\n",
      "  9.89821442e-01  9.96854776e-01  9.99874128e-01  9.98867339e-01\n",
      "  9.93838464e-01  9.84807753e-01  9.71811568e-01  9.54902241e-01\n",
      "  9.34147860e-01  9.09631995e-01  8.81453363e-01  8.49725430e-01\n",
      "  8.14575952e-01  7.76146464e-01  7.34591709e-01  6.90079011e-01\n",
      "  6.42787610e-01  5.92907929e-01  5.40640817e-01  4.86196736e-01\n",
      "  4.29794912e-01  3.71662456e-01  3.12033446e-01  2.51147987e-01\n",
      "  1.89251244e-01  1.26592454e-01  6.34239197e-02  1.22464680e-16]\n"
     ]
    }
   ],
   "source": [
    "a = np.linspace(-np.pi, np.pi, 100) \n",
    "b = np.sin(a)\n",
    "c = np.cos(a)\n",
    "print(b)"
   ]
  },
  {
   "cell_type": "markdown",
   "metadata": {},
   "source": [
    "### 2.4 线性代数"
   ]
  },
  {
   "cell_type": "code",
   "execution_count": 5,
   "metadata": {},
   "outputs": [
    {
     "name": "stdout",
     "output_type": "stream",
     "text": [
      "矩阵a的转置为：[[1.  3.  5. ]\n",
      " [2.  4.  9. ]\n",
      " [3.  6.7 5. ]]\n",
      "矩阵a的逆为：[[-2.27683616  0.96045198  0.07909605]\n",
      " [ 1.04519774 -0.56497175  0.1299435 ]\n",
      " [ 0.39548023  0.05649718 -0.11299435]]\n",
      "[-4.83050847  2.13559322  1.18644068]\n",
      "c随机矩阵为：[[0.47813127 0.31172103 0.79005742]\n",
      " [0.96994704 0.04252942 0.26534802]\n",
      " [0.11036319 0.7253418  0.13364538]]\n",
      "[[ 2.74911492  2.57280526  1.7216896 ]\n",
      " [ 6.05361534  5.9650708   4.32698838]\n",
      " [11.67199563  5.56807888  7.00664615]]\n"
     ]
    }
   ],
   "source": [
    "from numpy.random import rand\n",
    "from numpy.linalg import solve, inv\n",
    "a = np.array([[1, 2, 3], [3, 4, 6.7], [5, 9.0, 5]])\n",
    "print(f\"矩阵a的转置为：{a.transpose()}\")\n",
    "print(f\"矩阵a的逆为：{inv(a)}\")\n",
    "\n",
    "b =  np.array([3, 2, 1])\n",
    "print(solve(a, b))  # 解方程式 ax = b\n",
    "\n",
    "c = rand(3, 3)  # 建立一個 3x3 隨機矩陣\n",
    "print(f\"c随机矩阵为：{c}\")\n",
    "\n",
    "print(np.dot(a, c))  # 矩陣相乘"
   ]
  },
  {
   "cell_type": "markdown",
   "metadata": {},
   "source": [
    "### 2.5 画图\n",
    "\n",
    "[cumsum](https://docs.scipy.org/doc/numpy-1.15.0/reference/generated/numpy.cumsum.html)\n",
    "\n",
    "[pylab example](http://jakevdp.github.io/mpl_tutorial/tutorial_pages/tut1.html)\n",
    "\n",
    "[matplotlib](https://matplotlib.org/faq/usage_faq.html)\n",
    "\n",
    "[Seaborn noets](https://zhuanlan.zhihu.com/p/27435863)"
   ]
  },
  {
   "cell_type": "code",
   "execution_count": 6,
   "metadata": {},
   "outputs": [
    {
     "data": {
      "image/png": "[encoded data removed]",
      "text/plain": [
       "<Figure size 720x432 with 1 Axes>"
      ]
     },
     "metadata": {
      "needs_background": "light"
     },
     "output_type": "display_data"
    }
   ],
   "source": [
    "from pylab import plt\n",
    "plt.style.use('seaborn')\n",
    "import matplotlib as mpl\n",
    "mpl.rcParams['font.family'] = 'serif'\n",
    "%matplotlib inline\n",
    "\n",
    "ran = np.random.standard_normal((100, 5000))\n",
    "plt.figure(figsize=(10, 6))\n",
    "plt.plot(np.cumsum(ran))\n",
    "plt.xlabel('x axis')\n",
    "plt.ylabel('y axis')\n",
    "plt.savefig('line_plot.pdf')"
   ]
  },
  {
   "cell_type": "markdown",
   "metadata": {},
   "source": [
    "# (二)math module\n",
    "## 1.Introduce\n",
    "[math — Mathematical functions](https://docs.python.org/2/library/math.html#module-math)"
   ]
  },
  {
   "cell_type": "markdown",
   "metadata": {},
   "source": [
    "# (三)Random variable\n",
    "\n",
    "## 1. Bernoulli distribution\n",
    "We use the [scipy.stats](https://docs.scipy.org/doc/scipy-0.14.0/reference/stats.html) as our library to generate random numbers. For the Bernoulli distribution the library provides the function .rvs(p, size=1) to generate random numbers (Random Variates), and .pmf(x,p) to compute the Probability Mass Function.\n",
    "\n",
    "[probability mass function](https://zh.wikipedia.org/wiki/概率质量函数)"
   ]
  },
  {
   "cell_type": "code",
   "execution_count": 3,
   "metadata": {},
   "outputs": [
    {
     "name": "stdout",
     "output_type": "stream",
     "text": [
      "[1 0 1 1 1 1 1 1 0 1]\n"
     ]
    },
    {
     "data": {
      "text/plain": [
       "array([0.3, 0.7])"
      ]
     },
     "execution_count": 3,
     "metadata": {},
     "output_type": "execute_result"
    }
   ],
   "source": [
    "## do all neccessary imports\n",
    "import numpy as np\n",
    "import matplotlib\n",
    "%matplotlib inline\n",
    "import matplotlib.pyplot as plt\n",
    "import seaborn as sns\n",
    "sns.set_style(\"white\")\n",
    "sns.set_context(\"notebook\")\n",
    "import pandas as pd\n",
    "from  scipy import stats \n",
    "\n",
    "import math\n",
    "\n",
    "## Draw and print 10 experiment outcomes for p=0.6\n",
    "print(stats.bernoulli.rvs(p=0.6, size=10))\n",
    "\n",
    "## compute the probability mass function for p=0.7\n",
    "stats.bernoulli.pmf([0,1], p=0.7)"
   ]
  },
  {
   "cell_type": "code",
   "execution_count": 4,
   "metadata": {},
   "outputs": [
    {
     "name": "stdout",
     "output_type": "stream",
     "text": [
      "[0 1 0 1 1 1 1 0 1 1 1 1 1 1 1 1 1 1 1 1 1 1 0 0 1 1 1 1 0 1 1 1 1 1 1 1 1\n",
      " 1 1 1 1 1 1 1 1 1 0 1 1 0 1 1 1 1 1 1 0 1 1 0 0 1 1 0 1 0 0 1 1 1 1 0 1 1\n",
      " 0 1 1 1 0 1 1 0 1 0 1 1 1 1 1 1 1 0 0 1 1 0 1 1 1 0]\n",
      "[23 77] [0.  0.5 1. ]\n",
      "Number of samples in each bin:  [23 77]\n"
     ]
    },
    {
     "data": {
      "image/png": "[encoded data removed]",
      "text/plain": [
       "<Figure size 432x288 with 1 Axes>"
      ]
     },
     "metadata": {
      "needs_background": "light"
     },
     "output_type": "display_data"
    }
   ],
   "source": [
    "# get the values\n",
    "grades = stats.bernoulli.rvs(0.75, size=100)\n",
    "print(grades)\n",
    "binValues, binBorders = np.histogram(grades, bins=2)\n",
    "print(binValues, binBorders)\n",
    "\n",
    "\n",
    "# plot the result\n",
    "plt.bar([0,1],binValues, width=0.5, align=\"center\")\n",
    "plt.xticks([0,1], ('Fail','Pass') )\n",
    "\n",
    "print(\"Number of samples in each bin: \", binValues)"
   ]
  },
  {
   "cell_type": "markdown",
   "metadata": {},
   "source": [
    "## 2. Binomial distribution\n",
    "While the Bernoulli distribution describes the outcome of a single experiment, the Binomial distribution is the distribution of the number of successes in a sequence of $n$ independent yes/no experiments, each of which yields success with probability $p$. Thus, the Bernoulli distribution is equal to the Binomial distribution when $n=1$.\n",
    "$$f(k; n, p) = {n\\choose k}p^k(1-p)^{n-k} $$\n",
    "where\n",
    "$${n\\choose k}=\\frac{n!}{k!(n-k)!}$$\n",
    "The expected value of a random variable $X$ is $E[X]=np$ and the variance is $Var[X]=np(1-p)$\n",
    "The following plot shows histograms for data generated from a Binomial distribution with different values for $p$."
   ]
  },
  {
   "cell_type": "code",
   "execution_count": 5,
   "metadata": {},
   "outputs": [
    {
     "data": {
      "text/plain": [
       "<matplotlib.legend.Legend at 0x1a21925a20>"
      ]
     },
     "execution_count": 5,
     "metadata": {},
     "output_type": "execute_result"
    },
    {
     "data": {
      "image/png": "[encoded data removed]",
      "text/plain": [
       "<Figure size 432x288 with 1 Axes>"
      ]
     },
     "metadata": {
      "needs_background": "light"
     },
     "output_type": "display_data"
    }
   ],
   "source": [
    "# generate and plot random variates for different values of p\n",
    "for p in [0.1, 0.3, 0.6, 0.8]:\n",
    "    randomVariates = stats.binom.rvs(100, p, size=1000)\n",
    "    plt.hist(randomVariates, alpha=0.5, label='p=' + np.str(p))\n",
    "\n",
    "plt.legend()\n",
    "#plt.show()"
   ]
  },
  {
   "cell_type": "markdown",
   "metadata": {},
   "source": [
    "[matplotlib.pyplot.legend](https://matplotlib.org/api/_as_gen/matplotlib.pyplot.legend.html)\n",
    "\n",
    "[legend example](https://morvanzhou.github.io/tutorials/data-manipulation/plt/2-5-lagend/)"
   ]
  },
  {
   "cell_type": "markdown",
   "metadata": {},
   "source": [
    "#### Example Binomial distribution\n",
    "What is the probability of 30 people getting a C or higher this year assuming we have 50 students in total?\n",
    "\n",
    "We should solve the formula \n",
    "$${50\\choose 30} 0.75^{30} (1-0.75)^{20}$$"
   ]
  },
  {
   "cell_type": "code",
   "execution_count": 6,
   "metadata": {},
   "outputs": [
    {
     "name": "stdout",
     "output_type": "stream",
     "text": [
      "The probability of 30 students passing course is:\n",
      "0.0076547014310495804\n"
     ]
    }
   ],
   "source": [
    "numberOfStudents = 30\n",
    "totalNumberOfStudents = 50\n",
    "p = 0.75\n",
    "\n",
    "print(\"The probability of 30 students passing course is:\")\n",
    "print(stats.binom.pmf(numberOfStudents, totalNumberOfStudents, p))"
   ]
  },
  {
   "cell_type": "markdown",
   "metadata": {},
   "source": [
    "That seems rather low, if we forget that we asked for the probability of exactly 30 students passing course, not at least 30 students. Let's look at the full histogram."
   ]
  },
  {
   "cell_type": "code",
   "execution_count": 7,
   "metadata": {},
   "outputs": [
    {
     "data": {
      "text/plain": [
       "<matplotlib.legend.Legend at 0x10f0f61d0>"
      ]
     },
     "execution_count": 7,
     "metadata": {},
     "output_type": "execute_result"
    },
    {
     "data": {
      "image/png": "[encoded data removed]",
      "text/plain": [
       "<Figure size 432x288 with 1 Axes>"
      ]
     },
     "metadata": {
      "needs_background": "light"
     },
     "output_type": "display_data"
    }
   ],
   "source": [
    "randomVariates = stats.binom.rvs(totalNumberOfStudents, p=p, size=10000)\n",
    "plt.hist(randomVariates, bins=range(0,totalNumberOfStudents+1), alpha=0.5, label='p=' + np.str(p))\n",
    "\n",
    "plt.legend()"
   ]
  },
  {
   "cell_type": "markdown",
   "metadata": {},
   "source": [
    "As you can see the probability of 30 students passing is indeed rather low, but the probability of 40 students passing is much higher. What if we would like to know the probability of at least 30 students passing? We could look at the cumulative distribution and go from there, or we can use our samples from above and just count."
   ]
  },
  {
   "cell_type": "code",
   "execution_count": 8,
   "metadata": {},
   "outputs": [
    {
     "name": "stdout",
     "output_type": "stream",
     "text": [
      "Probability of at least 30 students passing:  0.9859\n"
     ]
    }
   ],
   "source": [
    "print(\"Probability of at least 30 students passing: \", np.sum(randomVariates>numberOfStudents)/float(len(randomVariates)))"
   ]
  },
  {
   "cell_type": "markdown",
   "metadata": {},
   "source": [
    "## 3. Poisson distribution\n",
    "The Poisson distribution is another discrete distribution, it expresses the probability of a given number of events occurring in a fixed interval of time (or space, volume, etc.). One assumption made is that these events occur with a known average rate and independently of each other. An example is the number of electrons detected by a sensor in an electron microscope during a time interval, or the number of soldiers in the Prussian army killed accidentally by horse kicks (see here).\n",
    "The Poisson distribution is defined as:\n",
    "$$ f(k; \\lambda)= \\frac{\\lambda^k e^{-\\lambda}}{k!}, $$\n",
    "where $k$ is the number of events, $\\lambda$ is a positive real number, and $e$ is Euler's number ($e = 2.71828 \\ldots$)."
   ]
  },
  {
   "cell_type": "code",
   "execution_count": 9,
   "metadata": {},
   "outputs": [
    {
     "data": {
      "text/plain": [
       "<matplotlib.legend.Legend at 0x1a2192fbe0>"
      ]
     },
     "execution_count": 9,
     "metadata": {},
     "output_type": "execute_result"
    },
    {
     "data": {
      "image/png": "[encoded data removed]",
      "text/plain": [
       "<Figure size 432x288 with 1 Axes>"
      ]
     },
     "metadata": {
      "needs_background": "light"
     },
     "output_type": "display_data"
    }
   ],
   "source": [
    "# generate samples for different values of lambda\n",
    "for lambdaParameter in [1,6,14]:\n",
    "    randomVariates = stats.poisson.rvs(lambdaParameter, size=1000)\n",
    "    plt.hist(randomVariates, alpha=0.5, bins=range(0,26), label='$\\lambda=' + np.str(lambdaParameter) + '$')\n",
    "\n",
    "plt.legend()"
   ]
  },
  {
   "cell_type": "markdown",
   "metadata": {},
   "source": [
    "## 4.Normal Distribution\n",
    "Probably the most important of all distributions is the normal distribution. Many phenomena in nature follow this distribution. Due to the Central Limit Theorem which states that, the distribution of a sum of random variables can be approximated by a normal distribution. A Normal distribution with mean $\\mu$ and standard deviation $\\sigma$ is defined as:\n",
    "$$ f(x; \\mu, \\sigma) = \\frac{1}{\\sigma\\sqrt{2\\pi}} e^{ -\\frac{(x-\\mu)^2}{2\\sigma^2} }, $$\n",
    "So if your data is the sum of many independent processes it is most likely normally distributed (or very close to it). An important example are measurement errors. Let's look at some normal distributions."
   ]
  },
  {
   "cell_type": "code",
   "execution_count": 10,
   "metadata": {},
   "outputs": [
    {
     "data": {
      "text/plain": [
       "<matplotlib.legend.Legend at 0x1a21b56080>"
      ]
     },
     "execution_count": 10,
     "metadata": {},
     "output_type": "execute_result"
    },
    {
     "data": {
      "image/png": "[encoded data removed]",
      "text/plain": [
       "<Figure size 432x288 with 1 Axes>"
      ]
     },
     "metadata": {
      "needs_background": "light"
     },
     "output_type": "display_data"
    }
   ],
   "source": [
    "x = np.linspace(-10,20, num=200)\n",
    "\n",
    "for mu, sigma in zip([-3, 3, 10], [1, 2, 5]):\n",
    "    plt.plot(x, stats.norm.pdf(x, mu, sigma), lw=2, \n",
    "             label = r\"$\\mu = {0:.1f}, \\sigma={1:.1f}$\".format(mu, sigma))\n",
    "plt.legend()"
   ]
  },
  {
   "cell_type": "markdown",
   "metadata": {},
   "source": [
    "## 5. Exponential Distribution\n",
    "The exponential distribution is the probability distribution that describes the time between events in a Poisson process,i.e. a process in which events occur continuously and independently at a constant average rate.\n",
    "Note that the exponential distribution is not the same as the class of exponential families of distributions, which is a large class of probability distributions that includes the exponential distribution as one of its members, but also includes the normal distribution, binomial distribution, gamma distribution, Poisson, and many others.\n",
    "$$f(x;\\lambda) = \\begin{cases}\n",
    "\\lambda e^{-\\lambda x} &amp; x \\ge 0, \\\\\n",
    "0 &amp; x &lt; 0.\n",
    "\\end{cases}$$\n",
    "Therefore, the random variable X has an exponential distribution with parameter $\\lambda$, we say $X$ is exponential and write $ X∼Exp(\\lambda)$ Given a specific $\\lambda$, the expected value of an exponential random variable is equal to the inverse of $\\lambda$, that is: $E[X|\\lambda]=\\frac{1}{\\lambda}$"
   ]
  },
  {
   "cell_type": "code",
   "execution_count": 11,
   "metadata": {},
   "outputs": [
    {
     "data": {
      "text/plain": [
       "<matplotlib.legend.Legend at 0x1a229bdc88>"
      ]
     },
     "execution_count": 11,
     "metadata": {},
     "output_type": "execute_result"
    },
    {
     "data": {
      "image/png": "[encoded data removed]",
      "text/plain": [
       "<Figure size 432x288 with 1 Axes>"
      ]
     },
     "metadata": {
      "needs_background": "light"
     },
     "output_type": "display_data"
    }
   ],
   "source": [
    "x = np.linspace(0,4, 100)\n",
    "lambdaParameter = [0.5, 1, 2, 4]\n",
    "for l in lambdaParameter:\n",
    "    plt.plot(x, stats.expon.pdf(x, scale=1./l), lw=2, label = \"$\\lambda = %.1f$\"%l)    \n",
    "plt.legend()"
   ]
  },
  {
   "cell_type": "markdown",
   "metadata": {},
   "source": [
    "# (四) Sampling: Inverse transform method\n",
    "\n",
    "Python provides random sampling for some commonly used distributions, like uniform distribution, normal distribution, etc. Now, we will draw sampling from a distribution with its CDF given by $F$. The next propostion is the theoretical basis for the inverse transform method.\n",
    "Propostion\n",
    "If $F$ is a strictly increasing CDF and $U \\sim U(0,1)$, then the r.v. given by $X = F^{-1} (U)$ has its CDF $F$.\n",
    "\n",
    "[Proof] \n",
    "$$ P(X < x) = P(F ^ {-1} (U) < x) = P(U < F(x)) = F(x)$$"
   ]
  },
  {
   "cell_type": "code",
   "execution_count": 12,
   "metadata": {},
   "outputs": [],
   "source": [
    "#Inverse Transform to generate random numbers,\n",
    "#Input\n",
    "#F_inv: inverse of the given distribution \n",
    "#size: number of random numbers\n",
    "#Output\n",
    "#A numpy array\n",
    "def InverseTransform(F_inv, size):\n",
    "    R = np.random.uniform(0, 1, size)\n",
    "    return F_inv(R)"
   ]
  },
  {
   "cell_type": "markdown",
   "metadata": {},
   "source": [
    "Example\n",
    "\n",
    "Draw from the distribution $f(x) \\sim \\exp{(-x)}$."
   ]
  },
  {
   "cell_type": "code",
   "execution_count": 13,
   "metadata": {},
   "outputs": [
    {
     "data": {
      "image/png": "[encoded data removed]",
      "text/plain": [
       "<Figure size 432x288 with 1 Axes>"
      ]
     },
     "metadata": {
      "needs_background": "light"
     },
     "output_type": "display_data"
    }
   ],
   "source": [
    "# probability distribution we're trying to calculate\n",
    "phi = lambda x: np.exp(-x)\n",
    "\n",
    "# CDF of p\n",
    "Phi = lambda x: 1-np.exp(-x)\n",
    "\n",
    "# invert the CDF\n",
    "Phi_inv = lambda x: -np.log(1-x)\n",
    "\n",
    "#generate r.v.s\n",
    "size = 1000\n",
    "X = InverseTransform(Phi_inv, size)\n",
    "\n",
    "histX = plt.hist(X, label='histogram')\n",
    "\n",
    "x_cod = np.linspace(0,X.max(),1000)\n",
    "y_cod = phi(x_cod)*histX[0][0]\n",
    "plt.plot(x_cod,y_cod, label='density function');\n",
    "\n",
    "plt.legend();"
   ]
  },
  {
   "cell_type": "code",
   "execution_count": null,
   "metadata": {},
   "outputs": [],
   "source": []
  }
 ],
 "metadata": {
  "kernelspec": {
   "display_name": "Python 3",
   "language": "python",
   "name": "python3"
  },
  "language_info": {
   "codemirror_mode": {
    "name": "ipython",
    "version": 3
   },
   "file_extension": ".py",
   "mimetype": "text/x-python",
   "name": "python",
   "nbconvert_exporter": "python",
   "pygments_lexer": "ipython3",
   "version": "3.7.0"
  }
 },
 "nbformat": 4,
 "nbformat_minor": 2
}
