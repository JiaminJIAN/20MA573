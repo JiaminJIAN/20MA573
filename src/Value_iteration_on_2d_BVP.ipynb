{
  "nbformat": 4,
  "nbformat_minor": 0,
  "metadata": {
    "colab": {
      "name": "Value iteration on 2d BVP",
      "provenance": [],
      "collapsed_sections": [],
      "authorship_tag": "ABX9TyP5rhpJ5Js2XlpQSE5Hxzd5",
      "include_colab_link": true
    },
    "kernelspec": {
      "name": "python3",
      "display_name": "Python 3"
    }
  },
  "cells": [
    {
      "cell_type": "markdown",
      "metadata": {
        "id": "view-in-github",
        "colab_type": "text"
      },
      "source": [
        "<a href=\"https://colab.research.google.com/github/JiaminJIAN/20MA573/blob/master/src/Value_iteration_on_2d_BVP.ipynb\" target=\"_parent\"><img src=\"https://colab.research.google.com/assets/colab-badge.svg\" alt=\"Open In Colab\"/></a>"
      ]
    },
    {
      "cell_type": "markdown",
      "metadata": {
        "id": "L5kwWakWuMTu",
        "colab_type": "text"
      },
      "source": [
        "# **Value iteration on 2d BVP**\n",
        "\n",
        "For the multidimensional BVP,\n",
        "\n",
        "- Domain:\n",
        "\n",
        "$$O = \\{x \\in \\mathbb{R}^{d}: 0 < x_{i} < 1, i = 1, 2, \\dots, d\\}.$$\n",
        "\n",
        "- Equation on O:\n",
        "\n",
        "$$(\\frac{1}{2} \\Delta - \\lambda) v(x) + \\sum_{i=1}^{d} b_{i}(x) \\frac{\\partial v(x)}{\\partial x_{i}} + l(x) = 0.$$\n",
        "\n",
        "- Dirichlet data on O:\n",
        "\n",
        "$$v(x) = g(x).$$\n",
        "\n",
        "We use the value iteration to get the numerical solution of the above PDE.\n",
        "\n",
        "The finite differencee operator is as following:\n",
        "\n",
        "- CFD\n",
        "\n",
        "$$\\frac{\\partial v(x)}{\\partial x_{i}} \\approx \\bar{\\delta}_{h e_{i}} v(x) = \\frac{v(x + h e_{i})- v(x - h e_{i})}{2h}.$$\n",
        "\n",
        "- SCFD\n",
        "\n",
        "$$\\frac{\\partial^{2} v(x)}{\\partial x_{i}^{2}} \\approx \\delta_{he_{i}}\\delta_{-he_{i}} v(x) = \\frac{v(x+he_{i}) - 2v(x) + v(x - he_{i})}{h^{2}}.$$\n",
        "\n",
        "We denote $v_{i}^{+} = v(x + he_{i})$, $v = v(x)$ and $v_{i}^{-} = v(x - he_{i})$, then we have\n",
        "\n",
        "$$\\frac{1}{2} \\sum_{i = 1}^{d} \\frac{v_{i}^{+} - 2v + v_{i}^{-}}{h^{2}} - \\lambda v + \\sum_{i = 1}^{d} b_{i} \\frac{v_{i}^{+} - v_{i}^{-}}{2h} + l = 0.$$\n",
        "\n",
        "By sorting out the same items, we have\n",
        "\n",
        "$$v (x) = \\frac{d}{d + \\lambda h^{2}} \\{\\frac{h^{2}}{d} l(x) + \\sum_{i = 1}^{d} \\frac{1}{2d} (1 + h b_{i}(x)) v_{i}^{+} + \\sum_{i = 1}^{d} \\frac{1}{2d} (1 - h b_{i}(x)) v_{i}^{-} \\}.$$\n",
        "\n",
        "We denote $\\gamma = \\frac{d}{d + \\lambda h^{2}}$, $l^{h} (x) = \\frac{h^{2}}{d} l(x)$ and $p^{h}(x \\pm he_{i} |x) = \\frac{1}{2d} (1 \\pm h b_{i}(x))$, then we can get that\n",
        "\n",
        "$$v (x) = \\gamma \\{l^{h}(x) + \\sum_{i=1}^{d} (p^{h}(x+he_{i}|x)v(x+he_{i}) + p^{h}(x - he_{i}|x) v(x-he_{i}))\\}.$$\n",
        "\n"
      ]
    },
    {
      "cell_type": "markdown",
      "metadata": {
        "id": "-lYSO-Kp0Dz7",
        "colab_type": "text"
      },
      "source": [
        ""
      ]
    },
    {
      "cell_type": "markdown",
      "metadata": {
        "id": "JLuLNye71k5-",
        "colab_type": "text"
      },
      "source": [
        "## **Exercise:**\n",
        "\n",
        "Consider 2-d PDE\n",
        "\n",
        "$$\\frac{1}{2} \\Delta v(x) - v(x) + x_{1}^{2} + x_{2}^{2} -x_{1} - x_{2} - \\frac{3}{2} = 0, \\, x \\in O = (0, 1)^{2}$$\n",
        "\n",
        "with the boundary data\n",
        "\n",
        "$$v(x) = (x_{1} - \\frac{1}{2})^{2} + (x_{2} - \\frac{1}{2})^{2}, \\, x \\notin O.$$\n",
        "\n",
        "- show that exact solution is\n",
        "\n",
        "$$v(x) = (x_{1} - \\frac{1}{2})^{2} + (x_{2} - \\frac{1}{2})^{2}.$$\n",
        "\n",
        "- Identify $\\gamma$, $l^{h}(x)$, $p^{h}$ in the CFD solution given by\n",
        "\n",
        "$$v (x) = \\gamma \\{l^{h}(x) + \\sum_{i=1}^{d} (p^{h}(x+he_{i}|x)v(x+he_{i}) + p^{h}(x - he_{i}|x) v(x-he_{i}))\\}.$$\n",
        "\n",
        "- For $\\{h = 2^{-i}: i = 2, 3, 4, 5\\}$, compute CFD solution and find maxnorm of error."
      ]
    },
    {
      "cell_type": "markdown",
      "metadata": {
        "id": "g9rGXhhZ4IuT",
        "colab_type": "text"
      },
      "source": [
        ""
      ]
    },
    {
      "cell_type": "markdown",
      "metadata": {
        "id": "AsKuQoKd4KAL",
        "colab_type": "text"
      },
      "source": [
        "## **Solution:**\n",
        "\n",
        "(1) We need to verify $v(x) = (x_{1} - \\frac{1}{2})^{2} + (x_{2} - \\frac{1}{2})^{2}$ is the exact solution of the above PDE.\n",
        "\n",
        "When $x \\notin O$, $v(x) = (x_{1} - \\frac{1}{2})^{2} + (x_{2} - \\frac{1}{2})^{2}$, it satisfies the boundary condition.\n",
        "\n",
        "When $x \\in O$,\n",
        "\n",
        "$$\\frac{\\partial v(x)}{\\partial x_{i}} = 2(x_{i} - \\frac{1}{2}), \\, i = 1, 2,$$\n",
        "\n",
        "then we have $\\Delta v(x) = 4$. So we know that\n",
        "\n",
        "$$\\frac{1}{2} \\Delta v(x) + x_{1}^{2} + x_{2}^{2} -x_{1} - x_{2} - \\frac{3}{2} = (x_{1} - \\frac{1}{2})^{2} + (x_{2} - \\frac{1}{2})^{2} = v(x),$$\n",
        "\n",
        "and then we have\n",
        "\n",
        "$$\\frac{1}{2} \\Delta v(x) - v(x) + x_{1}^{2} + x_{2}^{2} -x_{1} - x_{2} - \\frac{3}{2} = 0.$$\n",
        "\n",
        "So, $v(x) = (x_{1} - \\frac{1}{2})^{2} + (x_{2} - \\frac{1}{2})^{2}$ is the exact solution of the above PDE."
      ]
    },
    {
      "cell_type": "markdown",
      "metadata": {
        "id": "JWc0zLtR6ZEE",
        "colab_type": "text"
      },
      "source": [
        ""
      ]
    },
    {
      "cell_type": "markdown",
      "metadata": {
        "id": "K-mYiCcr6ZVn",
        "colab_type": "text"
      },
      "source": [
        "(2) Using the CFD method, we have\n",
        "\n",
        "$$\\frac{1}{2} \\sum_{i = 1}^{2} \\frac{v_{i}^{+} - 2v + v_{i}^{-}}{h^{2}} - v + (x_{1} - \\frac{1}{2})^{2} + (x_{2} - \\frac{1}{2})^{2} -2 = 0.$$\n",
        "\n",
        "By sorting out the same terms, we have\n",
        "\n",
        "$$v(x) = \\frac{2}{2+ h^{2}} \\{ \\frac{h^{2}}{2} [(x_{1} - \\frac{1}{2})^{2} + (x_{2} - \\frac{1}{2})^{2} -2] + \\sum_{i=1}^{2} \\frac{1}{4} v(x + he_{i}) + \\sum_{i=1}^{2} \\frac{1}{4} v(x - he_{i})\\}.$$\n",
        "\n",
        "Thus we can get that\n",
        "\n",
        "$$\\gamma = \\frac{2}{2+h^{2}}, \\quad l^{h}(x) = \\frac{h^{2}}{2} [(x_{1} - \\frac{1}{2})^{2} + (x_{2} - \\frac{1}{2})^{2} -2], \\quad p^{h}(x\\pm he_{i}|x) = \\frac{1}{4}.$$"
      ]
    },
    {
      "cell_type": "markdown",
      "metadata": {
        "id": "vzXGgIhO9YOT",
        "colab_type": "text"
      },
      "source": [
        ""
      ]
    },
    {
      "cell_type": "markdown",
      "metadata": {
        "id": "Ag8vjh4a9Zb9",
        "colab_type": "text"
      },
      "source": [
        "(3) For $\\{h = 2^{-i}: i = 2, 3, 4, 5\\}$, compute CFD solution and find maxnorm of error."
      ]
    },
    {
      "cell_type": "code",
      "metadata": {
        "id": "mKHXFpDw4JGL",
        "colab_type": "code",
        "colab": {}
      },
      "source": [
        ""
      ],
      "execution_count": 0,
      "outputs": []
    },
    {
      "cell_type": "code",
      "metadata": {
        "id": "g4J_k1rF1kJn",
        "colab_type": "code",
        "colab": {}
      },
      "source": [
        ""
      ],
      "execution_count": 0,
      "outputs": []
    },
    {
      "cell_type": "code",
      "metadata": {
        "id": "kPgCA8VIt28h",
        "colab_type": "code",
        "colab": {}
      },
      "source": [
        ""
      ],
      "execution_count": 0,
      "outputs": []
    }
  ]
}