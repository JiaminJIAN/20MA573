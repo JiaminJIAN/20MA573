{
  "nbformat": 4,
  "nbformat_minor": 0,
  "metadata": {
    "colab": {
      "name": "Upwind finite difference scheme",
      "provenance": [],
      "collapsed_sections": [],
      "authorship_tag": "ABX9TyOAt+2QmrEQn75imlRP6zWK",
      "include_colab_link": true
    },
    "kernelspec": {
      "name": "python3",
      "display_name": "Python 3"
    }
  },
  "cells": [
    {
      "cell_type": "markdown",
      "metadata": {
        "id": "view-in-github",
        "colab_type": "text"
      },
      "source": [
        "<a href=\"https://colab.research.google.com/github/JiaminJIAN/20MA573/blob/master/src/Upwind_finite_difference_scheme.ipynb\" target=\"_parent\"><img src=\"https://colab.research.google.com/assets/colab-badge.svg\" alt=\"Open In Colab\"/></a>"
      ]
    },
    {
      "cell_type": "markdown",
      "metadata": {
        "id": "y4pbBf_BikH3",
        "colab_type": "text"
      },
      "source": [
        "# **Upwind finite difference scheme**\n",
        "\n",
        "## **Introduction:**\n",
        "\n",
        "Consider the BVP:\n",
        "\n",
        "$$\n",
        "\\begin{cases}\n",
        "Lu = - u^{''} + b u^{'} + c u = f, & x \\in (0, 1) \\\\\n",
        "u(0) = u(1) = 0 &\n",
        "\\end{cases}$$\n",
        "\n",
        "Using the Upwind difference, the finite difference operator is as following:\n",
        "\n",
        "- UFD:\n",
        "$$ u_{i}^{'} \\approx \n",
        "\\begin{cases}\n",
        "\\delta_{h} u_{i} = \\frac{u_{i+1}^{h} - u_{i}^{h}}{h}, & b(x) < 0 \\\\\n",
        "\\delta_{-h} u_{i} = \\frac{u_{i}^{h} - u_{i-1}^{h}}{h} , & b(x) \\geq 0.\n",
        "\\end{cases}$$\n",
        "\n",
        "- SCFD:\n",
        "\n",
        "$$u_{i}^{''} \\approx \\delta_{h} \\delta_{-h} u_{i} = \\frac{u_{i+1}^{h} - 2 u_{i}^{h} + u_{i-1}^{h}}{h^{2}}.$$\n",
        "\n",
        "By the formula of UFD for $u^{'}$, we have \n",
        "\n",
        "$$b u^{'} = (b^{+} - b^{-}) u^{'} \\approx b^{+} (\\delta_{-h} u) - b^{-} (\\delta_{h} u).$$\n",
        "\n",
        "Then for the above BVP, for $i = 1, 2, \\dots, N-1$, we have\n",
        "\n",
        "$$ - \\frac{u_{i+1}^{h} - 2 u_{i}^{h} + u_{i-1}^{h}}{h^{2}} + b^{+} \\frac{u_{i}^{h} - u_{i-1}^{h}}{h} - b^{-} \\frac{u_{i+1}^{h} - u_{i}^{h}}{h} + c u_{i}^{h} = \\hat{f_{i}}. $$\n",
        "\n",
        "By sorting out the parameters, we have\n",
        "\n",
        "$$- u_{i-1}^{h} (\\frac{1}{h^{2}} + \\frac{b^{+}}{h}) + u_{i}^{h} (\\frac{2}{h^{2}} + \\frac{|b|}{h} + c) - u_{i+1}^{h} (\\frac{1}{h^{2}} + \\frac{b^{-}}{h}) = \\hat{f_{i}}.$$\n",
        "\n",
        "Then we know that UFD solution $u^{h}$ solves\n",
        "\n",
        "$$\n",
        "\\begin{cases}\n",
        "u_{0}^{h} = 0 \\\\-r u_{i-1}^{h} + s u_{i}^{h} - t u_{i+1}^{h} = \\hat{f_{i}}, & i = 1, 2, \\dots, N-1 \\\\\n",
        "u_{N}^{h} = 0\n",
        "\\end{cases}$$\n",
        "\n",
        "where $r = \\frac{1}{h^{2}} + \\frac{b^{+}}{h}$, $s = \\frac{2}{h^{2}} + \\frac{|b|}{h} + c$ and $t = \\frac{1}{h^{2}} + \\frac{b^{-}}{h}$.\n"
      ]
    },
    {
      "cell_type": "code",
      "metadata": {
        "id": "elzx8751qvzq",
        "colab_type": "code",
        "colab": {}
      },
      "source": [
        ""
      ],
      "execution_count": 0,
      "outputs": []
    },
    {
      "cell_type": "markdown",
      "metadata": {
        "id": "_mvnQQDdquex",
        "colab_type": "text"
      },
      "source": [
        "## **Exercise:**\n",
        "\n",
        "Consider ODE\n",
        "\n",
        "$$- u^{''} + u = x, \\, \\forall x \\in (0, 1), u(0) = u(1) = 0.$$\n",
        "\n",
        "Answer the following questions:\n",
        "\n",
        "- Prove that \n",
        "$$u(x) = x - \\frac{\\exp(x - 1) - \\exp(- x - 1)}{1 - \\exp(-2)}$$\n",
        "is the unique solution.\n",
        "\n",
        "- Using the upwind finite difference scheme, find out the matrix $L^{h}$ and vector $R^{h}f$, such that the numerical solution satisfies $L^{h} u^{h} = R^{h} f$.\n",
        "\n",
        "- Convert $L^{h} u^{h} = R^{h} f$ to Markovian Reward Process.\n",
        "\n",
        "- Write a pseudocode for value iteration.\n",
        "\n",
        "- Write a pseudocode for first visit Monte-Carlo method.\n",
        "\n",
        "- Prove the consistency.\n",
        "\n",
        "- Prove the stability.\n",
        "\n",
        "- Find convergence rate.\n",
        "\n"
      ]
    },
    {
      "cell_type": "code",
      "metadata": {
        "id": "febCI-ZUs9Qs",
        "colab_type": "code",
        "colab": {}
      },
      "source": [
        ""
      ],
      "execution_count": 0,
      "outputs": []
    },
    {
      "cell_type": "markdown",
      "metadata": {
        "id": "kgPf96LLs9cq",
        "colab_type": "text"
      },
      "source": [
        "## **Solution:**\n",
        "\n",
        "(1) Prove that \n",
        "$$u(x) = x - \\frac{\\exp(x - 1) - \\exp(- x - 1)}{1 - \\exp(-2)}$$\n",
        "is the unique solution.\n",
        "\n",
        "Proof:\n",
        "\n",
        "Firstly we consider the equation\n",
        "\n",
        "$$ - u^{''} + u = 0,$$\n",
        "\n",
        "the solution is $u(x) = c_{1} e^{x} + c_{2} e^{-x}$, where $c_{1}$ and $c_{2}$ are constants we need to calculate. Since $u(x) = x$ is a solution of the ODE $- u^{''} + u = x$, so we know that $u(x) = x + c_{1} e^{x} + c_{2} e^{-x}$. As $u(0) = u(1) = 0$, we have\n",
        "\n",
        "$$\n",
        "\\begin{cases}\n",
        "c_{1} + c_{2} = 0 \\\\\n",
        "1 + c_{1} e + c_{2} e^{-1}  = 0.\n",
        "\\end{cases}$$\n",
        "\n",
        "By calculation we can get $c_{1} = - \\frac{e^{-1}}{1 - e^{-2}}$ and $c_{2} = \\frac{e^{-1}}{1 - e^{-2}}$. Thus we know the solution of the above ODE is\n",
        "\n",
        "$$u(x) = x - \\frac{\\exp(x - 1) - \\exp(- x - 1)}{1 - \\exp(-2)}.$$"
      ]
    },
    {
      "cell_type": "code",
      "metadata": {
        "id": "eU3fQpe6v9Oc",
        "colab_type": "code",
        "colab": {}
      },
      "source": [
        ""
      ],
      "execution_count": 0,
      "outputs": []
    },
    {
      "cell_type": "markdown",
      "metadata": {
        "id": "Rn22C-GEv-dF",
        "colab_type": "text"
      },
      "source": [
        "(2) Using the upwind finite difference scheme, find out the matrix $L^{h}$ and vector $R^{h}f$, such that the numerical solution satisfies $L^{h} u^{h} = R^{h} f$.\n",
        "\n",
        "Solution:\n",
        "\n",
        "Applying the UFD scheme for the above ODE, for $i = 1, 2, \\dots, N-1$, we have\n",
        "\n",
        "$$- u_{i-1}^{h} \\frac{1}{h^{2}} + u_{i}^{h} (\\frac{2}{h^{2}} + 1) - u_{i+1}^{h} \\frac{1}{h^{2}} = \\hat{f_{i}}.$$\n",
        "\n",
        "Denote $r = \\frac{1}{h^{2}}$, $s = \\frac{2}{h^{2}} + 1$ and $t = \\frac{1}{h^{2}}$, we know that UFD solution $u^{h}$ solves\n",
        "\n",
        "$$\n",
        "\\begin{cases}\n",
        "u_{0}^{h} = 0 \\\\-r u_{i-1}^{h} + s u_{i}^{h} - t u_{i+1}^{h} = \\hat{f_{i}}, & i = 1, 2, \\dots, N-1 \\\\\n",
        "u_{N}^{h} = 0.\n",
        "\\end{cases}$$\n",
        "\n",
        "Let $h = \\frac{1}{N}$, UFD is to solve for $u^{h} \\in \\mathbb{R}^{N+1}$ from $L^{h} u^{h} = R^{h} \\hat{f}$, where\n",
        "\n",
        "$$ L^{h} = \n",
        " \\begin{bmatrix}\n",
        " 1  &  0  &  0  &  0  &  0  & 0  \\\\\n",
        " -r &  s  & -r  &  0  &  0  & 0  \\\\\n",
        " 0  & -r  & s   &  -r &  0  & 0  \\\\\n",
        " 0  &  0  & \\ddots  &  \\ddots  & \\ddots  & 0   \\\\\n",
        " 0  &  0  & 0   & -r  &  s  & -r  \\\\\n",
        " 0  &  0  & 0   &  0  &  0  &  1 \n",
        "\\end{bmatrix}\n",
        "$$\n",
        "\n",
        "is a $(N+1) \\times (N+1)$ matrix and \n",
        "\n",
        "$$R^{h} \\hat{f} =(0, \\frac{1}{N}, \\frac{2}{N}, \\dots, \\frac{N-1}{N}, 0 )^{\\text{T}}$$\n",
        "\n",
        "is a $(N+1) \\times 1$ vector."
      ]
    },
    {
      "cell_type": "code",
      "metadata": {
        "id": "APQvaTNUzQE_",
        "colab_type": "code",
        "colab": {}
      },
      "source": [
        ""
      ],
      "execution_count": 0,
      "outputs": []
    },
    {
      "cell_type": "markdown",
      "metadata": {
        "id": "95f9VsqozX-k",
        "colab_type": "text"
      },
      "source": [
        "(3) Convert $L^{h} u^{h} = R^{h} f$ to Markovian Reward Process.\n",
        "\n",
        "Solution:\n",
        "\n",
        "Applying the UFD scheme for the above ODE, for $i = 1, 2, \\dots, N-1$, we have\n",
        "\n",
        "$$- u_{i-1}^{h} \\frac{1}{h^{2}} + u_{i}^{h} (\\frac{2}{h^{2}} + 1) - u_{i+1}^{h} \\frac{1}{h^{2}} = \\hat{f_{i}},$$\n",
        "\n",
        "where $\\hat{f_{i}} = x_{i}$, then we have\n",
        "\n",
        "$$ (\\frac{2}{h^{2}} + 1) u_{i}^{h} = \\frac{1}{h^{2}} ( u_{i-1}^{h} + u_{i+1}^{h}) + x_{i} .$$\n",
        "\n",
        "Divide $\\frac{2}{h^{2}} + 1$ on the both side, we have\n",
        "\n",
        "$$u_{i}^{h} = \\frac{2}{2+h^{2}} (\\frac{h^{2}}{2} x_{i} + \\frac{1}{2} u_{i-1}^{h} + \\frac{1}{2} u_{i+1}^{h}).$$\n",
        "\n",
        "Denote $\\gamma = \\frac{2}{2+h^{2}}$, $l^{h}(x) = \\frac{h^{2}}{2} x$ and $p^{h}(x+h|x) = p^{h}(x-h|x) = \\frac{1}{2}$, then we can get Markovian Reward Process as follows:\n",
        "\n",
        "$$u(x) = \\gamma \\{l^{h}(x) + p^{h}(x+h|x) u(x+h) + p^{h}(x-h|x)u(x-h) \\}$$"
      ]
    },
    {
      "cell_type": "code",
      "metadata": {
        "id": "PbgoWcHh2Gds",
        "colab_type": "code",
        "colab": {}
      },
      "source": [
        ""
      ],
      "execution_count": 0,
      "outputs": []
    },
    {
      "cell_type": "markdown",
      "metadata": {
        "id": "cM37MKEU2F3A",
        "colab_type": "text"
      },
      "source": [
        "(4) Write a pseudocode for value iteration.\n",
        "\n",
        "(5) Write a pseudocode for first visit Monte-Carlo method.\n",
        "\n",
        "Solution: \n",
        "\n",
        "The pseudocode of (4) and (5) is presented in the file:\n",
        "\n",
        "[Pseudocode_hw12](https://github.com/JiaminJIAN/20MA573/blob/master/src/pseudocode_hw12.pdf)"
      ]
    },
    {
      "cell_type": "code",
      "metadata": {
        "id": "cvh1gFkw2T6_",
        "colab_type": "code",
        "colab": {}
      },
      "source": [
        ""
      ],
      "execution_count": 0,
      "outputs": []
    },
    {
      "cell_type": "markdown",
      "metadata": {
        "id": "k44wB4H92UGF",
        "colab_type": "text"
      },
      "source": [
        "(6) Prove the consistency.\n",
        "\n",
        "Solution:\n",
        "\n",
        "We need to show that there exists $\\alpha > 0$ such that for any small $h$ we have\n",
        "\n",
        "$$\\|L^{h}R^{h}v - R^{h}Lv\\|_{\\infty} \\leq K h^{\\alpha}, \\forall v \\in C^{2}(0,1) \\cap C[0,1].$$\n",
        "\n",
        "If $i = 0$, then \n",
        "\n",
        "$$(L^{h}R^{h}v)_{i} = (R^{h}v)_{0} = v(x_{0}) = 0,$$\n",
        "\n",
        "while\n",
        "\n",
        "$$(R^{h}Lv)_{i} = Lv(x_{0}) = v(x_{0}) = 0. $$\n",
        "\n",
        "If $i = N$, then\n",
        "\n",
        "$$(L^{h}R^{h}v)_{i} = (R^{h}v)_{N} = v(x_{N}) = 0,$$\n",
        "\n",
        "while\n",
        "\n",
        "$$(R^{h}Lv)_{i} = Lv(x_{N}) = v(x_{N}) = 0.$$\n",
        "\n",
        "And if $1 \\leq i \\leq N-1$, then\n",
        "\n",
        "$$(L^{h}R^{h}v)_{i} = - \\delta_{h} \\delta_{-h} v(x_{i}) + v(x_{i}),$$\n",
        "\n",
        "while\n",
        "\n",
        "$$(R^{h}Lv)_{i} = - v^{''}(x_{i}) + v(x_{i}).$$\n",
        "\n",
        "Therefore, by the Taylor expasion, for any small $h$ we have\n",
        "\n",
        "$$\\|L^{h}R^{h}v - R^{h}Lv\\|_{\\infty} \\leq K h^{\\alpha}, \\forall v \\in C^{2}(0,1) \\cap C[0,1].$$\n"
      ]
    },
    {
      "cell_type": "code",
      "metadata": {
        "id": "S_x0CWpkAgqZ",
        "colab_type": "code",
        "colab": {}
      },
      "source": [
        ""
      ],
      "execution_count": 0,
      "outputs": []
    },
    {
      "cell_type": "markdown",
      "metadata": {
        "id": "zeJ1gwsdAhJJ",
        "colab_type": "text"
      },
      "source": [
        "(7) Prove the stability.\n",
        "\n",
        "Solution:\n",
        "\n",
        "We need to show that there exists a K such that\n",
        "\n",
        "$$\\|v\\|_{\\infty} \\leq K \\|L^{h}v\\|_{\\infty}, \\forall v \\in \\mathbb{R}^{N+1}.$$\n",
        "\n",
        "If $|v_{0}| = \\|v\\|_{\\infty}$, then\n",
        "\n",
        "$$\\|L^{h}v\\|_{\\infty} \\geq |(L^{h}v)_{0}| = |v_{0}| = \\|v\\|_{\\infty}.$$\n",
        "\n",
        "If $|v_{N}| = \\|v\\|_{\\infty}$, then\n",
        "\n",
        "$$\\|L^{h}v\\|_{\\infty} \\geq |(L^{h}v)_{N}| = |v_{N}| = \\|v\\|_{\\infty}.$$\n",
        "\n",
        "And if $|v_{i}| = \\|v\\|_{\\infty}$ for some $1 \\leq i \\leq N-1$, then\n",
        "\n",
        "\\begin{equation}\n",
        "\\begin{aligned}\n",
        "\\|L^{h}v\\|_{\\infty} &\\geq |(L^{h}v)_{i}| \\\\\n",
        "&= |-r v_{i-1} + s v_{i} - t v_{i+1}| \\\\\n",
        "&\\geq s |v_{i}| - r |v_{i-1}| - t |v_{i+1}| \\\\\n",
        "&\\geq (s - r - t) |v_{i}| \\\\\n",
        "&\\geq |v_{i}| = \\|v\\|_{\\infty} .\n",
        "\\end{aligned}\n",
        "\\end{equation}\n",
        "\n",
        "Hence we know that\n",
        "\n",
        "$$\\|v\\|_{\\infty} \\leq  \\|L^{h}v\\|_{\\infty}, \\forall v \\in \\mathbb{R}^{N+1}.$$"
      ]
    },
    {
      "cell_type": "code",
      "metadata": {
        "id": "sHDTYprBAp0L",
        "colab_type": "code",
        "colab": {}
      },
      "source": [
        ""
      ],
      "execution_count": 0,
      "outputs": []
    },
    {
      "cell_type": "markdown",
      "metadata": {
        "id": "tbxHvP-ZAqFf",
        "colab_type": "text"
      },
      "source": [
        "(8) Find convergence rate.\n",
        "\n",
        "Solution:\n",
        "\n",
        "Let $u^{h}$ be the numerical solution, we have\n",
        "\n",
        "\\begin{equation}\n",
        "\\begin{aligned}\n",
        "\\|u^{h} - R^{h}u\\|_{\\infty} &\\leq \\|L^{h}(u^{h} - R^{h}u)\\|_{\\infty} \\\\\n",
        "&= \\|L^{h}u^{h} - L^{h}R^{h}u\\|_{\\infty} \\\\\n",
        "&= \\|R^{h} \\hat{f} - L^{h}R^{h}u\\|_{\\infty} \\\\\n",
        "&= \\|R^{h} Lu - L^{h}R^{h}u\\|_{\\infty} \\\\\n",
        "&= O(h^{2}).\n",
        "\\end{aligned}\n",
        "\\end{equation}"
      ]
    }
  ]
}