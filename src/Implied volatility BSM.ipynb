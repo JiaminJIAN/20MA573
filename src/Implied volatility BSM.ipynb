{
  "nbformat": 4,
  "nbformat_minor": 0,
  "metadata": {
    "colab": {
      "name": "Implied volatility - BSM",
      "provenance": [],
      "collapsed_sections": [],
      "include_colab_link": true
    },
    "kernelspec": {
      "name": "python3",
      "display_name": "Python 3"
    }
  },
  "cells": [
    {
      "cell_type": "markdown",
      "metadata": {
        "id": "view-in-github",
        "colab_type": "text"
      },
      "source": [
        "<a href=\"https://colab.research.google.com/github/JiaminJIAN/20MA573/blob/master/src/Implied%20volatility%20BSM.ipynb\" target=\"_parent\"><img src=\"https://colab.research.google.com/assets/colab-badge.svg\" alt=\"Open In Colab\"/></a>"
      ]
    },
    {
      "cell_type": "markdown",
      "metadata": {
        "id": "iHMqWczsik6_",
        "colab_type": "text"
      },
      "source": [
        "##**Question:**\n",
        "\n",
        "(1) Prove the following facts: Supose $f$ is a function satisfying\n",
        "  - $f(0) = f_{min},$ and $\\lim_{x\\to \\infty}f(x) =  f_{max}$\n",
        "  - $f$ is continuous\n",
        "  - $f$ is strictly increasing\n",
        "  \n",
        "  then, for any $p\\in  (f_{min}, f_{max})$, \n",
        "  - there exists unique $\\hat \\sigma$, such that $f(\\hat \\sigma) = p$ and  \n",
        "  $$\\hat \\sigma = \\arg\\min_{\\sigma\\in (0,\\infty)} | f(\\sigma) - p|.$$"
      ]
    },
    {
      "cell_type": "markdown",
      "metadata": {
        "id": "F9tYcXcNcbil",
        "colab_type": "text"
      },
      "source": [
        "(2) Now we denote by $f(\\sigma)$ the BSM put price with the following parameters:\n",
        "  - vol_ratio = $\\sigma$; spot_price = 100.; drift_ratio = .0475; strike = 110.; maturity = 1.\n",
        "  \n",
        "  Answer the following questions:\n",
        "  \n",
        "  (a) What is $f_{min}$ and $f_{max}$?\n",
        "\n",
        "  (b) Is $f$ strictly increasing on $(0,\\infty)$? Justify your answer.\n",
        "\n",
        "  (c) If the market put price is $10$, then what's the implied volatility?"
      ]
    },
    {
      "cell_type": "markdown",
      "metadata": {
        "id": "Yb5WeJlQp971",
        "colab_type": "text"
      },
      "source": [
        "(3) Find its implied volatility with the following parameters:\n",
        "  - BSM call price is 10.;  spot_price = 100.; drift_ratio = .0475; strike = 110.; maturity = 1.\n",
        "\n"
      ]
    },
    {
      "cell_type": "markdown",
      "metadata": {
        "id": "v1visTrYoKf9",
        "colab_type": "text"
      },
      "source": [
        "##**Answer:**\n",
        "\n"
      ]
    },
    {
      "cell_type": "markdown",
      "metadata": {
        "id": "dcxOq-1WoQgf",
        "colab_type": "text"
      },
      "source": [
        "(1) Prove the following facts: Supose $f$ is a function satisfying\n",
        "  - $f(0) = f_{min},$ and $\\lim_{x\\to \\infty}f(x) =  f_{max}$\n",
        "  - $f$ is continuous\n",
        "  - $f$ is strictly increasing\n",
        "  \n",
        "  then, for any $p\\in  (f_{min}, f_{max})$, \n",
        "  - there exists unique $\\hat \\sigma$, such that $f(\\hat \\sigma) = p$ and  \n",
        "  $$\\hat \\sigma = \\arg\\min_{\\sigma\\in (0,\\infty)} | f(\\sigma) - p|.$$\n"
      ]
    },
    {
      "cell_type": "markdown",
      "metadata": {
        "id": "78JaCn_4oavV",
        "colab_type": "text"
      },
      "source": [
        "**Proof:**\n",
        "\n"
      ]
    },
    {
      "cell_type": "markdown",
      "metadata": {
        "id": "JBiBkoi1og55",
        "colab_type": "text"
      },
      "source": [
        "(2) Now we denote by $f(\\sigma)$ the BSM put price with the following parameters:\n",
        "  - vol_ratio = $\\sigma$; spot_price = 100.; drift_ratio = .0475; strike = 110.; maturity = 1.\n",
        "  \n",
        "  Answer the following questions:\n",
        "  \n",
        "  (a) What is $f_{min}$ and $f_{max}$?\n",
        "\n",
        "  (b) Is $f$ strictly increasing on $(0,\\infty)$? Justify your answer.\n",
        "\n",
        "  (c) If the market put price is $10$, then what's the implied volatility?"
      ]
    },
    {
      "cell_type": "markdown",
      "metadata": {
        "id": "0qhUXP-6orbp",
        "colab_type": "text"
      },
      "source": [
        "**Answer:**\n",
        "\n",
        "**(a)** What is $f_{min}$ and $f_{max}$?\n",
        "\n",
        "The European put option price with maturity $T$ and strike price $K$ will be known as and $P_0$ given as below:\n",
        "\n",
        "$$P_0 = \\mathbb{E} [e^{-rT} (S(T) - K)^- | \\mathcal{F}_{0}] = K e^{-rT} \\mathcal{N}(- d_2) - S_0  \\mathcal{N}(- d_1),$$\n",
        "\n",
        "where $d_i$ are given as\n",
        "$$d_1 = \\frac{\\ln \\frac{S_0}{K} + (r + \\frac 1 2 \\sigma^2) T}{\\sigma \\sqrt T},$$\n",
        "and\n",
        "$$d_2 = \\frac{\\ln \\frac{S_0}{K} + (r - \\frac 1 2 \\sigma^2) T }{\\sigma \\sqrt T} = d_1 - \\sigma \\sqrt T.$$\n",
        "\n",
        "When $S_{0} = 100, K = 110, r = 0.0475$ and $T=1$, we have $d_{1} = \\frac{\\ln \\frac{100}{110} + (0.0475 + \\frac 1 2 \\sigma^2) }{\\sigma}$ and $d_{2} = \\frac{\\ln \\frac{100}{110} + (0.0475 - \\frac 1 2 \\sigma^2) }{\\sigma}$.\n",
        "\n",
        "Since $(\\ln \\frac{100}{110} + 0.0475) < 0$, when $\\sigma \\rightarrow 0$, we have\n",
        "\n",
        "$$\\lim_{\\sigma \\to 0}d_{1} = \\lim_{\\sigma \\to 0} \\frac{\\ln \\frac{100}{110} + (0.0475 + \\frac 1 2 \\sigma^2) }{\\sigma} = - \\infty$$\n",
        "\n",
        "and\n",
        "\n",
        "$$\\lim_{\\sigma \\to 0}d_{2} = \\lim_{\\sigma \\to 0} d_{1} - \\sigma \\sqrt T = - \\infty.$$\n",
        "\n",
        "Such that\n",
        "\n",
        "$$\\lim_{\\sigma \\to 0} P_{0} = K e^{-rT} - S_0 =  110 \\times e^{-0.0475} - 100 = 4.89715,$$\n",
        "\n",
        "so we get $f_{min} = 4.89715$.\n",
        "\n",
        "And when $\\sigma \\rightarrow + \\infty$, we have\n",
        "\n",
        "$$\\lim_{\\sigma \\to + \\infty}d_{1} = \\lim_{\\sigma \\to + \\infty} \\frac{\\ln \\frac{100}{110} + (0.0475 + \\frac 1 2 \\sigma^2) }{\\sigma} = + \\infty$$\n",
        "\n",
        "and \n",
        "\n",
        "$$\\lim_{\\sigma \\to + \\infty}d_{2} = \\lim_{\\sigma \\to + \\infty} \\frac{\\ln \\frac{100}{110} + (0.0475 - \\frac 1 2 \\sigma^2) }{\\sigma} = - \\infty,$$\n",
        "\n",
        "so for the European put option, we have\n",
        "\n",
        "$$\\lim_{\\sigma \\to + \\infty} P_{0} = K e^{-rT} =  110 \\times e^{-0.0475}  = 104.89715.$$\n",
        "\n",
        "And we can get the $f_{max} = 104.89715$.\n",
        "\n",
        "\n"
      ]
    },
    {
      "cell_type": "code",
      "metadata": {
        "id": "ym3N9nKarvYu",
        "colab_type": "code",
        "outputId": "aafbb691-3fa4-41d0-e68a-3882d82d65c3",
        "colab": {
          "base_uri": "https://localhost:8080/",
          "height": 54
        }
      },
      "source": [
        "import numpy as np\n",
        "a1 = np.log(100/110) + 0.0475\n",
        "a2 = 110 * np.exp(-0.0475) - 100\n",
        "a3 = 110 * np.exp(-0.0475)\n",
        "print(a1, a2, a3)"
      ],
      "execution_count": 0,
      "outputs": [
        {
          "output_type": "stream",
          "text": [
            "-0.04781017980432489 4.897152044588907 104.8971520445889\n"
          ],
          "name": "stdout"
        }
      ]
    },
    {
      "cell_type": "markdown",
      "metadata": {
        "id": "woWohzaxwDrG",
        "colab_type": "text"
      },
      "source": [
        "**(b)** Is $f$ strictly increasing on $(0,\\infty)$? Justify your answer.\n",
        "\n",
        "We just need to calculate the $\\frac{\\partial P_0}{\\partial \\sigma}$, and the calculation process is as following:\n",
        "\n",
        "$$\\frac{\\partial P_0}{\\partial \\sigma} = S_{0}\\frac{\\partial \\mathcal{N}(d_{1})}{\\partial d_{1}} \\frac{\\partial d_{1}}{\\partial \\sigma} -K e^{-rT} \\frac{\\partial \\mathcal{N}(d_{2})}{\\partial d_{2}} \\frac{\\partial d_{2}}{\\partial \\sigma},$$\n",
        "\n",
        "since $\\frac{\\partial \\mathcal{N}(d_{1})}{\\partial d_{1}} = \\frac{1}{\\sqrt{2 \\pi}} e^{- \\frac{d_1^2}{2}}$, $\\frac{\\partial \\mathcal{N}(d_{2})}{\\partial d_{2}} = \\frac{1}{\\sqrt{2 \\pi}} e^{- \\frac{d_2^2}{2}}$, and $d_2 = d_{1} - \\sigma \\sqrt{T}$, we have\n",
        "\n",
        "$$\\frac{\\partial \\mathcal{N}(d_{2})}{\\partial d_{2}} = \\frac{\\partial \\mathcal{N}(d_{1})}{\\partial d_{1}} e^{d_1 \\sigma \\sqrt{T} - \\frac{1}{2}\\sigma^{2} T},$$\n",
        "\n",
        "by the definition of $d_1$, we have\n",
        "\n",
        "$$\\frac{\\partial \\mathcal{N}(d_{2})}{\\partial d_{2}} = \\frac{\\partial \\mathcal{N}(d_{1})}{\\partial d_{1}} \\frac{S_{0}}{K} e^{rT}.$$\n",
        "\n",
        "Such that\n",
        "\n",
        "$$\\frac{\\partial P_0}{\\partial \\sigma} = S_{0} \\frac{\\partial \\mathcal{N}(d_{1})}{\\partial d_{1}} \\frac{\\partial d_{1}}{\\partial \\sigma} -  K e^{-rT} \\frac{\\partial \\mathcal{N}(d_{1})}{\\partial d_{1}} \\frac{S_{0}}{K} e^{rT} (\\frac{\\partial d_{1}}{\\partial \\sigma} - \\sqrt{T}),$$\n",
        "\n",
        "so we have\n",
        "\n",
        "$$\\frac{\\partial P_0}{\\partial \\sigma} = S_{0} \\sqrt{T} \\frac{\\partial \\mathcal{N}(d_{1})}{\\partial d_{1}} > 0.$$\n",
        "\n",
        "So, we know that $f$ strictly increasing on $(0, +\\infty)$.\n",
        "\n",
        "\n"
      ]
    },
    {
      "cell_type": "markdown",
      "metadata": {
        "id": "kyov5-gcw2Qh",
        "colab_type": "text"
      },
      "source": [
        "**(c)** If the market put price is $10$, then what's the implied volatility?"
      ]
    },
    {
      "cell_type": "code",
      "metadata": {
        "id": "12Y7rb31uoMe",
        "colab_type": "code",
        "colab": {}
      },
      "source": [
        "import numpy as np\n",
        "import scipy.stats as ss\n",
        "import matplotlib.pyplot as plt\n",
        "from pylab import plt\n",
        "plt.style.use('seaborn')\n",
        "%matplotlib inline\n",
        "\n",
        "'''=========\n",
        "option class init\n",
        "=========='''\n",
        "class VanillaOption:\n",
        "    def __init__(\n",
        "        self,\n",
        "        otype = 1, # 1: 'call'\n",
        "                  # -1: 'put'\n",
        "        strike = 110.,\n",
        "        maturity = 1.,\n",
        "        market_price = 10.):\n",
        "      self.otype = otype\n",
        "      self.strike = strike\n",
        "      self.maturity = maturity\n",
        "      self.market_price = market_price #this will be used for calibration\n",
        "      \n",
        "        \n",
        "    def payoff(self, s): #s: excercise price\n",
        "      otype = self.otype\n",
        "      k = self.strike\n",
        "      maturity = self.maturity\n",
        "      return max([0, (s - k)*otype])\n",
        "'''============\n",
        "Gbm class\n",
        "============='''\n",
        "\n",
        "class Gbm:\n",
        "    def __init__(self,\n",
        "                 init_state = 100.,\n",
        "                 drift_ratio = .0475,\n",
        "                 vol_ratio = .2\n",
        "                ):\n",
        "        self.init_state = init_state\n",
        "        self.drift_ratio = drift_ratio\n",
        "        self.vol_ratio = vol_ratio\n",
        "\n",
        "'''========\n",
        "Black-Scholes-Merton formula. \n",
        "=========='''\n",
        "\n",
        "def bsm_price(self, vanilla_option):\n",
        "    s0 = self.init_state\n",
        "    sigma = self.vol_ratio\n",
        "    r = self.drift_ratio\n",
        "    \n",
        "    otype = vanilla_option.otype\n",
        "    k = vanilla_option.strike\n",
        "    maturity = vanilla_option.maturity\n",
        "    \n",
        "    d1 = (np.log(s0 / k) + (r + 0.5 * sigma ** 2) \n",
        "          * maturity) / (sigma * np.sqrt(maturity))\n",
        "    d2 = d1 - sigma * np.sqrt(maturity)\n",
        "    \n",
        "    return (otype * s0 * ss.norm.cdf(otype * d1) #line break needs parenthesis\n",
        "            - otype * np.exp(-r * maturity) * k * ss.norm.cdf(otype * d2))\n",
        "\n",
        "Gbm.bsm_price = bsm_price"
      ],
      "execution_count": 0,
      "outputs": []
    },
    {
      "cell_type": "code",
      "metadata": {
        "id": "uPpNl2QP0g8j",
        "colab_type": "code",
        "colab": {}
      },
      "source": [
        "gbm1 = Gbm(\n",
        "    init_state = 100., \n",
        "    drift_ratio = .0475,\n",
        "    vol_ratio = .2)\n",
        "option1 = VanillaOption(\n",
        "    otype = -1,\n",
        "    strike = 110.,                \n",
        "    maturity = 1.\n",
        ")    "
      ],
      "execution_count": 0,
      "outputs": []
    },
    {
      "cell_type": "code",
      "metadata": {
        "id": "uZ73AB9l02T4",
        "colab_type": "code",
        "outputId": "f858a37a-b081-4fe9-db55-4188f00ae78d",
        "colab": {
          "base_uri": "https://localhost:8080/",
          "height": 54
        }
      },
      "source": [
        "## define an error function\n",
        "def error_function(vol, gbm, option):\n",
        "  gbm.vol_ratio = vol\n",
        "  return abs(option.market_price - gbm.bsm_price(option))\n",
        "\n",
        "\n",
        "## define a method to seek for an implied volatility\n",
        "import scipy.optimize as so\n",
        "def implied_volatility(gbm, option):\n",
        "  init_vol = .1 #initial guess\n",
        "  return so.fmin(error_function, init_vol, \n",
        "                 args = (gbm, option), disp = 0)[0]\n",
        "\n",
        "## test the implied_vol by reversing bsm_formula example in the above\n",
        "option1.market_price = 10\n",
        "\n",
        "print('>>>>>>>>implied volatility is ' + \n",
        "     str(implied_volatility(gbm1, option1)))"
      ],
      "execution_count": 0,
      "outputs": [
        {
          "output_type": "stream",
          "text": [
            ">>>>>>>>implied volatility is 0.17867187500000026\n"
          ],
          "name": "stdout"
        }
      ]
    },
    {
      "cell_type": "markdown",
      "metadata": {
        "id": "sd_tG7ID1g2q",
        "colab_type": "text"
      },
      "source": [
        "(3) Find its implied volatility with the following parameters:\n",
        "  - BSM call price is 10.;  spot_price = 100.; drift_ratio = .0475; strike = 110.; maturity = 1."
      ]
    },
    {
      "cell_type": "markdown",
      "metadata": {
        "id": "xQ2pbqh_1ldA",
        "colab_type": "text"
      },
      "source": [
        "**Answer:**\n",
        "\n",
        "For the European call option, we can do the same thing as following:"
      ]
    },
    {
      "cell_type": "code",
      "metadata": {
        "id": "aV4mtceP03y1",
        "colab_type": "code",
        "colab": {}
      },
      "source": [
        "gbm2 = Gbm(\n",
        "    init_state = 100., \n",
        "    drift_ratio = .0475,\n",
        "    vol_ratio = .2)\n",
        "option2 = VanillaOption(\n",
        "    otype = 1,\n",
        "    strike = 110.,                \n",
        "    maturity = 1.\n",
        ")"
      ],
      "execution_count": 0,
      "outputs": []
    },
    {
      "cell_type": "code",
      "metadata": {
        "id": "BapqZwe-1zOA",
        "colab_type": "code",
        "outputId": "217824bf-65a4-4c57-8a91-15a5962a3fcb",
        "colab": {
          "base_uri": "https://localhost:8080/",
          "height": 54
        }
      },
      "source": [
        "## test the implied_vol by reversing bsm_formula example in the above\n",
        "option2.market_price = 10\n",
        "\n",
        "print('>>>>>>>>implied volatility is ' + \n",
        "     str(implied_volatility(gbm2, option2)))"
      ],
      "execution_count": 0,
      "outputs": [
        {
          "output_type": "stream",
          "text": [
            ">>>>>>>>implied volatility is 0.3020312500000007\n"
          ],
          "name": "stdout"
        }
      ]
    },
    {
      "cell_type": "code",
      "metadata": {
        "id": "fbZa_5nG15qZ",
        "colab_type": "code",
        "colab": {}
      },
      "source": [
        ""
      ],
      "execution_count": 0,
      "outputs": []
    }
  ]
}