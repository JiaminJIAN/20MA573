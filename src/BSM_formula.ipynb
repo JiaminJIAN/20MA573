{
  "nbformat": 4,
  "nbformat_minor": 0,
  "metadata": {
    "colab": {
      "name": "BSM formula",
      "provenance": [],
      "collapsed_sections": [],
      "include_colab_link": true
    },
    "kernelspec": {
      "display_name": "Python 3",
      "language": "python",
      "name": "python3"
    },
    "language_info": {
      "codemirror_mode": {
        "name": "ipython",
        "version": 3
      },
      "file_extension": ".py",
      "mimetype": "text/x-python",
      "name": "python",
      "nbconvert_exporter": "python",
      "pygments_lexer": "ipython3",
      "version": "3.7.4"
    }
  },
  "cells": [
    {
      "cell_type": "markdown",
      "metadata": {
        "id": "view-in-github",
        "colab_type": "text"
      },
      "source": [
        "<a href=\"https://colab.research.google.com/github/JiaminJIAN/20MA573/blob/master/src/BSM_formula.ipynb\" target=\"_parent\"><img src=\"https://colab.research.google.com/assets/colab-badge.svg\" alt=\"Open In Colab\"/></a>"
      ]
    },
    {
      "cell_type": "markdown",
      "metadata": {
        "colab_type": "text",
        "id": "89t4J6Dmd-Eo"
      },
      "source": [
        "# BSM formula\n",
        "\n",
        "## Abstract\n",
        "\n",
        "- create GBM class\n",
        "- define a method for BSM formula for a given option type"
      ]
    },
    {
      "cell_type": "markdown",
      "metadata": {
        "colab_type": "text",
        "id": "y5hyO8FseuLn"
      },
      "source": [
        "## Anal\n",
        "\n",
        "BS model assumes the distribution of stock as lognormal. In particular, it writes \n",
        "$$\\ln \\frac{S(T)}{S(0)} \\sim \\mathcal N((r  - \\frac 1 2 \\sigma^2) T, \\sigma^2 T)$$\n",
        "with respect to risk neutral measure. In the above, the parameters stand for\n",
        "\n",
        "* $S(0)$: The initial stock price\n",
        "* $S(T)$: The stock price at $T$\n",
        "* $r$: interest rate\n",
        "* $\\sigma$: volatility\n",
        "\n"
      ]
    },
    {
      "cell_type": "markdown",
      "metadata": {
        "colab_type": "text",
        "id": "4BEWnmSve9oM"
      },
      "source": [
        "\n",
        "The call and put price with maturity $T$ and $K$ will be known as $C_0$ and $P_0$ given as below:\n",
        "$$C_0 = \\mathbb E [e^{-rT} (S(T) - K)^+] = S_0  \\Phi(d_1) - K e^{-rT} \\Phi(d_2),$$\n",
        "and \n",
        "$$P_0 = \\mathbb E [e^{-rT} (S(T) - K)^-] = K e^{-rT} \\Phi(- d_2) - S_0  \\Phi(- d_1),$$\n",
        "where $d_i$ are given as\n",
        "$$d_1 = \\frac{(r + \\frac 1 2 \\sigma^2) T - \\ln \\frac{K}{S_0}}{\\sigma \\sqrt T},$$\n",
        "and\n",
        "$$d_2 = \\frac{(r - \\frac 1 2 \\sigma^2) T - \\ln \\frac{K}{S_0}}{\\sigma \\sqrt T} = d_1 - \\sigma \\sqrt T$$\n",
        "\n",
        "Put-call parity will be useful:\n",
        "    $$C_0 - P_0 =  S(0) - e^{-rT} K.$$"
      ]
    },
    {
      "cell_type": "markdown",
      "metadata": {
        "colab_type": "text",
        "id": "mewOxcQJfFnT"
      },
      "source": [
        "## Code"
      ]
    },
    {
      "cell_type": "markdown",
      "metadata": {
        "colab_type": "text",
        "id": "M40EwMCkfS21"
      },
      "source": [
        "We reload the european option class created before."
      ]
    },
    {
      "cell_type": "code",
      "metadata": {
        "colab_type": "code",
        "id": "czvpqtvId_3D",
        "colab": {}
      },
      "source": [
        "'''=========\n",
        "option class init\n",
        "=========='''\n",
        "class VanillaOption:\n",
        "    def __init__(\n",
        "        self,\n",
        "        otype = 1, # 1: 'call'\n",
        "                  # -1: 'put'\n",
        "        strike = 110.,\n",
        "        maturity = 1.,\n",
        "        market_price = 10.):\n",
        "      self.otype = otype\n",
        "      self.strike = strike\n",
        "      self.maturity = maturity\n",
        "      self.market_price = market_price #this will be used for calibration\n",
        "      \n",
        "        \n",
        "    def payoff(self, s): #s: excercise price\n",
        "      otype = self.otype\n",
        "      k = self.strike\n",
        "      maturity = self.maturity\n",
        "      return max([0, (s - k)*otype])"
      ],
      "execution_count": 0,
      "outputs": []
    },
    {
      "cell_type": "code",
      "metadata": {
        "colab_type": "code",
        "id": "RXd_brmsfEs9",
        "colab": {}
      },
      "source": [
        "import numpy as np\n",
        "import scipy.stats as ss"
      ],
      "execution_count": 0,
      "outputs": []
    },
    {
      "cell_type": "markdown",
      "metadata": {
        "colab_type": "text",
        "id": "rdPRhkW0fhkn"
      },
      "source": [
        "Next, we create the gbm class, which is \n",
        "determined by three parameters. We shall initialize it\n",
        "as it  is created."
      ]
    },
    {
      "cell_type": "code",
      "metadata": {
        "colab_type": "code",
        "id": "CQbFAFX-fYuw",
        "colab": {}
      },
      "source": [
        "'''============\n",
        "Gbm class inherited from sde_1d\n",
        "============='''\n",
        "\n",
        "class Gbm:\n",
        "    def __init__(self,\n",
        "                 init_state = 100.,\n",
        "                 drift_ratio = .0475,\n",
        "                 vol_ratio = .2\n",
        "                ):\n",
        "        self.init_state = init_state\n",
        "        self.drift_ratio = drift_ratio\n",
        "        self.vol_ratio = vol_ratio"
      ],
      "execution_count": 0,
      "outputs": []
    },
    {
      "cell_type": "markdown",
      "metadata": {
        "colab_type": "text",
        "id": "6qcWtlDCgAO9"
      },
      "source": [
        "BSM formula is given by a method of Gbm class with an input of an option."
      ]
    },
    {
      "cell_type": "code",
      "metadata": {
        "colab_type": "code",
        "id": "KTFuh0GIfpOW",
        "colab": {}
      },
      "source": [
        "'''========\n",
        "Black-Scholes-Merton formula. \n",
        "=========='''\n",
        "\n",
        "def bsm_price(self, vanilla_option):\n",
        "    s0 = self.init_state\n",
        "    sigma = self.vol_ratio\n",
        "    r = self.drift_ratio\n",
        "    \n",
        "    otype = vanilla_option.otype\n",
        "    k = vanilla_option.strike\n",
        "    maturity = vanilla_option.maturity\n",
        "    \n",
        "    d1 = (np.log(s0 / k) + (r + 0.5 * sigma ** 2) \n",
        "          * maturity) / (sigma * np.sqrt(maturity))\n",
        "    d2 = d1 - sigma * np.sqrt(maturity)\n",
        "    \n",
        "    return (otype * s0 * ss.norm.cdf(otype * d1) #line break needs parenthesis\n",
        "            - otype * np.exp(-r * maturity) * k * ss.norm.cdf(otype * d2))\n",
        "\n",
        "Gbm.bsm_price = bsm_price"
      ],
      "execution_count": 0,
      "outputs": []
    },
    {
      "cell_type": "code",
      "metadata": {
        "colab_type": "code",
        "id": "iDswnsxjf_h5",
        "outputId": "8f74e502-0b1c-48e0-c9c5-240ae02e58cd",
        "colab": {
          "base_uri": "https://localhost:8080/",
          "height": 51
        }
      },
      "source": [
        "'''===============\n",
        "Test bsm_price\n",
        "================='''\n",
        "gbm1 = Gbm()\n",
        "option1 = VanillaOption()\n",
        "print('>>>>>>>>>>call value is ' + str(gbm1.bsm_price(option1)))\n",
        "option2 = VanillaOption(otype=-1)\n",
        "print('>>>>>>>>>>put value is ' + str(gbm1.bsm_price(option2)))\n"
      ],
      "execution_count": 5,
      "outputs": [
        {
          "output_type": "stream",
          "text": [
            ">>>>>>>>>>call value is 5.943273183452838\n",
            ">>>>>>>>>>put value is 10.84042522804176\n"
          ],
          "name": "stdout"
        }
      ]
    },
    {
      "cell_type": "code",
      "metadata": {
        "id": "jQlEem5maAH6",
        "colab_type": "code",
        "outputId": "74cb0732-f106-41a9-8fb5-99ce941e8212",
        "colab": {
          "base_uri": "https://localhost:8080/",
          "height": 187
        }
      },
      "source": [
        "sigma_list = []\n",
        "option_price_list = []\n",
        "\n",
        "for i in range(10):\n",
        "  sigma = .1+i*.02\n",
        "  sigma_list.append(sigma)\n",
        "  gbm1.vol_ratio=sigma\n",
        "  option_price = gbm1.bsm_price(option1)\n",
        "  option_price_list.append(option_price)\n",
        "  print('>>vol:'+str(sigma)+', price: ' + str(option_price))"
      ],
      "execution_count": 6,
      "outputs": [
        {
          "output_type": "stream",
          "text": [
            ">>vol:0.1, price: 2.094566693700095\n",
            ">>vol:0.12000000000000001, price: 2.8364254855288706\n",
            ">>vol:0.14, price: 3.5982676763682946\n",
            ">>vol:0.16, price: 4.37262749780448\n",
            ">>vol:0.18, price: 5.155187895384778\n",
            ">>vol:0.2, price: 5.943273183452838\n",
            ">>vol:0.22, price: 6.735127818843772\n",
            ">>vol:0.24000000000000002, price: 7.529543360290944\n",
            ">>vol:0.26, price: 8.325652794201723\n",
            ">>vol:0.28, price: 9.1228109694867\n"
          ],
          "name": "stdout"
        }
      ]
    },
    {
      "cell_type": "code",
      "metadata": {
        "id": "Yyf1ORTpd85w",
        "colab_type": "code",
        "outputId": "6aa6c6de-42b8-44c6-b9e9-6af87bb8adfb",
        "colab": {
          "base_uri": "https://localhost:8080/",
          "height": 294
        }
      },
      "source": [
        "import matplotlib.pyplot as plt\n",
        "from pylab import plt\n",
        "plt.style.use('seaborn')\n",
        "%matplotlib inline\n",
        "\n",
        "plt.plot(sigma_list, option_price_list)\n",
        "\n",
        "#decorations\n",
        "plt.xlabel('sigma')\n",
        "plt.ylabel('option price')\n",
        "plt.title('The relationship between the sigma and option price');\n",
        "plt.show()"
      ],
      "execution_count": 7,
      "outputs": [
        {
          "output_type": "display_data",
          "data": {
            "image/png": "[encoded data removed]",
            "text/plain": [
              "<Figure size 432x288 with 1 Axes>"
            ]
          },
          "metadata": {
            "tags": []
          }
        }
      ]
    },
    {
      "cell_type": "markdown",
      "metadata": {
        "id": "GH0tLYv2e2VL",
        "colab_type": "text"
      },
      "source": [
        "As the increase of sigma, the call option's price will be higher. Then for the put option, we have:"
      ]
    },
    {
      "cell_type": "code",
      "metadata": {
        "id": "Djxf38cset9t",
        "colab_type": "code",
        "outputId": "c87408aa-2029-4bd1-be57-78ff75249f61",
        "colab": {
          "base_uri": "https://localhost:8080/",
          "height": 187
        }
      },
      "source": [
        "sigma_list = []\n",
        "option_price_list = []\n",
        "\n",
        "for i in range(10):\n",
        "  sigma = .1+i*.02\n",
        "  sigma_list.append(sigma)\n",
        "  gbm1.vol_ratio=sigma\n",
        "  option_price = gbm1.bsm_price(option2)\n",
        "  option_price_list.append(option_price)\n",
        "  print('>>vol:'+str(sigma)+', price: ' + str(option_price))"
      ],
      "execution_count": 8,
      "outputs": [
        {
          "output_type": "stream",
          "text": [
            ">>vol:0.1, price: 6.991718738289009\n",
            ">>vol:0.12000000000000001, price: 7.733577530117785\n",
            ">>vol:0.14, price: 8.495419720957194\n",
            ">>vol:0.16, price: 9.269779542393387\n",
            ">>vol:0.18, price: 10.052339939973677\n",
            ">>vol:0.2, price: 10.84042522804176\n",
            ">>vol:0.22, price: 11.632279863432672\n",
            ">>vol:0.24000000000000002, price: 12.426695404879844\n",
            ">>vol:0.26, price: 13.22280483879063\n",
            ">>vol:0.28, price: 14.019963014075621\n"
          ],
          "name": "stdout"
        }
      ]
    },
    {
      "cell_type": "code",
      "metadata": {
        "id": "cH3OyWAofCL1",
        "colab_type": "code",
        "outputId": "1d6f8395-5283-4cee-c111-5ba419f85725",
        "colab": {
          "base_uri": "https://localhost:8080/",
          "height": 294
        }
      },
      "source": [
        "import matplotlib.pyplot as plt\n",
        "from pylab import plt\n",
        "plt.style.use('seaborn')\n",
        "%matplotlib inline\n",
        "\n",
        "plt.plot(sigma_list, option_price_list)\n",
        "\n",
        "#decorations\n",
        "plt.xlabel('sigma')\n",
        "plt.ylabel('option price')\n",
        "plt.title('The relationship between the sigma and option price');\n",
        "plt.show()"
      ],
      "execution_count": 9,
      "outputs": [
        {
          "output_type": "display_data",
          "data": {
            "image/png": "[encoded data removed]",
            "text/plain": [
              "<Figure size 432x288 with 1 Axes>"
            ]
          },
          "metadata": {
            "tags": []
          }
        }
      ]
    },
    {
      "cell_type": "markdown",
      "metadata": {
        "id": "nJ5QmBJfflOG",
        "colab_type": "text"
      },
      "source": [
        "Similarly, as the increase of sigma, the price of this put option is also increasing."
      ]
    },
    {
      "cell_type": "markdown",
      "metadata": {
        "id": "e-ioJzPDfzeV",
        "colab_type": "text"
      },
      "source": [
        "Now we give the mathematic explanation.\n",
        "\n",
        "**Prove:** When vol is increasing, the option price is increasing?\n",
        "\n",
        "**Proof:**\n",
        "\n",
        "For the call option, we have\n",
        "\n",
        "$$C_{t} = S_{t} \\mathcal{N}(d_{1}) - K e^{-r(T-t)} \\mathcal{N}(d_{2}),$$\n",
        "\n",
        "where\n",
        "\n",
        "$$d_{1} = \\frac{ln(\\frac{S_{t}}{K}) + (r + \\frac{1}{2}\\sigma^{2})(T-t)}{\\sqrt{\\sigma^{2}(T-t)}}$$\n",
        "\n",
        "and \n",
        "\n",
        "$$d_{2} = d_{1} - \\sigma \\sqrt{T-t}.$$\n",
        "\n",
        "We need to calculate $\\frac{\\partial C_t}{\\partial \\sigma}$, by the chain rule, we have\n",
        "\n",
        "$$\\frac{\\partial C_t}{\\partial \\sigma} = S_{t}\\frac{\\partial \\mathcal{N}(d_{1})}{\\partial d_{1}} \\frac{\\partial d_{1}}{\\partial \\sigma} -K e^{-r(T-t)} \\frac{\\partial \\mathcal{N}(d_{2})}{\\partial d_{2}} \\frac{\\partial d_{2}}{\\partial \\sigma}.$$\n",
        "\n",
        "Since $\\frac{\\partial \\mathcal{N}(d_{1})}{\\partial d_{1}} = \\frac{1}{\\sqrt{2 \\pi}} e^{- \\frac{d_1^2}{2}}$, $\\frac{\\partial \\mathcal{N}(d_{2})}{\\partial d_{2}} = \\frac{1}{\\sqrt{2 \\pi}} e^{- \\frac{d_2^2}{2}}$, and $d_2 = d_{1} - \\sigma \\sqrt{T-t}$, we have\n",
        "\n",
        "$$\\frac{\\partial \\mathcal{N}(d_{2})}{\\partial d_{2}} = \\frac{\\partial \\mathcal{N}(d_{1})}{\\partial d_{1}} e^{d_1 \\sigma \\sqrt{T-t} - \\frac{1}{2}\\sigma^{2} (T-t)},$$\n",
        "\n",
        "by the definition of $d_1$, we have\n",
        "\n",
        "$$\\frac{\\partial \\mathcal{N}(d_{2})}{\\partial d_{2}} = \\frac{\\partial \\mathcal{N}(d_{1})}{\\partial d_{1}} \\frac{S_{t}}{K} e^{r(T-t)}.$$\n",
        "\n",
        "Such that\n",
        "\n",
        "$$\\frac{\\partial C_t}{\\partial \\sigma} = S_{t} \\frac{\\partial \\mathcal{N}(d_{1})}{\\partial d_{1}} \\frac{\\partial d_{1}}{\\partial \\sigma} -  K e^{-r(T-t)} \\frac{\\partial \\mathcal{N}(d_{1})}{\\partial d_{1}} \\frac{S_{t}}{K} e^{r(T-t)} (\\frac{\\partial d_{1}}{\\partial \\sigma} - \\sqrt{T-t}),$$\n",
        "\n",
        "so we have\n",
        "\n",
        "$$\\frac{\\partial C_t}{\\partial \\sigma} = S_{t} \\sqrt{T-t} \\frac{\\partial \\mathcal{N}(d_{1})}{\\partial d_{1}} \\geq 0.$$\n",
        "\n",
        "Then by the put-call parity, we have\n",
        "\n",
        "$$C_t + K e^{-r(T-t)} = P_t + S_{t},$$\n",
        "\n",
        "we take derivative to $\\sigma$ on the both side, \n",
        "\n",
        "$$\\frac{\\partial C_t}{\\partial \\sigma} = \\frac{\\partial P_t}{\\partial \\sigma} = S_{t} \\sqrt{T-t} \\frac{\\partial \\mathcal{N}(d_{1})}{\\partial d_{1}} \\geq 0.$$\n",
        "\n",
        "Such that when volitility is increasing, the option price is also increasing."
      ]
    },
    {
      "cell_type": "code",
      "metadata": {
        "id": "G8jOFXg_gInX",
        "colab_type": "code",
        "colab": {}
      },
      "source": [
        ""
      ],
      "execution_count": 0,
      "outputs": []
    }
  ]
}