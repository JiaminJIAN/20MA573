{
  "nbformat": 4,
  "nbformat_minor": 0,
  "metadata": {
    "colab": {
      "name": "option_combinations.ipynb",
      "provenance": [],
      "collapsed_sections": [],
      "include_colab_link": true
    },
    "kernelspec": {
      "display_name": "Python 3",
      "language": "python",
      "name": "python3"
    },
    "language_info": {
      "codemirror_mode": {
        "name": "ipython",
        "version": 3
      },
      "file_extension": ".py",
      "mimetype": "text/x-python",
      "name": "python",
      "nbconvert_exporter": "python",
      "pygments_lexer": "ipython3",
      "version": "3.7.4"
    }
  },
  "cells": [
    {
      "cell_type": "markdown",
      "metadata": {
        "id": "view-in-github",
        "colab_type": "text"
      },
      "source": [
        "<a href=\"https://colab.research.google.com/github/JiaminJIAN/20MA573/blob/master/src/option%20combinations.ipynb\" target=\"_parent\"><img src=\"https://colab.research.google.com/assets/colab-badge.svg\" alt=\"Open In Colab\"/></a>"
      ]
    },
    {
      "cell_type": "markdown",
      "metadata": {
        "colab_type": "text",
        "id": "C8HzenUTSqhK"
      },
      "source": [
        "##**Question**\n",
        "\n",
        "Recall that, \n",
        "\n",
        "\n",
        "__Written K-strike straddle__ is a portfolio of\n",
        "- selling K-strike call of one unit\n",
        "- selling K-strike put of one unit\n",
        "\n",
        "__Butterfly__ with three stikes $K_1 < K_2 < K_3$ is the portfolio of\n",
        "- 1 unit of written K-strike straddle\n",
        "- 1 unit of purchased K-strike call\n",
        "- 1 unit of purchased K-strike put\n",
        "\n",
        "Plot a diagram of exercise price versus payoff for the following portfolios:\n",
        "- written 40-strike straddle\n",
        "- a butterfly consists of\n",
        "  - written 40-strike straddle\n",
        "  - purchased 45-strike call\n",
        "  - purchased 35-strike put"
      ]
    },
    {
      "cell_type": "markdown",
      "metadata": {
        "id": "kAwn4-58gJ_7",
        "colab_type": "text"
      },
      "source": [
        "##**Analysis**\n",
        "\n",
        "Since the written K-strike straddle is a portfolio combined by selling a K-strike call and a K-strike put, then the payoff will be:\n",
        "\n",
        "$$f_{1}(S) = -max(S-K, 0) - max(K-S, 0),$$\n",
        "\n",
        "we can also rewrite the fomula as follow:\n",
        "\n",
        "$$\n",
        "f_{1}(S) = \n",
        "\\begin{cases}\n",
        "K - S,  & K < S \\\\\n",
        "S - K,  & K \\geq S,\n",
        "\\end{cases}\n",
        "$$\n",
        "\n",
        "where $S$ is the stock price at the maturity time.\n",
        "\n",
        "And for the butterfly consisted by a $K_{1}$-strike put, a $K_{2}$-strike straddle and a $K_{3}$-strike call when $K_{1} < K_{2} < K_{3}$, the payoff is \n",
        "\n",
        "$$f_{2}(S) = max(K_{1} - S, 0) -max(S-K_{2}, 0) - max(K_{2}-S, 0) + max(S - K_{3}, 0),$$\n",
        "\n",
        "which is equivalent to\n",
        "\n",
        "$$\n",
        "f_{2}(S) = \n",
        "\\begin{cases}\n",
        "K_{1} - K_{2},  & S < K_{1} \\\\\n",
        "S - K_{2},  & K_{1} < S < K_{2}  \\\\\n",
        "K_{2} - S, & K_{2} < S < K_{3} \\\\\n",
        "K_{2} - K_{3}, & S > K_{3}.\n",
        "\\end{cases}\n",
        "$$\n",
        "\n",
        "In there we do not consider the option premium. The formula of $f_{1}(S)$ and $f_{2}(S)$ gives the relationship between exercise price versus payoff of Written K-strike straddle and butterfly."
      ]
    },
    {
      "cell_type": "markdown",
      "metadata": {
        "id": "PONyfzhkmXsx",
        "colab_type": "text"
      },
      "source": [
        "##**Code**\n",
        "\n",
        "Now we use code to give the diagram of exercise price versus payoff for written 40-strike straddle."
      ]
    },
    {
      "cell_type": "code",
      "metadata": {
        "colab_type": "code",
        "id": "Fkeqt5l6TWgP",
        "colab": {}
      },
      "source": [
        "'''=========\n",
        "option class init\n",
        "=========='''\n",
        "class VanillaOption:\n",
        "    def __init__(\n",
        "        self,\n",
        "        otype = 1, # 1: 'call'\n",
        "                  # -1: 'put'\n",
        "        strike = 110.,\n",
        "        maturity = 1.,\n",
        "        market_price = 10.):\n",
        "      self.otype = otype\n",
        "      self.strike = strike\n",
        "      self.maturity = maturity\n",
        "      self.market_price = market_price #this will be used for calibration\n",
        "      \n",
        "        \n",
        "    def payoff(self, s): #s: excercise price\n",
        "      otype = self.otype\n",
        "      k = self.strike\n",
        "      maturity = self.maturity\n",
        "      return max([0, (s - k)*otype])"
      ],
      "execution_count": 0,
      "outputs": []
    },
    {
      "cell_type": "code",
      "metadata": {
        "id": "gZl_1lzZmy4B",
        "colab_type": "code",
        "outputId": "7830cc21-f446-4e7c-8f42-6c07c657c403",
        "colab": {
          "base_uri": "https://localhost:8080/",
          "height": 294
        }
      },
      "source": [
        "import numpy as np\n",
        "import matplotlib.pyplot as plt\n",
        "from pylab import plt\n",
        "plt.style.use('seaborn')\n",
        "%matplotlib inline\n",
        "\n",
        "#create option instance, maturity is just arbitrarily given\n",
        "opt1 = VanillaOption(otype = 1, strike = 40, maturity= 1.) \n",
        "opt2 = VanillaOption(otype = -1, strike = 40, maturity= 1.)\n",
        "stk_list = range(20, 61)\n",
        "payoff_list1 = [opt1.payoff(s) for s in stk_list]\n",
        "payoff_list2 = [opt2.payoff(s) for s in stk_list]\n",
        "payoff_list = np.array(payoff_list1) + np.array(payoff_list2)\n",
        "\n",
        "plt.plot(stk_list, - payoff_list)\n",
        "\n",
        "#decorations\n",
        "plt.xlabel('exercise price')\n",
        "plt.ylabel('payoff')\n",
        "plt.title('Written 40-strike straddle');\n",
        "plt.show()"
      ],
      "execution_count": 0,
      "outputs": [
        {
          "output_type": "display_data",
          "data": {
            "image/png": "[encoded data removed]",
            "text/plain": [
              "<Figure size 432x288 with 1 Axes>"
            ]
          },
          "metadata": {
            "tags": []
          }
        }
      ]
    },
    {
      "cell_type": "markdown",
      "metadata": {
        "id": "j-mq4UWspcdc",
        "colab_type": "text"
      },
      "source": [
        "We also can rewrite the code for the written K-strike straddle, we just need to change the payoff function in the Vanillaoption class."
      ]
    },
    {
      "cell_type": "code",
      "metadata": {
        "id": "Y8PY2PdEnxPI",
        "colab_type": "code",
        "colab": {}
      },
      "source": [
        "'''=========\n",
        "option class init\n",
        "=========='''\n",
        "class Straddle:\n",
        "    def __init__(\n",
        "        self,\n",
        "        strike = 40.,\n",
        "        maturity = 1.,\n",
        "        market_price = 10.):\n",
        "      self.strike = strike\n",
        "      self.maturity = maturity\n",
        "      self.market_price = market_price #this will be used for calibration\n",
        "      \n",
        "        \n",
        "    def payoff(self, s): #s: excercise price\n",
        "      k = self.strike\n",
        "      maturity = self.maturity\n",
        "      return - max([0, (s - k)]) - max([0, (k - s)]) "
      ],
      "execution_count": 0,
      "outputs": []
    },
    {
      "cell_type": "code",
      "metadata": {
        "id": "uZyAQlljqTVg",
        "colab_type": "code",
        "outputId": "80965410-3364-445a-ab00-22214eec3fd2",
        "colab": {
          "base_uri": "https://localhost:8080/",
          "height": 294
        }
      },
      "source": [
        "#create option instance, maturity is just arbitrarily given\n",
        "opt3 = Straddle(strike = 40, maturity= 1.) \n",
        "stk_list = range(20, 61)\n",
        "payoff_list = [opt3.payoff(s) for s in stk_list]\n",
        "plt.plot(stk_list, payoff_list)\n",
        "\n",
        "#decorations\n",
        "plt.xlabel('exercise price')\n",
        "plt.ylabel('payoff')\n",
        "plt.title('Written 40-strike straddle');\n",
        "plt.show()"
      ],
      "execution_count": 0,
      "outputs": [
        {
          "output_type": "display_data",
          "data": {
            "image/png": "[encoded data removed]",
            "text/plain": [
              "<Figure size 432x288 with 1 Axes>"
            ]
          },
          "metadata": {
            "tags": []
          }
        }
      ]
    },
    {
      "cell_type": "markdown",
      "metadata": {
        "id": "AhPdZnJDqPxM",
        "colab_type": "text"
      },
      "source": [
        "Then for the "
      ]
    }
  ]
}