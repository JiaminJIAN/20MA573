{
 "cells": [
  {
   "cell_type": "markdown",
   "metadata": {},
   "source": [
    "# Variance reduction: Method of Control variates"
   ]
  },
  {
   "cell_type": "markdown",
   "metadata": {},
   "source": [
    "### 1.Review on options pricing with exact simulations"
   ]
  },
  {
   "cell_type": "code",
   "execution_count": 27,
   "metadata": {},
   "outputs": [],
   "source": [
    "import numpy as np\n",
    "import scipy.stats as ss\n",
    "import matplotlib.pyplot as plt"
   ]
  },
  {
   "cell_type": "markdown",
   "metadata": {},
   "source": [
    "**A brief review on exact simulation**\n",
    "\n",
    "To better motivated, we will use MC examples on the calculation of EC, AAC, GAC prices.\n",
    "We first recall exact simulation on their calculations. "
   ]
  },
  {
   "cell_type": "code",
   "execution_count": 28,
   "metadata": {},
   "outputs": [],
   "source": [
    "#define a function of BM path generator\n",
    "#generate $\\hat W(t_i)$, where $t_i = i T/n$ for $i = 0, 1, ..., n$\n",
    "\n",
    "def BM_gen(T1, T2, n):  #para: start time, end time, and the mesh number \n",
    "    t = np.linspace(T1, T2, num = n+1) #init mesh\n",
    "    W = np.zeros(n+1) #init BM\n",
    "    #Run (3.2)\n",
    "    for i in range(n):\n",
    "        W[i+1] = W[i] + 1./np.sqrt(n) * np.random.normal()\n",
    "        \n",
    "    return t, W\n",
    "    "
   ]
  },
  {
   "cell_type": "markdown",
   "metadata": {},
   "source": [
    "We simulate payoffs for the following different types: \n",
    "\n",
    "Stock price, European call, Geometric asisan call, Arithmetic asian call \n",
    "\n",
    "we use $t = [t_1, t_2, \\ldots t_n]$ for tenuor, where $t_i = \\frac{(i-1) T}{n-1}$ is uniform mesh of $[0,T]$.\n",
    "\n",
    "The payoff of the AAC can be expressed by the formula \n",
    "\n",
    "$$max(0,\\frac{1}{n} \\sum_{i=1}^{n} S_i - K),$$\n",
    "\n",
    "and the payoff of the GAC can be expressed by the formula\n",
    "\n",
    "$$max(0, \\sqrt[n]{S_0 S_1 \\cdots S_n} - K),$$\n",
    "\n",
    "and we can convert the above formula to \n",
    "\n",
    "$$max(0, \\frac{1}{n} \\sum_{i=1}^{n} ln S_i - ln K).$$"
   ]
  },
  {
   "cell_type": "code",
   "execution_count": 29,
   "metadata": {},
   "outputs": [],
   "source": [
    "#Generate payoffs for the following different types: Stock price, European call, Arithmetic asian call, Geometric asisan call, \n",
    "\n",
    "def CallPayoffs(S0, r, sigma, K, T, n):\n",
    "    [t, W] = BM_gen(0, T, n-1) #BM path\n",
    "    S = S0 * np.exp((r - sigma^2/2.) * t + sigma * W) #stock path\n",
    "    Stk_Payoff = S[-1] #stock terminal payoff\n",
    "    EC_Payoff = np.max([0, S[-1] - K]) #EC payoff\n",
    "    AAC_Payoff = np.max([0, np.mean(S) - K]) #AAC payoff\n",
    "    GAC_Payoff = np.max([0, np.exp(np.mean(np.log(S))) - K])\n",
    "    return([Stk_Payoff, EC_Payoff, AAC_Payoff, GAC_Payoff])"
   ]
  },
  {
   "cell_type": "markdown",
   "metadata": {},
   "source": [
    "**Ex** An example is given below. Compare price of EC, AAC, GAC. The numerical example shows that $EC > AAC >GAC$. Is it always true?"
   ]
  },
  {
   "cell_type": "code",
   "execution_count": 30,
   "metadata": {},
   "outputs": [],
   "source": [
    "#An example is given here\n",
    "S0 = 100.0\n",
    "K = 110.0\n",
    "r=0.0475\n",
    "sigma = 0.20\n",
    "T = 1.\n",
    "delta = 0.\n",
    "n = 5\n",
    "t = np.linspace(0., T, n)\n"
   ]
  },
  {
   "cell_type": "code",
   "execution_count": 31,
   "metadata": {},
   "outputs": [
    {
     "name": "stdout",
     "output_type": "stream",
     "text": [
      "stk, EC, AAC, GAC are [ 99.54308059   5.67183192   1.6991868    1.52431078]\n"
     ]
    }
   ],
   "source": [
    "#calculate stk, EC, AAC, GAC prices\n",
    "simN = 1000\n",
    "payoffs =  np.zeros(4)\n",
    "for i in range(simN):\n",
    "    payoffs = payoffs + CallPayoffs(S0, r, sigma, K, T, n)\n",
    "print('stk, EC, AAC, GAC are ' + str(np.exp(-r*T)*payoffs/simN))"
   ]
  },
  {
   "cell_type": "code",
   "execution_count": 32,
   "metadata": {},
   "outputs": [
    {
     "name": "stdout",
     "output_type": "stream",
     "text": [
      "[95.676955248429181, 0.0, 0.0, 0.0]\n"
     ]
    },
    {
     "data": {
      "text/plain": [
       "array([ 0.,  0.,  0.,  0.])"
      ]
     },
     "execution_count": 32,
     "metadata": {},
     "output_type": "execute_result"
    }
   ],
   "source": [
    "a = CallPayoffs(S0, r, sigma, K, T, n)\n",
    "print(a)\n",
    "np.zeros(4)"
   ]
  },
  {
   "cell_type": "code",
   "execution_count": 33,
   "metadata": {},
   "outputs": [],
   "source": [
    "simN = 1000\n",
    "payoff_arrays = np.zeros([4,simN])\n",
    "for i in range(simN):\n",
    "    payoff_arrays[:,i] = CallPayoffs(S0, r, sigma, K, T, n)\n"
   ]
  },
  {
   "cell_type": "code",
   "execution_count": 34,
   "metadata": {},
   "outputs": [
    {
     "data": {
      "image/png": "[encoded data removed]"
     },
     "execution_count": 34,
     "metadata": {},
     "output_type": "execute_result"
    }
   ],
   "source": [
    "#plot AAC vs Stk\n",
    "plt.plot(payoff_arrays[2,:], payoff_arrays[0,:], '.');"
   ]
  },
  {
   "cell_type": "code",
   "execution_count": 35,
   "metadata": {},
   "outputs": [
    {
     "data": {
      "image/png": "[encoded data removed]"
     },
     "execution_count": 35,
     "metadata": {},
     "output_type": "execute_result"
    }
   ],
   "source": [
    "#plot AAC vs EC\n",
    "plt.plot(payoff_arrays[2,:], payoff_arrays[1,:], '.');"
   ]
  },
  {
   "cell_type": "code",
   "execution_count": 36,
   "metadata": {},
   "outputs": [
    {
     "data": {
      "image/png": "[encoded data removed]"
     },
     "execution_count": 36,
     "metadata": {},
     "output_type": "execute_result"
    }
   ],
   "source": [
    "#plot AAC vs GAC\n",
    "plt.plot(payoff_arrays[2,:], payoff_arrays[3,:], '.');"
   ]
  },
  {
   "cell_type": "markdown",
   "metadata": {},
   "source": [
    "**Conclusion**\n",
    "AAC and GAC payoffs are strongly corrlated, since the graph is slimest."
   ]
  },
  {
   "cell_type": "code",
   "execution_count": 0,
   "metadata": {},
   "outputs": [],
   "source": []
  },
  {
   "cell_type": "markdown",
   "metadata": {},
   "source": [
    "### 2.Method on control variates\n",
    "**Refer to [Gla03]**\n",
    "\n",
    "Let $X\\sim \\phi$ and $\\mathbb E[X] = \\mu$ and $SD(X) = \\sigma>0$, where $\\mu$ and $\\sigma$ are unknowns. \n",
    "\n",
    "Our goeal is to eistmiate $\\mu$.\n",
    "\n",
    "In crude MC, suppose computer can generate iid replicates $(X_i: i = 1, 2, ...)$, then we take the average of the first $N$ replicates as its estimate:\n",
    "$$\\mu_N  = \\frac 1 N \\sum_{i=1}^N X_i \\to \\mu, \\hbox{ as } N\\to \\infty.$$\n",
    "The above convergence is guranteed by LLN. In other words, if we set the error as\n",
    "$$e_N = \\mu_N - \\mu,$$\n",
    "we have $e_N \\to 0$ as $N\\to \\infty$, which is the most desired property of the estimator.\n",
    "\n",
    "Another desired property is $L^2$ convergence, i.e. \n",
    "$$Var(e_N) = \\mathbb E e_N^2 \\to 0, \\hbox{ as } N\\to \\infty.$$\n",
    "This property holds due to the following $L^2$ error estimation\n",
    "$$\\mathbb E e_N^2 =  \\sigma^2/N.$$\n",
    "Indeed, by CLT, we also have \n",
    "$$e_N \\Rightarrow \\mathcal{N}(0, \\sigma/\\sqrt{N}).$$\n",
    "\n",
    "**Desired properties of the estimator**\n",
    "\n",
    "- (unbiasedness) $\\lim_N e_N = 0$ \n",
    "- (efficiency) $Var(e_N)$ as small as possible."
   ]
  },
  {
   "cell_type": "markdown",
   "metadata": {},
   "source": [
    "The **method of control variates** is to estimate $\\mu = \\mathbb E[X]$ with smaller variance of error term, if the computer can generates iid pairs of random variables $(X_i, Y_i)$, where $X_i$ is replicate of $X$ and $Y_i$ is some additional observation.\n",
    "In this case, an estimator given by\n",
    "$$\\mu_N(b) = \\frac 1 N \\sum_{i=1}^N (X_i - b(Y_i - \\mathbb E[Y]))$$\n",
    "shall gives unbiased estimator of $\\mu$ for any number $b$. The key fact is that\n",
    "$$b^* = \\frac{Cov(X,Y)}{Var(Y)} = \\frac{\\mathbb E[(X- \\mathbb E[X])(Y - \\mathbb E[Y])]}{\\mathbb E[(Y - \\mathbb E[Y])^2]}.$$\n",
    "minimize the variance of $\\mu_N(b)$, and thus the variance of $e_N(b) = \\mu_N(b) - \\mu$. In practice, $b^*$ is replaced by its estimate\n",
    "$$b_N = \\frac{\\sum_{i=1}^N (X_i - \\mu_N(X))(Y_i - \\mu_N(Y))}{\\sum_{i=1}^N (Y_i - \\mu_N(Y))^2} $$\n",
    "\n",
    "The choice of control variates depend on \n",
    "- Availability of $\\mathbb E[Y]$;\n",
    "- Correlation between $X$ and $Y$ (the stronger the better);"
   ]
  },
  {
   "cell_type": "markdown",
   "metadata": {},
   "source": [
    "**ex** __Compute AAC with GAC as its control variate with the following parameters.__\n"
   ]
  },
  {
   "cell_type": "code",
   "execution_count": 37,
   "metadata": {},
   "outputs": [],
   "source": [
    "#An example is given here\n",
    "S0 = 100.0\n",
    "K = 110.0\n",
    "r=0.0475\n",
    "sigma = 0.20\n",
    "T = 1.\n",
    "delta = 0.\n",
    "n = 5\n",
    "t = np.linspace(0., T, n)\n"
   ]
  },
  {
   "cell_type": "markdown",
   "metadata": {},
   "source": [
    "[Code] Let $X$ and $Y$ be the discounted payoff of AAC and GAC.\n",
    "1. Compute $\\mathbb E [Y]$ explicitly;\n",
    "2. Generate $(X_i, Y_i: i = 1, 2, ..., N)$\n",
    "3. Compute sequentially\n",
    "$$\\mu_N(X), \\mu_N(Y), b_N, \\mu_N(b_N).$$"
   ]
  },
  {
   "cell_type": "markdown",
   "metadata": {},
   "source": [
    "##### (1)Find GAC price from explicit formula. See previous notes on \"BSPrice\""
   ]
  },
  {
   "cell_type": "code",
   "execution_count": 38,
   "metadata": {},
   "outputs": [
    {
     "name": "stdout",
     "output_type": "stream",
     "text": [
      "Geometric asian call is:1.60716472743\n"
     ]
    }
   ],
   "source": [
    "#Black and Scholes\n",
    "def d1(S0, K, r, sigma, T, delta):\n",
    "    return (np.log(S0/K) + (r - delta + sigma**2 / 2) * T)/(sigma * np.sqrt(T))\n",
    "\n",
    "def d2(S0, K, r, sigma, T, delta):\n",
    "    return (np.log(S0 / K) + (r -delta - sigma**2 / 2) * T) / (sigma * np.sqrt(T))\n",
    "\n",
    "#BS formula for Call (type = \"C\") and Put (type = \"P\")\n",
    "def BlackScholes(type,S0, K, r, sigma, T, delta):\n",
    "    if type==\"C\":\n",
    "        return S0 * np.exp(-delta*T) * ss.norm.cdf(d1(S0, K, r, sigma, T, delta)) - K * np.exp(-r * T) * ss.norm.cdf(d2(S0, K, r, sigma, T, delta))\n",
    "    else:\n",
    "       return K * np.exp(-r * T) * ss.norm.cdf(-d2(S0, K, r, sigma, T, delta)) - S0  * np.exp(-delta*T) * ss.norm.cdf(-d1(S0, K, r, sigma, T, delta))\n",
    "\n",
    "#tt represents tenors with adding t_0 = 0.\n",
    "tt = np.append([0], t)\n",
    "\n",
    "tmp = 0.\n",
    "for j in range(n):\n",
    "    tmp = tmp + np.power(n-j, 2) * (tt[j+1] - tt[j])\n",
    "sigma_hat = np.power(tmp/T, .5)*sigma/n\n",
    "\n",
    "\n",
    "mu = r - delta - sigma^2/2.\n",
    "delta_hat = r - sigma_hat**2/2. - np.sum(tt)*mu/n/T\n",
    "\n",
    "#Implementation\n",
    "GAC = BlackScholes('C',S0, K, r, sigma_hat, T, delta_hat)\n",
    "print('Geometric asian call is:' + str(GAC))"
   ]
  },
  {
   "cell_type": "markdown",
   "metadata": {},
   "source": [
    "##### (2) Generate datum $(X_i, Y_i: i = 1, ...,N)$"
   ]
  },
  {
   "cell_type": "code",
   "execution_count": 39,
   "metadata": {},
   "outputs": [],
   "source": [
    "simN = 100\n",
    "\n",
    "payoff_arrays = np.zeros([2,simN]) #store payffs in the order of AAC, GAC\n",
    "for i in range(simN):\n",
    "    payoff_arrays[:,i] = CallPayoffs(S0, r, sigma, K, T, n)[2:4]\n",
    "X = np.exp(-r*T)*payoff_arrays[0,:]\n",
    "Y = np.exp(-r*T)* payoff_arrays[1,:]\n"
   ]
  },
  {
   "cell_type": "markdown",
   "metadata": {},
   "source": [
    "##### (3)Compute from datum"
   ]
  },
  {
   "cell_type": "code",
   "execution_count": 40,
   "metadata": {},
   "outputs": [],
   "source": [
    "#compute mu_N_X and mu_N_Y\n",
    "mu_N_X = np.mean(X)\n",
    "mu_N_Y = np.mean(Y)\n",
    "#compute b_N\n",
    "xy_cov = np.cov([X, Y])\n",
    "b_N = xy_cov[0,1]/xy_cov[1,1]\n",
    "AAC = np.mean(X - b_N * Y) + b_N * GAC\n"
   ]
  },
  {
   "cell_type": "code",
   "execution_count": 41,
   "metadata": {},
   "outputs": [
    {
     "name": "stdout",
     "output_type": "stream",
     "text": [
      "AAC is 1.77351086861\n"
     ]
    }
   ],
   "source": [
    "print('AAC is ' + str(AAC))"
   ]
  },
  {
   "cell_type": "markdown",
   "metadata": {},
   "source": [
    "Now let's see how it improves MC. Since we do not have precise price for AAC, we will use large number of simulation on crude MC for its replacement."
   ]
  },
  {
   "cell_type": "code",
   "execution_count": 42,
   "metadata": {},
   "outputs": [
    {
     "name": "stdout",
     "output_type": "stream",
     "text": [
      "AAC by crude MC is 2.24594396136\n"
     ]
    }
   ],
   "source": [
    "\n",
    "simN = 100 #numer of simulations for each estimate     \n",
    "payoff_arrays = np.zeros(simN) #store payffs in the order of AAC, GAC\n",
    "\n",
    "for i in range(simN):\n",
    "    payoff_arrays[i] = CallPayoffs(S0, r, sigma, K, T, n)[2]\n",
    "X = np.exp(-r*T)*payoff_arrays\n",
    "\n",
    "AAC_crude_MC = np.mean(X)\n",
    "print('AAC by crude MC is ' + str(AAC_crude_MC))"
   ]
  },
  {
   "cell_type": "code",
   "execution_count": 43,
   "metadata": {},
   "outputs": [
    {
     "name": "stdout",
     "output_type": "stream",
     "text": [
      "AAC for semi precise value is 1.7779920737\n"
     ]
    }
   ],
   "source": [
    "\n",
    "simN = 100000 #numer of simulations for each estimate     \n",
    "payoff_arrays = np.zeros(simN) #store payffs in the order of AAC, GAC\n",
    "\n",
    "for i in range(simN):\n",
    "    payoff_arrays[i] = CallPayoffs(S0, r, sigma, K, T, n)[2]\n",
    "X = np.exp(-r*T)*payoff_arrays\n",
    "\n",
    "AAC_semi_precise = np.mean(X)\n",
    "print('AAC for semi precise value is ' + str(AAC_semi_precise))"
   ]
  },
  {
   "cell_type": "markdown",
   "metadata": {},
   "source": [
    "We can see that as the number of simulation increase, the AAC simulated by the ordinary Monte Carlo can goes closely to the value we get by adjust with GAC. So it is more precise than the ordinary MC."
   ]
  },
  {
   "cell_type": "code",
   "execution_count": 0,
   "metadata": {},
   "outputs": [],
   "source": []
  }
 ],
 "metadata": {
  "kernelspec": {
   "display_name": "SageMath (stable)",
   "language": "sagemath",
   "name": "sagemath"
  },
  "language_info": {
   "codemirror_mode": {
    "name": "ipython",
    "version": 2
   },
   "file_extension": ".py",
   "mimetype": "text/x-python",
   "name": "python",
   "nbconvert_exporter": "python",
   "pygments_lexer": "ipython2",
   "version": "2.7.15"
  }
 },
 "nbformat": 4,
 "nbformat_minor": 1
}
