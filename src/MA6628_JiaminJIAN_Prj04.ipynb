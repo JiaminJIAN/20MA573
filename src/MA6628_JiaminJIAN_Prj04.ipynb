{
 "cells": [
  {
   "cell_type": "markdown",
   "metadata": {},
   "source": [
    "**Prj04**\n",
    "\n",
    "Consider the following data sets:\n",
    "\n",
    "- Today: Sep 27, 2018\n",
    "\n",
    "- Spot price: 290.68\n",
    "\n",
    "- Maturity: Dec 31, 2018\n",
    "\n",
    "- Strike: 288\n",
    "\n",
    "- rate: 0.02 (from https://www.treasury.gov/resource-center/data-chart-center/interest-rates/Pages/TextView.aspx?data=yield)\n",
    "\n",
    "- Market call price: 9.23\n",
    "\n",
    "**Todo**\n",
    "\n",
    "1. If the volatility is $30\\%$, what is the difference between BSM call price and market call price?\n",
    "2. Compute the implied volatility."
   ]
  },
  {
   "cell_type": "markdown",
   "metadata": {},
   "source": [
    "The soulution of this programming problem as below"
   ]
  },
  {
   "cell_type": "markdown",
   "metadata": {},
   "source": [
    "1.  If the volatility is  30%, what is the difference between BSM call price and market call price?"
   ]
  },
  {
   "cell_type": "code",
   "execution_count": 1,
   "metadata": {},
   "outputs": [],
   "source": [
    "%reset -f\n",
    "import numpy as np\n",
    "import scipy.stats as ss\n",
    "import time \n",
    "import math\n",
    "\n",
    "# Create a function to calculate the d1 and d2 in the BSM pricing model\n",
    "\n",
    "def d1f(St, K, t, T, r, sigma):\n",
    "    d1 = (math.log(St / K) + (r + 0.5 * sigma ** 2)* (T - t)) / (sigma * math.sqrt(T - t))\n",
    "    return d1\n",
    "\n",
    "# Create a function to calculate the price of call option under BSM pricing model\n",
    "\n",
    "def BSM_call_value(St, K, t, T, r, sigma):\n",
    "    ''' Calculates Black-Scholes-Merton European call option value.\n",
    "\n",
    "    Parameters\n",
    "    ==========\n",
    "    St : float\n",
    "        stock/index level at time t\n",
    "    K : float\n",
    "        strike price\n",
    "    t : float\n",
    "        valuation date\n",
    "    T : float\n",
    "        date of maturity/time-to-maturity if t = 0; T > t\n",
    "    r : float\n",
    "        constant, risk-less short rate\n",
    "    sigma : float\n",
    "        volatility\n",
    "\n",
    "    Returns\n",
    "    =======\n",
    "    call_value : float\n",
    "        European call present value at t\n",
    "    '''\n",
    "    d1 = d1f(St, K, t, T, r, sigma)\n",
    "    d2 = d1 - sigma * math.sqrt(T - t)\n",
    "    call_value = St * ss.norm.cdf(d1) - math.exp(-r * (T - t)) * K * ss.norm.cdf(d2)\n",
    "    return call_value"
   ]
  },
  {
   "cell_type": "code",
   "execution_count": 2,
   "metadata": {},
   "outputs": [],
   "source": [
    "# Design the parameters we needed in the formula\n",
    "\n",
    "S0 = 290.68       #initial stock price\n",
    "K = 288         #strike\n",
    "r = 0.02        #interest rate\n",
    "sigma = 0.30   #vol\n",
    "Today = np.datetime64('2018-09-27')\n",
    "Maturity = np.datetime64('2018-12-31')\n",
    "T = (Maturity - Today)/np.timedelta64(1,'D')/365   #time to maturity in year\n",
    "\n",
    "Market_price = 9.23"
   ]
  },
  {
   "cell_type": "code",
   "execution_count": 3,
   "metadata": {},
   "outputs": [
    {
     "name": "stdout",
     "output_type": "stream",
     "text": [
      " The price of this call option under the BSM pricing model is 19.769937820552116 \n",
      "\n",
      " The difference between BSM call price and market call price is 10.539937820552115\n"
     ]
    }
   ],
   "source": [
    "# Calculate the price of this call option under the formula we derived\n",
    "\n",
    "BSM_price = BSM_call_value(S0, K, 0, T, r, sigma)\n",
    "diff = BSM_price - Market_price\n",
    "print(f\" The price of this call option under the BSM pricing model is {BSM_price} \\n\")\n",
    "print(f\" The difference between BSM call price and market call price is {diff}\")"
   ]
  },
  {
   "cell_type": "markdown",
   "metadata": {},
   "source": [
    "2.  Compute the implied volatility."
   ]
  },
  {
   "cell_type": "code",
   "execution_count": 7,
   "metadata": {},
   "outputs": [
    {
     "name": "stdout",
     "output_type": "stream",
     "text": [
      "Optimization terminated successfully.\n",
      "         Current function value: 0.000000\n",
      "         Iterations: 15\n",
      "         Function evaluations: 30\n",
      "Implied volatility is 0.118242\n"
     ]
    }
   ],
   "source": [
    "import numpy as np\n",
    "from scipy import optimize\n",
    "\n",
    "def IVolBsm(S0, K, T, r, P0):\n",
    "    \"\"\"\n",
    "    Inputs:\n",
    "        S0: spot price\n",
    "        K: strike\n",
    "        T: time to maturity in year\n",
    "        r: rate\n",
    "        P0: market price\n",
    "    Outputs:\n",
    "        Implied volatility\n",
    "    \"\"\"\n",
    "    InitVol = .3\n",
    "    error = lambda sigma: (BSM_call_value(S0, K, 0, T, r, sigma) - P0)**2\n",
    "    opt = optimize.fmin(error, InitVol);\n",
    "    return opt[0]\n",
    "\n",
    "print('Implied volatility is %f' % IVolBsm(S0, K, T, r, Market_price))"
   ]
  },
  {
   "cell_type": "code",
   "execution_count": null,
   "metadata": {},
   "outputs": [],
   "source": []
  }
 ],
 "metadata": {
  "kernelspec": {
   "display_name": "Python 3",
   "language": "python",
   "name": "python3"
  },
  "language_info": {
   "codemirror_mode": {
    "name": "ipython",
    "version": 3
   },
   "file_extension": ".py",
   "mimetype": "text/x-python",
   "name": "python",
   "nbconvert_exporter": "python",
   "pygments_lexer": "ipython3",
   "version": "3.7.0"
  }
 },
 "nbformat": 4,
 "nbformat_minor": 2
}
