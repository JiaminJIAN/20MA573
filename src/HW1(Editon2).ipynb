{
 "cells": [
  {
   "cell_type": "markdown",
   "metadata": {},
   "source": [
    "# Escaping from a Gridworld \n",
    "\n",
    "We will take n dimensional gridworld of any shape as our experimental environment. Read and understand the code in the following shell. Then proceed to next questions."
   ]
  },
  {
   "cell_type": "code",
   "execution_count": 1,
   "metadata": {},
   "outputs": [],
   "source": [
    "import random\n",
    "\n",
    "class grid:\n",
    "    def __init__(self, shape = (5, 5)):\n",
    "        self.n_dim = len(shape)\n",
    "        self.shape = shape\n",
    "        print('>>> grid world shape is: '+str(shape))\n",
    "\n",
    "    def is_interior(self,ix):\n",
    "        return all([0.<a<b-1 for a,b in zip(ix,list(self.shape))])\n",
    "     \n",
    "    #input: lists of index\n",
    "    #return: running cost, list of next index, list of probability\n",
    "    def step(self, ix):\n",
    "        run_cost = 0.                \n",
    "        ix_next = []; pr_next= []\n",
    "        if self.is_interior(ix):\n",
    "            run_cost = 1.\n",
    "            for i in range(self.n_dim):\n",
    "                ix1 = ix.copy(); ix1[i]+=1; ix_next += [ix1,]\n",
    "                pr1 = 1./(self.n_dim*2.0) \n",
    "                pr_next += [pr1,]\n",
    "            for i in range(self.n_dim):\n",
    "                ix1 = ix.copy(); ix1[i]-=1; ix_next += [ix1,]\n",
    "                pr1 = 1./(self.n_dim*2.0) \n",
    "                pr_next += [pr1,]\n",
    "     \n",
    "        return run_cost, ix_next, pr_next\n",
    "    \n",
    "    def step_random(self, ix):\n",
    "        run_cost, ix_next, pr_next = self.step(ix)\n",
    "        ix_next_rd = random.choices(ix_next, pr_next, k = 1)\n",
    "        return run_cost, ix_next_rd[0]\n"
   ]
  },
  {
   "cell_type": "markdown",
   "metadata": {},
   "source": [
    "- Explain the meaning of each output from the next shell\n",
    "- (Your answer)\n",
    "\n",
    "****\n",
    "\n",
    "**Answer:**\n",
    "\n",
    "**1**.The first output gives the shape of the gridworld, which is a two dimension space with upper bound 4 and lower bound 0 with both dimension.\n",
    "\n",
    "**2**.The second output tells that the point [2, 3] is a interior of the above gridworld.\n",
    "\n",
    "**3**.The third output gives the result of run_cost, ix_next and pr_next, where:\n",
    "\n",
    "  * run_cost is the step we used, which is equal to 1;\n",
    "  \n",
    "  * ix_next is a list which gives us the grid point where we can arrive by one step;\n",
    "  \n",
    "  * pr_next is also a list which gives us the probability of grid point [2, 3] gets to each grid point in the in_next.\n",
    "  \n",
    "**4**.The fourth output tells that the point [1, 4] is not a interior of the above gridworld space. The element of second dimension is 4, so the point [1, 4] is just on the boundary of the gridworld space.\n",
    "\n",
    "**5**. The fifth output gives the result of run_cost, ix_next and pr_next from the grid point [1, 4]. Since the point [1, 4] is just on the boundary of the gridworld space, the run_cost is equal to 0 and ix_next and pr_next are empty list."
   ]
  },
  {
   "cell_type": "code",
   "execution_count": 2,
   "metadata": {},
   "outputs": [
    {
     "name": "stdout",
     "output_type": "stream",
     "text": [
      ">>> grid world shape is: (5, 5)\n",
      ">>> True\n",
      ">>> 1.0 \n",
      " [[3, 3], [2, 4], [1, 3], [2, 2]] \n",
      " [0.25, 0.25, 0.25, 0.25]\n",
      ">>>>>>>>><<<<<<<<<<\n",
      ">>> False\n",
      ">>> 0.0 \n",
      " [] \n",
      " []\n"
     ]
    }
   ],
   "source": [
    "\n",
    "#####check\n",
    "g1 = grid(shape=(5,5))\n",
    "ix1 = [2,3]\n",
    "print('>>>', g1.is_interior(ix1))\n",
    "o1, o2, o3 = g1.step(ix1)\n",
    "print('>>>', o1, '\\n', o2, '\\n', o3)\n",
    "\n",
    "print('>>>>>>>>><<<<<<<<<<')\n",
    "ix2 = [1,4]\n",
    "print('>>>', g1.is_interior(ix2))\n",
    "o1, o2, o3 = g1.step(ix2)\n",
    "print('>>>', o1, '\\n', o2, '\\n', o3)\n"
   ]
  },
  {
   "cell_type": "markdown",
   "metadata": {},
   "source": [
    "- Explain the meaning of each output from the next shell\n",
    "- (Your answer)\n",
    "\n",
    "**Answer:**\n",
    "\n",
    "**1**. [1, 2], [1, 3], [1, 4] gives us the route start from grid point [2, 2] to reach the boundary of the Gridworld.\n",
    "\n",
    "**2**. tot_cost tells us that the length of the above route is 3, which is the step used to escape the Gridworld."
   ]
  },
  {
   "cell_type": "code",
   "execution_count": 3,
   "metadata": {},
   "outputs": [
    {
     "name": "stdout",
     "output_type": "stream",
     "text": [
      ">>> [1, 2]\n",
      ">>> [1, 3]\n",
      ">>> [1, 4]\n",
      ">>> 3.0\n"
     ]
    }
   ],
   "source": [
    "#import ipdb\n",
    "\n",
    "ix = [2,2]\n",
    "tot_cost = 0.\n",
    "while g1.is_interior(ix):\n",
    "    #ipdb.set_trace()\n",
    "    run_cost, ix = g1.step_random(ix)\n",
    "    print('>>>', ix)\n",
    "    tot_cost+=run_cost\n",
    "    \n",
    "print('>>>', tot_cost)"
   ]
  },
  {
   "cell_type": "markdown",
   "metadata": {},
   "source": [
    "- Consider a grid world of shape (4,4). This means, the agent's state belongs to the state space of $\\{0,1,2,3,4\\}\\times \\{0,1,2,3,4\\}$. A state $(a,b)$ is called a boundary if one of its coordinate is either $0$ or $4$. Otherwise, the state is called interior. An agent moves a random walk in the grid world from initial state $(2,2)$. Use your math to find the expected number of steps to reach the boundary."
   ]
  },
  {
   "cell_type": "markdown",
   "metadata": {},
   "source": [
    "- (your answer)\n",
    "\n",
    "**Answer:**\n",
    "\n",
    "The expected number of steps to reach the boundary is 4.5. The proof is as following:\n",
    "\n",
    "We denote $V_{ij}$ as the number of steps to reach the boundary of the gridword starting from point $(i, j)$, so we have:\n",
    "\n",
    "$$ \\left\\{\n",
    "\\begin{aligned}\n",
    "V_{11} & = & \\frac{1}{4} (V_{12} + V_{21}) \\\\\n",
    "V_{21} & = & \\frac{1}{4} (V_{22} + V_{11} + V_{31}) \\\\\n",
    "V_{31} & = & \\frac{1}{4} (V_{32} + V_{21}) \\\\\n",
    "V_{12} & = & \\frac{1}{4} (V_{13} + V_{11} + V_{22}) \\\\\n",
    "V_{22} & = & \\frac{1}{4} (V_{23} + V_{21} + V_{12} + V_{32}) \\\\\n",
    "V_{32} & = & \\frac{1}{4} (V_{33} + V_{31} + V_{22}) \\\\\n",
    "V_{13} & = & \\frac{1}{4} (V_{12} + V_{23}) \\\\\n",
    "V_{23} & = & \\frac{1}{4} (V_{22} + V_{13} + V_{33}) \\\\\n",
    "V_{33} & = & \\frac{1}{4} (V_{32} + V_{23})\n",
    "\\end{aligned}\n",
    "\\right.\n",
    "$$\n",
    "\n",
    "We can denote the matrix as follow:\n",
    "\n",
    "$$ A = \n",
    " \\begin{bmatrix}\n",
    "   -4 & 1 & 0 & 1 & 0 & 0 & 0 & 0 & 0  \\\\\n",
    "   1 & -4 & 1 & 0 & 1 & 0 & 0 & 0 & 0  \\\\\n",
    "   0 & 1 & -4 & 0 & 0 & 1 & 0 & 0 & 0  \\\\\n",
    "   1 & 0 & 0 & -4 & 1 & 0 & 1 & 0 & 0  \\\\\n",
    "   0 & 1 & 0 & 1 & -4 & 1 & 0 & 1 & 0  \\\\\n",
    "   0 & 0 & 1 & 0 & 1 & -4 & 0 & 0 & 1  \\\\\n",
    "   0 & 0 & 0 & 1 & 0 & 0 & -4 & 1 & 0  \\\\\n",
    "   0 & 0 & 0 & 0 & 1 & 0 & 1 & -4 & 1  \\\\\n",
    "   0 & 0 & 0 & 0 & 0 & 1 & 0 & 1 & -4\n",
    "  \\end{bmatrix} \n",
    "$$\n",
    "\n",
    "Then we can solve this system of linear functions by the following code."
   ]
  },
  {
   "cell_type": "code",
   "execution_count": 3,
   "metadata": {},
   "outputs": [
    {
     "name": "stdout",
     "output_type": "stream",
     "text": [
      "[2.75 3.5  2.75 3.5  4.5  3.5  2.75 3.5  2.75]\n"
     ]
    }
   ],
   "source": [
    "import numpy as np\n",
    "from scipy.linalg import solve\n",
    "a = np.array([[-4, 1, 0, 1, 0, 0 ,0, 0, 0], [1, -4, 1, 0, 1, 0 ,0, 0, 0],\\\n",
    "              [0, 1, -4, 0, 0, 1 ,0, 0, 0], [1, 0, 0, -4, 1, 0 ,1, 0, 0],\\\n",
    "              [0, 1, 0, 1, -4, 1 ,0, 1, 0], [0, 0, 1, 0, 1, -4 ,0, 0, 1],\\\n",
    "              [0, 0, 0, 1, 0, 0 ,-4, 1, 0], [0, 0, 0, 0, 1, 0 ,1, -4, 1],\\\n",
    "              [0, 0, 0, 0, 0, 1 ,0, 1, -4]])\n",
    "b = np.array([-4, -4, -4, -4, -4, -4, -4, -4, -4])\n",
    "x = solve(a, b)\n",
    "print(x)"
   ]
  },
  {
   "cell_type": "markdown",
   "metadata": {},
   "source": [
    "So, from the result of the above shell, we know if we start from point (2, 2), the mean cost to reach the boundary of the grid world is 4.5, and if we start from point (1, 1), (3, 1), (1, 3) and (3, 3), the mean cost to reach the boundary of the gridworld is 2.75, and is we start from point (1, 2), (2, 1), (3, 1) and (1, 3), the mean cost to reach the boundary of the gridworld is 3.5."
   ]
  },
  {
   "cell_type": "markdown",
   "metadata": {},
   "source": [
    "- Use your code to verify your answer."
   ]
  },
  {
   "cell_type": "code",
   "execution_count": 4,
   "metadata": {},
   "outputs": [
    {
     "name": "stdout",
     "output_type": "stream",
     "text": [
      "The mean cost to get the boundary is: 4.521\n"
     ]
    }
   ],
   "source": [
    "#your code \n",
    "\n",
    "n = 10000\n",
    "cost_record = []\n",
    "for i in range(n):\n",
    "    ix = [2,2]\n",
    "    tot_cost = 0.\n",
    "    while g1.is_interior(ix):\n",
    "        #ipdb.set_trace()\n",
    "        run_cost, ix = g1.step_random(ix)\n",
    "        tot_cost+=run_cost\n",
    "    cost_record.append(tot_cost)\n",
    "\n",
    "mean_cost = np.mean(cost_record)\n",
    "print(\"The mean cost to get the boundary is:\", mean_cost)"
   ]
  },
  {
   "cell_type": "markdown",
   "metadata": {},
   "source": [
    "From the above shell, we know the mean step to reach the boundary is approximately 4.5.  Let's do the same simulation more time as follow."
   ]
  },
  {
   "cell_type": "code",
   "execution_count": 5,
   "metadata": {},
   "outputs": [
    {
     "name": "stdout",
     "output_type": "stream",
     "text": [
      "the mean cost is 4.4718379100249495\n",
      "One path of the mean of cost:\n"
     ]
    },
    {
     "data": {
      "text/plain": [
       "<matplotlib.legend.Legend at 0x10cb90cf8>"
      ]
     },
     "execution_count": 5,
     "metadata": {},
     "output_type": "execute_result"
    },
    {
     "data": {
      "image/png": "[encoded data removed]",
      "text/plain": [
       "<Figure size 432x288 with 1 Axes>"
      ]
     },
     "metadata": {
      "needs_background": "light"
     },
     "output_type": "display_data"
    }
   ],
   "source": [
    "import matplotlib.pyplot as plt\n",
    "from pylab import plt\n",
    "plt.style.use('seaborn')\n",
    "%matplotlib inline\n",
    "\n",
    "n = 100\n",
    "NumSimu = 1000\n",
    "cost_record = []\n",
    "meancost_record = []\n",
    "for i in range(NumSimu):\n",
    "    for j in range(n):\n",
    "        ix = [2,2]\n",
    "        tot_cost = 0.\n",
    "        while g1.is_interior(ix):\n",
    "            #ipdb.set_trace()\n",
    "            run_cost, ix = g1.step_random(ix)\n",
    "            tot_cost+=run_cost\n",
    "        cost_record.append(tot_cost)\n",
    "    mean_cost = np.mean(cost_record)\n",
    "    meancost_record.append(mean_cost)\n",
    "    \n",
    "meansim = np.mean(meancost_record)\n",
    "print(\"the mean cost is\", meansim)\n",
    "\n",
    "print(\"One path of the mean of cost:\")\n",
    "plt.plot(range(NumSimu), meancost_record, label='plot of the mean of mean_cost ')\n",
    "plt.axhline(4.5, color='r', ls='dashed', lw=1.5, label='benchmark')\n",
    "plt.ylim(4.2, 4.8)\n",
    "plt.legend()  "
   ]
  },
  {
   "cell_type": "markdown",
   "metadata": {},
   "source": [
    "By the way, to save the memory space, we don't need to record the mean cost each time. We can summarize the total cost and then divided it by the number n."
   ]
  },
  {
   "cell_type": "code",
   "execution_count": 6,
   "metadata": {},
   "outputs": [
    {
     "name": "stdout",
     "output_type": "stream",
     "text": [
      "The mean cost to get the boundary is: 4.5418\n"
     ]
    }
   ],
   "source": [
    "#your code \n",
    "\n",
    "n = 10000\n",
    "cost_sum = 0\n",
    "for i in range(n):\n",
    "    ix = [2,2]\n",
    "    tot_cost = 0.\n",
    "    while g1.is_interior(ix):\n",
    "        #ipdb.set_trace()\n",
    "        run_cost, ix = g1.step_random(ix)\n",
    "        tot_cost+=run_cost\n",
    "    cost_sum += tot_cost\n",
    "\n",
    "mean_cost = cost_sum / n\n",
    "print(\"The mean cost to get the boundary is:\", mean_cost)"
   ]
  },
  {
   "cell_type": "code",
   "execution_count": null,
   "metadata": {},
   "outputs": [],
   "source": []
  }
 ],
 "metadata": {
  "kernelspec": {
   "display_name": "Python 3",
   "language": "python",
   "name": "python3"
  },
  "language_info": {
   "codemirror_mode": {
    "name": "ipython",
    "version": 3
   },
   "file_extension": ".py",
   "mimetype": "text/x-python",
   "name": "python",
   "nbconvert_exporter": "python",
   "pygments_lexer": "ipython3",
   "version": "3.7.3"
  },
  "latex_envs": {
   "LaTeX_envs_menu_present": true,
   "autoclose": false,
   "autocomplete": true,
   "bibliofile": "biblio.bib",
   "cite_by": "apalike",
   "current_citInitial": 1,
   "eqLabelWithNumbers": true,
   "eqNumInitial": 1,
   "hotkeys": {
    "equation": "Ctrl-E",
    "itemize": "Ctrl-I"
   },
   "labels_anchors": false,
   "latex_user_defs": false,
   "report_style_numbering": false,
   "user_envs_cfg": false
  },
  "varInspector": {
   "cols": {
    "lenName": 16,
    "lenType": 16,
    "lenVar": 40
   },
   "kernels_config": {
    "python": {
     "delete_cmd_postfix": "",
     "delete_cmd_prefix": "del ",
     "library": "var_list.py",
     "varRefreshCmd": "print(var_dic_list())"
    },
    "r": {
     "delete_cmd_postfix": ") ",
     "delete_cmd_prefix": "rm(",
     "library": "var_list.r",
     "varRefreshCmd": "cat(var_dic_list()) "
    }
   },
   "types_to_exclude": [
    "module",
    "function",
    "builtin_function_or_method",
    "instance",
    "_Feature"
   ],
   "window_display": false
  }
 },
 "nbformat": 4,
 "nbformat_minor": 2
}
