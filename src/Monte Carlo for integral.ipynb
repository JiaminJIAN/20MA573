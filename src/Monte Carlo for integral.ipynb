{
  "nbformat": 4,
  "nbformat_minor": 0,
  "metadata": {
    "colab": {
      "name": "Monte Carlo for integral",
      "provenance": [],
      "collapsed_sections": [],
      "authorship_tag": "ABX9TyNGVKIjJAcEcmYfm/qCXF1X",
      "include_colab_link": true
    },
    "kernelspec": {
      "name": "python3",
      "display_name": "Python 3"
    }
  },
  "cells": [
    {
      "cell_type": "markdown",
      "metadata": {
        "id": "view-in-github",
        "colab_type": "text"
      },
      "source": [
        "<a href=\"https://colab.research.google.com/github/JiaminJIAN/20MA573/blob/master/src/Monte%20Carlo%20for%20integral.ipynb\" target=\"_parent\"><img src=\"https://colab.research.google.com/assets/colab-badge.svg\" alt=\"Open In Colab\"/></a>"
      ]
    },
    {
      "cell_type": "markdown",
      "metadata": {
        "id": "bN2twgj4rZ_Q",
        "colab_type": "text"
      },
      "source": [
        "## **Monte Carlo for integral**\n",
        "\n",
        "### **Exercise 1:**\n",
        "\n",
        "Our goal is to compute, using OMC by exact sampling\n",
        "\n",
        "$$\\alpha = \\int_{0}^{1} h(x) \\, d x$$\n",
        "\n",
        "where \n",
        "\n",
        "$$h(x) = 100 I_{(0, 1/100)} (x) + 1 I_{(1/100, 1)} (x).$$\n",
        "\n",
        "The exact value shall be $\\alpha = 1.99$.\n",
        "\n",
        "- Implement the Algorithm 1 for estimator $\\hat{\\alpha}_{N}$;\n",
        "\n",
        "- Estimae $MSE(\\hat{\\alpha}_{N})$ for $N = 2^{5}, \\dots, 2^{10}$ and plot log-log chart.\n",
        "\n",
        "**Analysis:**\n",
        "\n",
        "We write\n",
        "\n",
        "$$\\alpha = \\mathbb{E}[X] = \\mathbb{E}[h(Y)],$$\n",
        "\n",
        "where $X = h(Y)$ and $Y \\sim U(0, 1)$. In other words, although $X$-sampling is not directly avaliable in python, one can use $U(0, 1)$ random variable generator to produce $Y_{i}$, then compute $h(Y_{i})$ for the samle $X_{i}$."
      ]
    },
    {
      "cell_type": "markdown",
      "metadata": {
        "id": "wOP86VbDrbow",
        "colab_type": "text"
      },
      "source": [
        "### **Solution:**\n",
        "\n"
      ]
    },
    {
      "cell_type": "markdown",
      "metadata": {
        "id": "PR2D7STEybzI",
        "colab_type": "text"
      },
      "source": [
        "Firstly we import the packages we need and design the function $h(x)$ and the estimator $\\hat{\\alpha}_{N}$."
      ]
    },
    {
      "cell_type": "code",
      "metadata": {
        "id": "H82gXvBbvl0v",
        "colab_type": "code",
        "colab": {}
      },
      "source": [
        "import numpy as np\n",
        "from scipy import stats\n",
        "from scipy.stats import norm\n",
        "import matplotlib.pyplot as plt\n",
        "import seaborn as sns\n",
        "plt.style.use('seaborn')\n",
        "%matplotlib inline"
      ],
      "execution_count": 0,
      "outputs": []
    },
    {
      "cell_type": "code",
      "metadata": {
        "id": "KsNgBFfnrZPT",
        "colab_type": "code",
        "colab": {}
      },
      "source": [
        "def h(x):\n",
        "  if x < 0.01 and x > 0:\n",
        "    y = 100\n",
        "  elif x < 1 and x > 0.01:\n",
        "    y = 1\n",
        "  return y\n",
        "\n",
        "def MC_integral(N):\n",
        "  s = 0\n",
        "  for i in range(N):\n",
        "    X = np.random.uniform(low=0, high=1)\n",
        "    s = s + h(X)\n",
        "  return s/N\n"
      ],
      "execution_count": 0,
      "outputs": []
    },
    {
      "cell_type": "markdown",
      "metadata": {
        "id": "dkz1rfEcyypk",
        "colab_type": "text"
      },
      "source": [
        "Then we set $N = 1000000$, and we can get an estimator of the integral."
      ]
    },
    {
      "cell_type": "code",
      "metadata": {
        "id": "i2k-nR23vpMZ",
        "colab_type": "code",
        "outputId": "948e7969-3bd5-4566-a3a6-216615fbb663",
        "colab": {
          "base_uri": "https://localhost:8080/",
          "height": 51
        }
      },
      "source": [
        "print(\"The estimation of the integral is:\")\n",
        "print(MC_integral(1000000))"
      ],
      "execution_count": 3,
      "outputs": [
        {
          "output_type": "stream",
          "text": [
            "The estimation of the integral is:\n",
            "1.995247\n"
          ],
          "name": "stdout"
        }
      ]
    },
    {
      "cell_type": "code",
      "metadata": {
        "id": "vXTaCu46xot_",
        "colab_type": "code",
        "colab": {}
      },
      "source": [
        "estimator_list = []\n",
        "\n",
        "def MSE_integral(N_simu):\n",
        "  for i in range(N_simu):\n",
        "    a = MC_integral(1000)\n",
        "    estimator_list.append(a)\n",
        "  return np.var(estimator_list)"
      ],
      "execution_count": 0,
      "outputs": []
    },
    {
      "cell_type": "code",
      "metadata": {
        "id": "oPexNb1Ix_dl",
        "colab_type": "code",
        "outputId": "2183fbad-58da-42ea-a54c-ef37305e24dd",
        "colab": {
          "base_uri": "https://localhost:8080/",
          "height": 282
        }
      },
      "source": [
        "nn = np.arange(5, 11)\n",
        "MSE_list = []\n",
        "\n",
        "for N_simu in nn:\n",
        "  mse = MSE_integral(np.power(2, N_simu))\n",
        "  MSE_list.append(mse)\n",
        "\n",
        "yy = np.log2(MSE_list)\n",
        "plt.plot(nn, yy)"
      ],
      "execution_count": 8,
      "outputs": [
        {
          "output_type": "execute_result",
          "data": {
            "text/plain": [
              "[<matplotlib.lines.Line2D at 0x7f8508a3def0>]"
            ]
          },
          "metadata": {
            "tags": []
          },
          "execution_count": 8
        },
        {
          "output_type": "display_data",
          "data": {
            "image/png": "[encoded data removed]",
            "text/plain": [
              "<Figure size 432x288 with 1 Axes>"
            ]
          },
          "metadata": {
            "tags": []
          }
        }
      ]
    },
    {
      "cell_type": "code",
      "metadata": {
        "id": "YSfWVDY2zlJo",
        "colab_type": "code",
        "outputId": "475cb21d-fc0b-415f-966d-1cd04b937b93",
        "colab": {
          "base_uri": "https://localhost:8080/",
          "height": 51
        }
      },
      "source": [
        "print(\"The MSE of each simulation is:\")\n",
        "print(MSE_list)"
      ],
      "execution_count": 9,
      "outputs": [
        {
          "output_type": "stream",
          "text": [
            "The MSE of each simulation is:\n",
            "[0.0905521618566513, 0.09053261499023436, 0.09016557463010204, 0.09059742362587833, 0.09242359841829147, 0.0926529116509885]\n"
          ],
          "name": "stdout"
        }
      ]
    },
    {
      "cell_type": "code",
      "metadata": {
        "id": "XHTeHSliz50T",
        "colab_type": "code",
        "outputId": "be0c86f7-b6bb-4763-ded8-0e37cbe928c0",
        "colab": {
          "base_uri": "https://localhost:8080/",
          "height": 34
        }
      },
      "source": [
        "import scipy.stats as ss\n",
        "out = ss.linregress(nn, yy)\n",
        "print('the slope between log2(MSE) and n is ' + str(-out[0]))"
      ],
      "execution_count": 10,
      "outputs": [
        {
          "output_type": "stream",
          "text": [
            "the slope between log2(MSE) and n is -0.0074800102259835145\n"
          ],
          "name": "stdout"
        }
      ]
    },
    {
      "cell_type": "markdown",
      "metadata": {
        "id": "UqclyBG_z-YO",
        "colab_type": "text"
      },
      "source": [
        "We can see that when the number of simulation is big enough, we can always get the accurate estimator and the $MSE(\\hat{\\pi}_{N})$ is a very small number. When the number of simulation increase, we may not obtain a more accurate estimator."
      ]
    }
  ]
}