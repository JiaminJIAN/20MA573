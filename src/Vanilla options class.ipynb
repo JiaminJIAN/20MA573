{
  "nbformat": 4,
  "nbformat_minor": 0,
  "metadata": {
    "colab": {
      "name": "Vanilla_options_class",
      "provenance": [],
      "include_colab_link": true
    },
    "kernelspec": {
      "display_name": "Python 3",
      "language": "python",
      "name": "python3"
    },
    "language_info": {
      "codemirror_mode": {
        "name": "ipython",
        "version": 3
      },
      "file_extension": ".py",
      "mimetype": "text/x-python",
      "name": "python",
      "nbconvert_exporter": "python",
      "pygments_lexer": "ipython3",
      "version": "3.7.4"
    }
  },
  "cells": [
    {
      "cell_type": "markdown",
      "metadata": {
        "id": "view-in-github",
        "colab_type": "text"
      },
      "source": [
        "<a href=\"https://colab.research.google.com/github/JiaminJIAN/20MA573/blob/master/src/Vanilla%20options%20class.ipynb\" target=\"_parent\"><img src=\"https://colab.research.google.com/assets/colab-badge.svg\" alt=\"Open In Colab\"/></a>"
      ]
    },
    {
      "cell_type": "markdown",
      "metadata": {
        "colab_type": "text",
        "id": "eplzMXxaKsPg"
      },
      "source": [
        "# Abstract\n",
        "\n",
        "- Create european call/put  class\n",
        "- Analyse payoff structures of option combinations, such as writeen straddle and butterfly."
      ]
    },
    {
      "cell_type": "markdown",
      "metadata": {
        "colab_type": "text",
        "id": "iBhy7g4PLNZd"
      },
      "source": [
        "# Anal\n",
        "\n",
        "Payoff of European call with \n",
        "strike $K$ and exercise price $S$ is given as\n",
        "$$C(S, K)= (S - K)^+ = \\max\\{S- K, 0\\}.$$\n",
        "Similarly European put with \n",
        "strike $K$ and exercise price $S$ is given as\n",
        "$$P(S, K)= (S - K)^- = \\max\\{-S+ K, 0\\}.$$\n",
        "Traders use different option combinations according to market analysis to meet their various objectives. Please find wiki for those combinations and their use.\n",
        "\n",
        "The introduction of option strategy on the wiki is as following: [Option strategy](https://en.wikipedia.org/wiki/Options_strategy)\n",
        "\n",
        "\n"
      ]
    },
    {
      "cell_type": "markdown",
      "metadata": {
        "colab_type": "text",
        "id": "OMBWh9sCNhWS"
      },
      "source": [
        "# Code\n",
        "\n",
        "First, we create call/put class"
      ]
    },
    {
      "cell_type": "code",
      "metadata": {
        "colab_type": "code",
        "id": "GhQhpUpypenq",
        "colab": {}
      },
      "source": [
        "'''=========\n",
        "option class init\n",
        "=========='''\n",
        "class VanillaOption:\n",
        "    def __init__(\n",
        "        self,\n",
        "        otype = 1, # 1: 'call'\n",
        "                  # -1: 'put'\n",
        "        strike = 110.,\n",
        "        maturity = 1.,\n",
        "        market_price = 10.):\n",
        "      self.otype = otype\n",
        "      self.strike = strike\n",
        "      self.maturity = maturity\n",
        "      self.market_price = market_price #this will be used for calibration\n",
        "      \n",
        "        \n",
        "    def payoff(self, s): #s: excercise price\n",
        "      otype = self.otype\n",
        "      k = self.strike\n",
        "      maturity = self.maturity\n",
        "      return max([0, (s - k)*otype])"
      ],
      "execution_count": 0,
      "outputs": []
    },
    {
      "cell_type": "markdown",
      "metadata": {
        "colab_type": "text",
        "id": "a92eaPhnN9Kn"
      },
      "source": [
        "__Test__\n",
        "\n",
        "We will use a few examples to test the above class.\n",
        "\n",
        "__ex__\n",
        "\n",
        "plot payoff diagram of 40-strike call as a function of exercise price."
      ]
    },
    {
      "cell_type": "code",
      "metadata": {
        "id": "mTj_qdf8REob",
        "colab_type": "code",
        "colab": {}
      },
      "source": [
        "import numpy as np\n",
        "import matplotlib.pyplot as plt\n",
        "from pylab import plt\n",
        "plt.style.use('seaborn')\n",
        "%matplotlib inline"
      ],
      "execution_count": 0,
      "outputs": []
    },
    {
      "cell_type": "code",
      "metadata": {
        "id": "LQV8zGwRREoe",
        "colab_type": "code",
        "outputId": "b0f6bb0c-9516-402e-e78c-309921288700",
        "colab": {
          "base_uri": "https://localhost:8080/",
          "height": 294
        }
      },
      "source": [
        "\n",
        "#create option instance, maturity is just arbitrarily given\n",
        "opt1 = VanillaOption(otype = 1, strike = 40, maturity= 1.) \n",
        "stk_list = range(20, 61)\n",
        "payoff_list = [opt1.payoff(s) for s in stk_list]\n",
        "plt.plot(stk_list, payoff_list)\n",
        "\n",
        "#decorations\n",
        "plt.xlabel('exercise price')\n",
        "plt.ylabel('payoff')\n",
        "plt.title('40-strike call');\n",
        "plt.show()"
      ],
      "execution_count": 0,
      "outputs": [
        {
          "output_type": "display_data",
          "data": {
            "image/png": "[encoded data removed]",
            "text/plain": [
              "<Figure size 432x288 with 1 Axes>"
            ]
          },
          "metadata": {
            "tags": []
          }
        }
      ]
    },
    {
      "cell_type": "markdown",
      "metadata": {
        "id": "5t-O9Q-mTiXV",
        "colab_type": "text"
      },
      "source": [
        "For the put option, we can also give the payoff diagram.  Next we plot payoff diagram of 40-strike put as a function of exercise price."
      ]
    },
    {
      "cell_type": "code",
      "metadata": {
        "colab_type": "code",
        "id": "YRgXQ89sPEn3",
        "outputId": "ff3bd0e7-96eb-4dff-c7ba-7b9d8384979b",
        "colab": {
          "base_uri": "https://localhost:8080/",
          "height": 294
        }
      },
      "source": [
        "#create option instance, maturity is just arbitrarily given\n",
        "opt2 = VanillaOption(otype = -1, strike = 40, maturity= 1.) \n",
        "stk_list = range(20, 61)\n",
        "payoff_list2 = [opt2.payoff(s) for s in stk_list]\n",
        "plt.plot(stk_list, payoff_list2)\n",
        "\n",
        "#decorations\n",
        "plt.xlabel('exercise price')\n",
        "plt.ylabel('payoff')\n",
        "plt.title('40-strike put');\n",
        "plt.show()"
      ],
      "execution_count": 0,
      "outputs": [
        {
          "output_type": "display_data",
          "data": {
            "image/png": "[encoded data removed]",
            "text/plain": [
              "<Figure size 432x288 with 1 Axes>"
            ]
          },
          "metadata": {
            "tags": []
          }
        }
      ]
    },
    {
      "cell_type": "code",
      "metadata": {
        "id": "GK4LwfyGT_qN",
        "colab_type": "code",
        "colab": {}
      },
      "source": [
        ""
      ],
      "execution_count": 0,
      "outputs": []
    }
  ]
}