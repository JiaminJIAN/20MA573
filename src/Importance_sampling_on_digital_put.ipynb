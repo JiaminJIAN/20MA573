{
  "nbformat": 4,
  "nbformat_minor": 0,
  "metadata": {
    "colab": {
      "name": "Importance sampling on digital put.ipynb",
      "provenance": [],
      "collapsed_sections": [],
      "authorship_tag": "ABX9TyMmpHLP2tlRvBeqz34JNzy7",
      "include_colab_link": true
    },
    "kernelspec": {
      "name": "python3",
      "display_name": "Python 3"
    }
  },
  "cells": [
    {
      "cell_type": "markdown",
      "metadata": {
        "id": "view-in-github",
        "colab_type": "text"
      },
      "source": [
        "<a href=\"https://colab.research.google.com/github/JiaminJIAN/20MA573/blob/master/src/Importance_sampling_on_digital_put.ipynb\" target=\"_parent\"><img src=\"https://colab.research.google.com/assets/colab-badge.svg\" alt=\"Open In Colab\"/></a>"
      ]
    },
    {
      "cell_type": "markdown",
      "metadata": {
        "id": "5kehCwAVrYNq",
        "colab_type": "text"
      },
      "source": [
        "## **Importance sampling**\n",
        "\n",
        "### **Exercise:**\n",
        "\n",
        "Asset price under $\\mathbb{Q}$ follows \n",
        "\n",
        "$$S_{t} = S_{0} \\exp \\{\\mu t + \\sigma W_{t} \\}.$$\n",
        "\n",
        "Consider Digital put with its payoff\n",
        "\n",
        "$$h(S_{T}) = I (S_{T} < S_{0} e^{-b}) .$$\n",
        "\n",
        "We want to find the forward price:\n",
        "\n",
        "$$v = \\mathbb{E}^{\\mathbb{Q}} [h(S_{T})].$$\n",
        "\n",
        "Parameters are given as\n",
        "\n",
        "$$r = 0.03, \\sigma = 0.2, \\mu = r - \\frac{1}{2} \\sigma^{2} = 0.01, T = 1, b = 0.39.$$\n",
        "\n",
        "- Prove that the exact price is $0.02275$.\n",
        "- Use OMC find the price.\n",
        "- Use $IS(\\alpha)$ find the price.\n",
        "- Can you show your approach is optimal?\n",
        "- Prove or demonstrate IS is more efficient to OMC.\n"
      ]
    },
    {
      "cell_type": "code",
      "metadata": {
        "id": "tXxkrCtqrXLF",
        "colab_type": "code",
        "colab": {}
      },
      "source": [
        ""
      ],
      "execution_count": 0,
      "outputs": []
    },
    {
      "cell_type": "markdown",
      "metadata": {
        "id": "F7YBRs1jrZWn",
        "colab_type": "text"
      },
      "source": [
        "## **Solution:**\n",
        "\n",
        "(1) Prove that the exact price is $0.02275$.\n",
        "\n",
        "Solution:\n",
        "\n",
        "\\begin{equation}\n",
        "\\begin{aligned}\n",
        "v &= \\mathbb{E}^{\\mathbb{Q}} [h(S_{T})] \\\\\n",
        "&= \\mathbb{E}^{\\mathbb{Q}} [I (S_{T} < S_{0} e^{-b})] \\\\\n",
        "&= \\mathbb{Q} (S_{T} < S_{0} e^{-b})\\\\\n",
        "&= \\mathbb{Q} (S_{0} \\exp \\{(r - \\frac{1}{2} \\sigma^{2}) T + \\sigma W_{T}\\} < S_{0} e^{-b}) \\\\\n",
        "&= \\mathbb{Q} (Z < - \\frac{b + (r - \\frac{1}{2} \\sigma^{2}) T}{\\sigma \\sqrt{T}}) \\\\\n",
        "&= \\mathbb{Q} (Z < - 2) \\\\\n",
        "&= \\Phi(-2), \\\\\n",
        "\\end{aligned}\n",
        "\\end{equation}\n",
        "where $Z \\sim \\mathcal N (0, 1)$ under probability measure $\\mathbb{Q}$ and $\\Phi(\\cdot)$ is the culmulative distribution function of standard normal variable. Then we know the exact price of this forward is $\\Phi(-2)$."
      ]
    },
    {
      "cell_type": "code",
      "metadata": {
        "id": "GX9evyplxCwa",
        "colab_type": "code",
        "colab": {
          "base_uri": "https://localhost:8080/",
          "height": 34
        },
        "outputId": "0ad5ac7f-07ae-46a9-e4fc-6974968bdc95"
      },
      "source": [
        "import numpy as np\n",
        "import scipy.stats as ss\n",
        "\n",
        "v = ss.norm.cdf(-2) \n",
        "print(\"The exact value of this forward is:\", v)"
      ],
      "execution_count": 1,
      "outputs": [
        {
          "output_type": "stream",
          "text": [
            "The exact value of this forward is: 0.022750131948179195\n"
          ],
          "name": "stdout"
        }
      ]
    },
    {
      "cell_type": "code",
      "metadata": {
        "id": "HnK-lQA61qmg",
        "colab_type": "code",
        "colab": {}
      },
      "source": [
        ""
      ],
      "execution_count": 0,
      "outputs": []
    },
    {
      "cell_type": "markdown",
      "metadata": {
        "id": "NhRvanaixcUb",
        "colab_type": "text"
      },
      "source": [
        "(2) Use OMC find the price.\n",
        "\n",
        "Solution:\n",
        "\n",
        "Since we get $v= \\Phi(-2) $ in (1), then we have the estimator\n",
        "\n",
        "$$\\hat{v}  \\approx \\frac{1}{n} \\sum_{i = 1}^{n} I(X_{i} < -2),$$\n",
        "\n",
        "where $X_{i} \\sim \\mathcal{N}(0, 1)$."
      ]
    },
    {
      "cell_type": "code",
      "metadata": {
        "id": "p7Uxv8QZz7jP",
        "colab_type": "code",
        "colab": {}
      },
      "source": [
        "## Use monte carlo method to get the forward price\n",
        "\n",
        "def monte_carlo_v(N):\n",
        "  sum_v = 0\n",
        "  for i in range(N):\n",
        "    x = np.random.normal()\n",
        "    if x < -2:\n",
        "      sum_v += 1\n",
        "  return sum_v/N"
      ],
      "execution_count": 0,
      "outputs": []
    },
    {
      "cell_type": "code",
      "metadata": {
        "id": "KxRmNmWV0zEj",
        "colab_type": "code",
        "colab": {
          "base_uri": "https://localhost:8080/",
          "height": 34
        },
        "outputId": "b77e67ee-e5a8-40cc-a20f-1252e285ea8c"
      },
      "source": [
        "## Test the monte carlo method\n",
        "\n",
        "v_hat = monte_carlo_v(10000)\n",
        "print(\"The value of this forward by the monte carlo method is:\", v_hat)"
      ],
      "execution_count": 3,
      "outputs": [
        {
          "output_type": "stream",
          "text": [
            "The value of this forward by the monte carlo method is: 0.0233\n"
          ],
          "name": "stdout"
        }
      ]
    },
    {
      "cell_type": "code",
      "metadata": {
        "id": "4D2FIVB81pfI",
        "colab_type": "code",
        "colab": {}
      },
      "source": [
        ""
      ],
      "execution_count": 0,
      "outputs": []
    },
    {
      "cell_type": "markdown",
      "metadata": {
        "id": "qF8lbtWB1pxl",
        "colab_type": "text"
      },
      "source": [
        "(3) Use $IS(\\alpha)$ find the price.\n",
        "\n",
        "Solution:\n",
        "\n",
        "For the importance sampling , we suppose $\\phi_{\\alpha}(\\cdot)$ is the probability distribution function of the Gaussian random variable with mean $-\\alpha$ and variance $1$. Then we have\n",
        "\n",
        "\\begin{equation}\n",
        "\\begin{aligned}\n",
        "v &= \\Phi(-2) \\\\\n",
        "&= \\int_{- \\infty}^{-2} \\phi_{0}(x) \\, d x \\\\\n",
        "&= \\int_{- \\infty}^{-2} \\frac{\\phi_{0}(x)}{\\phi_{\\alpha}(x)} \\phi_{\\alpha}(x) \\, d x \\\\\n",
        "&= \\int_{- \\infty}^{-2} e^{\\frac{1}{2} \\alpha^{2} + \\alpha x} \\phi_{\\alpha} (x) \\, d x \\\\\n",
        "&= \\mathbb{E} [I(Y < - 2) e^{\\frac{1}{2} \\alpha^{2} + \\alpha Y} | Y \\sim \\phi_{\\alpha}] \\\\\n",
        "&\\approx \\frac{1}{n} \\sum_{i = 1}^{n} [I(Y_{i} < - 2) e^{\\frac{1}{2} \\alpha^{2} + \\alpha Y_{i}}]. \\\\\n",
        "\\end{aligned}\n",
        "\\end{equation}"
      ]
    },
    {
      "cell_type": "code",
      "metadata": {
        "id": "w6PZq6sZ4vU-",
        "colab_type": "code",
        "colab": {}
      },
      "source": [
        "## Use importance sampling method to get the forward price\n",
        "\n",
        "def importance_sampling_v(N, alpha):\n",
        "  sum_v = 0\n",
        "  for i in range(N):\n",
        "    y = np.random.normal(- alpha, 1)\n",
        "    if y < -2:\n",
        "      sum_v += np.exp(0.5 * alpha ** 2 + alpha * y)\n",
        "  return sum_v / N"
      ],
      "execution_count": 0,
      "outputs": []
    },
    {
      "cell_type": "code",
      "metadata": {
        "id": "MO_FFaKK6KA9",
        "colab_type": "code",
        "colab": {
          "base_uri": "https://localhost:8080/",
          "height": 34
        },
        "outputId": "28f7520f-0203-4d50-cced-b657ba1e1c71"
      },
      "source": [
        "## Test the importance sampling method\n",
        "\n",
        "v_hat = importance_sampling_v(10000, 4)\n",
        "print(\"The value of this forward by the importance sampling method is:\", v_hat)"
      ],
      "execution_count": 5,
      "outputs": [
        {
          "output_type": "stream",
          "text": [
            "The value of this forward by the importance sampling method is: 0.022070269486359897\n"
          ],
          "name": "stdout"
        }
      ]
    },
    {
      "cell_type": "markdown",
      "metadata": {
        "id": "NF1Ac12vJ7X8",
        "colab_type": "text"
      },
      "source": [
        "We can use the importance sampling method to generate a sequence of estimators, and then we can calculate the sample variance of this sequence. And the $\\alpha$ which is correspondent to the minimum variance is the desired one. But this method may not very exactly."
      ]
    },
    {
      "cell_type": "code",
      "metadata": {
        "id": "P7nB4l0S72zV",
        "colab_type": "code",
        "colab": {
          "base_uri": "https://localhost:8080/",
          "height": 34
        },
        "outputId": "5010477b-a66f-4966-8185-f4d046da830a"
      },
      "source": [
        "estimate_list = [] \n",
        "variance_list = []\n",
        "for i in range(10):\n",
        "  for j in range(100):\n",
        "    estimate_list.append(importance_sampling_v(1000, i))\n",
        "  variance_list.append(np.var(estimate_list))\n",
        "\n",
        "alpha_optimal1 = variance_list.index(min(variance_list))\n",
        "print(\"The optimal choice of alpha is\", alpha_optimal1)"
      ],
      "execution_count": 6,
      "outputs": [
        {
          "output_type": "stream",
          "text": [
            "The optimal choice of alpha is 3\n"
          ],
          "name": "stdout"
        }
      ]
    },
    {
      "cell_type": "code",
      "metadata": {
        "id": "e9hfjV4s_PCu",
        "colab_type": "code",
        "colab": {
          "base_uri": "https://localhost:8080/",
          "height": 34
        },
        "outputId": "bd9c55e6-cc4e-4082-849f-29a333e96e9a"
      },
      "source": [
        "v_hat = importance_sampling_v(10000, alpha_optimal1)\n",
        "print(\"The value of this forward by the importance sampling method is:\", v_hat)"
      ],
      "execution_count": 7,
      "outputs": [
        {
          "output_type": "stream",
          "text": [
            "The value of this forward by the importance sampling method is: 0.023079668609016963\n"
          ],
          "name": "stdout"
        }
      ]
    },
    {
      "cell_type": "code",
      "metadata": {
        "id": "x2-MajnuA3xD",
        "colab_type": "code",
        "colab": {}
      },
      "source": [
        ""
      ],
      "execution_count": 0,
      "outputs": []
    },
    {
      "cell_type": "markdown",
      "metadata": {
        "id": "nzeuw5S-A-vl",
        "colab_type": "text"
      },
      "source": [
        "(4) Can you show your approach is optimal?\n",
        "\n",
        "Solution:\n",
        "\n",
        "By the result we get from (3), we know that when $\\alpha = 3$, the variance of the extimators by the importance sampling method is the minimum one. We can also calculate the varaince of the estimators. As \n",
        "\n",
        "$$\\hat{v} = \\frac{1}{n} \\sum_{i = 1}^{n} [I(Y_{i} < - 2) e^{\\frac{1}{2} \\alpha^{2} + \\alpha Y_{i}}]$$\n",
        "\n",
        "by the importance sampling method. We know that \n",
        "\n",
        "\\begin{equation}\n",
        "\\begin{aligned}\n",
        "MSE(\\hat{v}) &= var(\\hat{v}) \\\\\n",
        "&= \\frac{1}{n} var(I(Y_{i} < - 2) e^{\\frac{1}{2} \\alpha^{2} + \\alpha Y_{i}}) \\\\\n",
        "&= \\frac{1}{n} \\{ \\mathbb{E} [I(Y_{i} < - 2) e^{ \\alpha^{2} + 2 \\alpha Y_{i}}] - \\Phi^{2}(-2) \\}. \\\\\n",
        "\\end{aligned}\n",
        "\\end{equation}\n",
        "\n",
        "As we have\n",
        "\n",
        "\\begin{equation}\n",
        "\\begin{aligned}\n",
        "\\mathbb{E} [I(Y_{i} < - 2) e^{ \\alpha^{2} + 2 \\alpha Y_{i}}] &= \\int_{- \\infty}^{-2} e^{\\alpha^{2}+ 2 \\alpha y}  \\frac{1}{\\sqrt{2 \\pi}} e^{- \\frac{(y + \\alpha)^{2}}{2}} \\, d y \\\\\n",
        "&= \\int_{- \\infty}^{-2} \\frac{1}{\\sqrt{2 \\pi}} e^{- \\frac{y^{2} - \\alpha y - \\alpha^{2}}{2}} \\, d y \\\\\n",
        "&= \\int_{- \\infty}^{-2} \\frac{1}{\\sqrt{2 \\pi}} e^{- \\frac{(y - \\alpha)^{2}}{2}}  e^{\\alpha^{2}} \\, d y  \\\\\n",
        "&= e^{\\alpha^{2}} \\Phi(-2-\\alpha),\n",
        "\\end{aligned}\n",
        "\\end{equation}\n",
        "\n",
        "then we can get\n",
        "\n",
        "$$MSE(\\hat{v}) = \\frac{1}{n} \\{e^{\\alpha^{2}} \\Phi(-2-\\alpha) - \\Phi^{2}(-2)\\}.$$\n",
        "\n",
        "Thus we know that the desired $\\alpha$ satisfies the equation:\n",
        "\n",
        "$$2 \\alpha \\Phi(- 2 - \\alpha) = \\phi(-2 - \\alpha).$$"
      ]
    },
    {
      "cell_type": "code",
      "metadata": {
        "id": "AD2kdGv7F2IA",
        "colab_type": "code",
        "colab": {
          "base_uri": "https://localhost:8080/",
          "height": 34
        },
        "outputId": "c2d34c77-3db2-43e9-893f-b157d18eeff0"
      },
      "source": [
        "## get the optimal alpha\n",
        "\n",
        "mse_list = []\n",
        "for i in range(10):\n",
        "  mse_list.append(np.exp(i**2) * ss.norm.cdf(-2 - i) - ss.norm.cdf(-2) ** 2)\n",
        "\n",
        "alpha_optimal2 = mse_list.index(min(mse_list))\n",
        "print(\"The optimal choice of alpha is\", alpha_optimal2)"
      ],
      "execution_count": 8,
      "outputs": [
        {
          "output_type": "stream",
          "text": [
            "The optimal choice of alpha is 2\n"
          ],
          "name": "stdout"
        }
      ]
    },
    {
      "cell_type": "code",
      "metadata": {
        "id": "XY9acdfHLJ-f",
        "colab_type": "code",
        "colab": {
          "base_uri": "https://localhost:8080/",
          "height": 34
        },
        "outputId": "15d1cdec-d773-4db1-a0a3-41d7680a579b"
      },
      "source": [
        "v_hat = importance_sampling_v(10000, alpha_optimal2)\n",
        "print(\"The value of this forward by the importance sampling method is:\", v_hat)"
      ],
      "execution_count": 9,
      "outputs": [
        {
          "output_type": "stream",
          "text": [
            "The value of this forward by the importance sampling method is: 0.02335980963571127\n"
          ],
          "name": "stdout"
        }
      ]
    },
    {
      "cell_type": "code",
      "metadata": {
        "id": "DdMLgcUMLTkg",
        "colab_type": "code",
        "colab": {}
      },
      "source": [
        ""
      ],
      "execution_count": 0,
      "outputs": []
    },
    {
      "cell_type": "markdown",
      "metadata": {
        "id": "fukqqZZg7ucv",
        "colab_type": "text"
      },
      "source": [
        "(5) Prove or demonstrate IS is more efficient to OMC.\n"
      ]
    },
    {
      "cell_type": "markdown",
      "metadata": {
        "id": "_kyaDtMpLVMa",
        "colab_type": "text"
      },
      "source": [
        "Solution:\n",
        "\n",
        "By the Monte-Carlo method, we have\n",
        "\n",
        "$$\\hat{v_{1}} \\approx \\frac{1}{n} \\sum_{i = 1}^{n} I(X_{i} < -2),$$\n",
        "\n",
        "then the variance of this estimator is\n",
        "\n",
        "\\begin{equation}\n",
        "\\begin{aligned}\n",
        "MSE(\\hat{v_{1}}) &= var(\\hat{v_{1}}) \\\\\n",
        "&= \\frac{1}{n} var(I(X_{i} < - 2)) \\\\\n",
        "&= \\frac{1}{n} \\{ \\mathbb{E} [I(X_{i} < - 2)] - (\\mathbb{E} [I(X_{i} < - 2)])^{2} \\} \\\\\n",
        "&= \\frac{1}{n} \\{\\Phi(-2) - (\\Phi(-2))^{2}\\}.\n",
        "\\end{aligned}\n",
        "\\end{equation}\n",
        "\n",
        "For importance sampling method, we have proved that\n",
        "\n",
        "$$MSE(\\hat{v_{2}}) = \\frac{1}{n} \\{e^{\\alpha^{2}} \\Phi(-2-\\alpha) - \\Phi^{2}(-2)\\},$$\n",
        "\n",
        "hence we have\n",
        "\n",
        "$$MSE(\\hat{v_{1}}) - MSE(\\hat{v_{2}}) = \\frac{\\Phi(-2) - e^{\\alpha^{2}} \\Phi(-2-\\alpha)}{n}.$$\n",
        "\n",
        "When $\\alpha = 2$, the difference of MSE between these two method is\n",
        "\n",
        "$$\\frac{\\Phi(-2) - e^{4} \\Phi(-4)}{n}$$\n",
        "\n"
      ]
    },
    {
      "cell_type": "code",
      "metadata": {
        "id": "_uEqaHNpLUOs",
        "colab_type": "code",
        "colab": {
          "base_uri": "https://localhost:8080/",
          "height": 34
        },
        "outputId": "997fcce0-0e74-41fe-9921-349387075c63"
      },
      "source": [
        "## the difference of MSE between these two method \n",
        "\n",
        "distance = ss.norm.cdf(-2) - np.exp(4) * ss.norm.cdf(-4)\n",
        "print(\"The difference of MSE between these two method is:\", distance)"
      ],
      "execution_count": 10,
      "outputs": [
        {
          "output_type": "stream",
          "text": [
            "The difference of MSE between these two method is: 0.021020940734838522\n"
          ],
          "name": "stdout"
        }
      ]
    },
    {
      "cell_type": "markdown",
      "metadata": {
        "id": "70gMDIJTQZBw",
        "colab_type": "text"
      },
      "source": [
        "Since $\\frac{\\Phi(-2) - e^{4} \\Phi(-4)}{n} > 0$, we know that importance sampling method is more efficient to ordinary Monte-Carlo method."
      ]
    }
  ]
}